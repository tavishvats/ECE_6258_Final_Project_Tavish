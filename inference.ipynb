{
 "cells": [
  {
   "cell_type": "code",
   "execution_count": 1,
   "id": "initial_id",
   "metadata": {
    "collapsed": true,
    "ExecuteTime": {
     "end_time": "2023-12-04T00:06:51.327735800Z",
     "start_time": "2023-12-04T00:06:18.407004500Z"
    }
   },
   "outputs": [],
   "source": [
    "import os\n",
    "import re\n",
    "import cv2\n",
    "import bm3d\n",
    "import pickle\n",
    "import matplotlib.pyplot as plt\n",
    "from skimage.util import img_as_ubyte\n",
    "from tqdm.auto import tqdm\n",
    "from PIL import Image\n",
    "import numpy as np\n",
    "import ssim\n",
    "from skimage.restoration import denoise_nl_means, estimate_sigma\n",
    "from skimage.metrics import peak_signal_noise_ratio, structural_similarity\n",
    "import matlab.engine\n",
    "eng = matlab.engine.start_matlab()"
   ]
  },
  {
   "cell_type": "code",
   "execution_count": null,
   "outputs": [],
   "source": [
    "eng.cd(r'FastEMD', nargout=0)\n",
    "eng.compile_FastEMD(nargout=0)\n",
    "eng.cd(r'..', nargout=0)\n",
    "eng.path_file(nargout=0)"
   ],
   "metadata": {
    "collapsed": false
   },
   "id": "221bb6340a5d723a"
  },
  {
   "cell_type": "markdown",
   "source": [
    "CURE-TSR"
   ],
   "metadata": {
    "collapsed": false
   },
   "id": "ebef55fb9cf063c5"
  },
  {
   "cell_type": "code",
   "execution_count": 21,
   "outputs": [
    {
     "name": "stdout",
     "output_type": "stream",
     "text": [
      "[1.9024836147856548, 0.06541318973721427, 0.02243908561467805, 0.1451149398070856, 0.06561983144214403, 0.0027797950775836156, 0.06484825522400368]\n",
      "[-0.47238722828009827, -0.03945526169018887, -0.02057424461987034, -0.057636712396564205, -0.038046769837880356, -0.0011713274013503971, -0.1138509095196154]\n",
      "[4.922859077623194, 0.2491736283785818, 0.08078874991206053, 0.3481409986640996, 0.13573645798886835, 0.005636688950329427, 0.17569964519766224]\n"
     ]
    }
   ],
   "source": [
    "# with open('IQA_real_bm3d/iqa_SIDD_nlm.pkl', 'rb') as fp:\n",
    "#     iqa = pickle.load(fp)\n",
    "\n",
    "with open('IQA_PolyU/iqa_PolyU_nlm_infer.pkl', 'rb') as fp:\n",
    "    inference = pickle.load(fp)\n",
    "    \n",
    "print(inference['Mean'])\n",
    "print(inference['Min'])\n",
    "print(inference['Max'])"
   ],
   "metadata": {
    "collapsed": false,
    "ExecuteTime": {
     "end_time": "2023-12-04T01:40:07.591414100Z",
     "start_time": "2023-12-04T01:40:07.565025400Z"
    }
   },
   "id": "73b75b808912d505"
  },
  {
   "cell_type": "code",
   "execution_count": null,
   "outputs": [],
   "source": [
    "print(\"Min\")\n",
    "for sign in iqa:\n",
    "    for challenges in iqa[sign]:\n",
    "        diff = np.array(list(challenges['Denoise'])) - np.array(list(challenges['Noise']))\n",
    "        if diff[0] == inference['Min'][0]:\n",
    "            print(\"PSNR\", sign, challenges['Challenge'])\n",
    "        if diff[1] == inference['Min'][1]:\n",
    "            print(\"SSIM\", sign, challenges['Challenge'])\n",
    "        if diff[2] == inference['Min'][2]:\n",
    "            print(\"CW\", sign, challenges['Challenge'])\n",
    "        if diff[3] == inference['Min'][3]:\n",
    "            print(\"U\", sign, challenges['Challenge'])\n",
    "        if diff[4] == inference['Min'][4]:\n",
    "            print(\"MSU\", sign, challenges['Challenge'])\n",
    "        if diff[5] == inference['Min'][5]:\n",
    "            print(\"CSV\", sign, challenges['Challenge'])\n",
    "        if diff[6] == inference['Min'][6]:\n",
    "            print(\"SUMMER\", sign, challenges['Challenge'])\n",
    "            \n",
    "print(\"----------------\")\n",
    "print(\"Max\")\n",
    "\n",
    "for sign in iqa:\n",
    "    for challenges in iqa[sign]:\n",
    "        diff = np.array(list(challenges['Denoise'])) - np.array(list(challenges['Noise']))\n",
    "        if diff[0] == inference['Max'][0]:\n",
    "            print(\"PSNR\", sign, challenges['Challenge'])\n",
    "        if diff[1] == inference['Max'][1]:\n",
    "            print(\"SSIM\", sign, challenges['Challenge'])\n",
    "        if diff[2] == inference['Max'][2]:\n",
    "            print(\"CW\", sign, challenges['Challenge'])\n",
    "        if diff[3] == inference['Max'][3]:\n",
    "            print(\"U\", sign, challenges['Challenge'])\n",
    "        if diff[4] == inference['Max'][4]:\n",
    "            print(\"MSU\", sign, challenges['Challenge'])\n",
    "        if diff[5] == inference['Max'][5]:\n",
    "            print(\"CSV\", sign, challenges['Challenge'])\n",
    "        if diff[6] == inference['Max'][6]:\n",
    "            print(\"SUMMER\", sign, challenges['Challenge'])\n",
    "        \n",
    "        "
   ],
   "metadata": {
    "collapsed": false
   },
   "id": "aba659e47ad9d286"
  },
  {
   "cell_type": "code",
   "execution_count": null,
   "outputs": [],
   "source": [
    "for imgs in iqa:\n",
    "    diff = np.array(list(iqa[imgs][0]['Denoise'])) - np.array(list(iqa[imgs][0]['Noise']))   \n",
    "    if diff[0] == inference['Min'][0]:\n",
    "        print(\"PSNR\", imgs)\n",
    "    if diff[1] == inference['Min'][1]:\n",
    "        print(\"SSIM\", imgs)\n",
    "    if diff[2] == inference['Min'][2]:\n",
    "        print(\"CW\", imgs)\n",
    "    if diff[3] == inference['Min'][3]:\n",
    "        print(\"U\", imgs)\n",
    "    if diff[4] == inference['Min'][4]:\n",
    "        print(\"MSU\", imgs)\n",
    "    if diff[5] == inference['Min'][5]:\n",
    "        print(\"CSV\", imgs)\n",
    "    if diff[6] == inference['Min'][6]:\n",
    "        print(\"SUMMER\", imgs)"
   ],
   "metadata": {
    "collapsed": false
   },
   "id": "f599bcf2c5722dac"
  },
  {
   "cell_type": "code",
   "execution_count": null,
   "outputs": [],
   "source": [],
   "metadata": {
    "collapsed": false
   },
   "id": "68554d29db877a88"
  }
 ],
 "metadata": {
  "kernelspec": {
   "display_name": "Python 3",
   "language": "python",
   "name": "python3"
  },
  "language_info": {
   "codemirror_mode": {
    "name": "ipython",
    "version": 2
   },
   "file_extension": ".py",
   "mimetype": "text/x-python",
   "name": "python",
   "nbconvert_exporter": "python",
   "pygments_lexer": "ipython2",
   "version": "2.7.6"
  }
 },
 "nbformat": 4,
 "nbformat_minor": 5
}
