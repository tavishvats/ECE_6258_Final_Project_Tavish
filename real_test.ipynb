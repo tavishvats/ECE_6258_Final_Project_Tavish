{
 "cells": [
  {
   "cell_type": "code",
   "execution_count": 1,
   "id": "initial_id",
   "metadata": {
    "collapsed": true,
    "ExecuteTime": {
     "end_time": "2023-12-03T17:43:09.795190700Z",
     "start_time": "2023-12-03T17:43:00.995082500Z"
    }
   },
   "outputs": [],
   "source": [
    "import os\n",
    "import cv2\n",
    "import bm3d\n",
    "import pickle\n",
    "import matplotlib.pyplot as plt\n",
    "from PIL import Image\n",
    "import numpy as np\n",
    "import ssim\n",
    "from skimage.util import img_as_ubyte\n",
    "from skimage.metrics import peak_signal_noise_ratio, structural_similarity\n",
    "import matlab.engine\n",
    "eng = matlab.engine.start_matlab()"
   ]
  },
  {
   "cell_type": "code",
   "execution_count": 2,
   "outputs": [],
   "source": [
    "eng.cd(r'FastEMD', nargout=0)\n",
    "eng.compile_FastEMD(nargout=0)\n",
    "eng.cd(r'..', nargout=0)\n",
    "eng.path_file(nargout=0)"
   ],
   "metadata": {
    "collapsed": false,
    "ExecuteTime": {
     "end_time": "2023-12-03T17:43:19.465081100Z",
     "start_time": "2023-12-03T17:43:09.795190700Z"
    }
   },
   "id": "b700e173dbe98e5e"
  },
  {
   "cell_type": "code",
   "execution_count": 3,
   "outputs": [
    {
     "name": "stdout",
     "output_type": "stream",
     "text": [
      "0.008721053710772074\n"
     ]
    }
   ],
   "source": [
    "import pywt\n",
    "\n",
    "# Corrected function with pywt imported\n",
    "def estimate_noise(image_path):\n",
    "    # Load the image\n",
    "    img = cv2.imread(image_path, cv2.IMREAD_GRAYSCALE)\n",
    "    # Convert to float for more precision in calculations\n",
    "    img = np.float32(img) / 255.0\n",
    "    # Perform a Discrete Wavelet Transform (DWT)\n",
    "    coeffs2 = pywt.dwt2(img, 'db1')\n",
    "    # Extract the detail coefficients at the finest scale\n",
    "    _, (LH, HL, HH) = coeffs2\n",
    "    # Calculate the Median Absolute Deviation (MAD) of the HH coefficients\n",
    "    sigma = np.median(np.abs(HH - np.median(HH))) / 0.6745\n",
    "    return sigma * 255  # Scale back to the original range\n",
    "\n",
    "# Re-estimating the noise for the noisy image\n",
    "estimated_noise_std = estimate_noise('Real_Test/LensBlur-1/01_01_02_01_0001.bmp') / 255.\n",
    "print(estimated_noise_std)"
   ],
   "metadata": {
    "collapsed": false,
    "ExecuteTime": {
     "end_time": "2023-12-03T17:44:03.813545500Z",
     "start_time": "2023-12-03T17:44:03.781914500Z"
    }
   },
   "id": "50e53b028c03577f"
  },
  {
   "cell_type": "code",
   "execution_count": 4,
   "outputs": [
    {
     "name": "stdout",
     "output_type": "stream",
     "text": [
      "0.8862745098039215 0.12156862745098039\n"
     ]
    },
    {
     "data": {
      "text/plain": "(-0.5, 15.5, 13.5, -0.5)"
     },
     "execution_count": 4,
     "metadata": {},
     "output_type": "execute_result"
    },
    {
     "data": {
      "text/plain": "<Figure size 640x480 with 1 Axes>",
      "image/png": "[encoded data removed]"
     },
     "metadata": {},
     "output_type": "display_data"
    }
   ],
   "source": [
    "gt = cv2.imread('Unreal_Test/ChallengeFree/02_01_00_00_0001.bmp')\n",
    "gt_img = Image.fromarray(gt, 'RGB')\n",
    "gt_norm = gt.astype('float64') / 255.0\n",
    "print(np.max(gt_norm), np.min(gt_norm))\n",
    "plt.imshow(gt_norm)\n",
    "plt.axis('off')"
   ],
   "metadata": {
    "collapsed": false,
    "ExecuteTime": {
     "end_time": "2023-12-03T17:44:04.561167500Z",
     "start_time": "2023-12-03T17:44:04.372518200Z"
    }
   },
   "id": "af23a7bb6ea6d118"
  },
  {
   "cell_type": "code",
   "execution_count": 5,
   "outputs": [
    {
     "name": "stdout",
     "output_type": "stream",
     "text": [
      "0.8823529411764706 0.13333333333333333\n"
     ]
    },
    {
     "data": {
      "text/plain": "(-0.5, 15.5, 13.5, -0.5)"
     },
     "execution_count": 5,
     "metadata": {},
     "output_type": "execute_result"
    },
    {
     "data": {
      "text/plain": "<Figure size 640x480 with 1 Axes>",
      "image/png": "[encoded data removed]"
     },
     "metadata": {},
     "output_type": "display_data"
    }
   ],
   "source": [
    "noisy = cv2.imread('Unreal_Test/Decolorization-1/02_01_01_01_0001.bmp')\n",
    "noisy_img = Image.fromarray(noisy, 'RGB')\n",
    "noisy_norm = noisy.astype('float64') / 255.0\n",
    "print(np.max(noisy_norm), np.min(noisy_norm))\n",
    "plt.imshow(noisy)\n",
    "plt.axis('off')"
   ],
   "metadata": {
    "collapsed": false,
    "ExecuteTime": {
     "end_time": "2023-12-03T17:44:08.053464600Z",
     "start_time": "2023-12-03T17:44:07.910984Z"
    }
   },
   "id": "cbc55d68c02acd9f"
  },
  {
   "cell_type": "code",
   "execution_count": 15,
   "outputs": [],
   "source": [
    "from skimage.restoration import denoise_nl_means, estimate_sigma\n",
    "def denoise_nlm(img):\n",
    "    sigma_est = np.mean(estimate_sigma(img, channel_axis=2))\n",
    "    print(sigma_est)\n",
    "    denoise_img = denoise_nl_means(img, h= 0.01, fast_mode=True,\n",
    "                               patch_size=5, patch_distance=3, channel_axis=2)\n",
    "    return denoise_img"
   ],
   "metadata": {
    "collapsed": false,
    "ExecuteTime": {
     "end_time": "2023-12-03T17:46:14.117030100Z",
     "start_time": "2023-12-03T17:46:14.117030100Z"
    }
   },
   "id": "87c1b53850f623d4"
  },
  {
   "cell_type": "code",
   "execution_count": 16,
   "outputs": [
    {
     "name": "stdout",
     "output_type": "stream",
     "text": [
      "32.07833050017946\n",
      "0.9965282704648699\n",
      "0.978230606858658\n",
      "0.9217022024439631\n",
      "0.9813740419572905\n",
      "0.9889564933414028\n",
      "4.85009289386919\n"
     ]
    }
   ],
   "source": [
    "noise_psnr = peak_signal_noise_ratio(gt_norm, noisy_norm)\n",
    "noise_ssim = structural_similarity(gt_norm, noisy_norm, data_range=noisy_norm.max() - noisy_norm.min(), channel_axis=2)\n",
    "noise_cw = ssim.SSIM(gt_img).cw_ssim_value(noisy_img)\n",
    "noise_unique = eng.unique_iqa(gt, noisy)\n",
    "noise_msunique = eng.msunique(gt, noisy)\n",
    "noise_csv = eng.csv(gt, noisy)\n",
    "noise_summer = eng.SUMMER(gt, noisy)\n",
    "print(noise_psnr)\n",
    "print(noise_cw)\n",
    "print(noise_ssim)\n",
    "print(noise_unique)\n",
    "print(noise_msunique)\n",
    "print(noise_csv)\n",
    "print(noise_summer)"
   ],
   "metadata": {
    "collapsed": false,
    "ExecuteTime": {
     "end_time": "2023-12-03T17:46:15.032253500Z",
     "start_time": "2023-12-03T17:46:14.827452700Z"
    }
   },
   "id": "24126db9db1f8621"
  },
  {
   "cell_type": "code",
   "execution_count": 17,
   "outputs": [
    {
     "name": "stdout",
     "output_type": "stream",
     "text": [
      "0.014778964793057223\n",
      "32.07714628970529\n",
      "0.9964584496726413\n",
      "0.9781221522602412\n",
      "0.9267201739664617\n",
      "0.9818494403132237\n",
      "0.988879026047237\n",
      "4.849504833393516\n"
     ]
    },
    {
     "data": {
      "text/plain": "<matplotlib.image.AxesImage at 0x24c955ad810>"
     },
     "execution_count": 17,
     "metadata": {},
     "output_type": "execute_result"
    },
    {
     "data": {
      "text/plain": "<Figure size 640x480 with 1 Axes>",
      "image/png": "[encoded data removed]"
     },
     "metadata": {},
     "output_type": "display_data"
    }
   ],
   "source": [
    "denoised = np.clip(denoise_nlm(noisy_norm), 0.0, 1.0)\n",
    "denoised_img = Image.fromarray(img_as_ubyte(denoised), 'RGB')\n",
    "noise_psnr = peak_signal_noise_ratio(gt_norm, denoised)\n",
    "noise_ssim = structural_similarity(gt_norm, denoised, data_range=denoised.max() - denoised.min(), channel_axis=2)\n",
    "noise_cw = ssim.SSIM(gt_img).cw_ssim_value(denoised_img)\n",
    "denoised = np.ascontiguousarray(img_as_ubyte(denoised))\n",
    "noise_unique = eng.unique_iqa(gt, denoised)\n",
    "noise_msunique = eng.msunique(gt, denoised)\n",
    "noise_csv = eng.csv(gt, denoised)\n",
    "noise_summer = eng.SUMMER(gt, denoised)\n",
    "print(noise_psnr)\n",
    "print(noise_cw)\n",
    "print(noise_ssim)\n",
    "print(noise_unique)\n",
    "print(noise_msunique)\n",
    "print(noise_csv)\n",
    "print(noise_summer) \n",
    "plt.imshow(denoised)"
   ],
   "metadata": {
    "collapsed": false,
    "ExecuteTime": {
     "end_time": "2023-12-03T17:46:15.794243700Z",
     "start_time": "2023-12-03T17:46:15.400131200Z"
    }
   },
   "id": "4c70ee2b727fe535"
  },
  {
   "cell_type": "code",
   "execution_count": null,
   "outputs": [],
   "source": [
    "selected_files = {'01': [], '02': [], '03': [], '04': [], '05': [], '06': [], '07': [],\n",
    "                  '08': [], '09': [], '10': [], '11': [], '12': [], '13': [], '14': []}\n",
    "gt_files = []"
   ],
   "metadata": {
    "collapsed": false
   },
   "id": "1858fa4802971c68"
  },
  {
   "cell_type": "code",
   "execution_count": null,
   "outputs": [],
   "source": [
    "for level in range(1, 6):\n",
    "  folder_path = os.path.join('Unreal_Test', f'Snow-{level}')\n",
    "  for file in os.listdir(folder_path):\n",
    "    if file.endswith('.bmp'):\n",
    "      parts = file.split('_')\n",
    "      if parts[2] == '11' and parts[4] == f'00{parts[1]}.bmp':\n",
    "        sign_type = parts[1]\n",
    "        if sign_type in selected_files.keys():\n",
    "          f = os.path.join(folder_path, file)\n",
    "          selected_files[sign_type].append(f)\n",
    "print(selected_files)"
   ],
   "metadata": {
    "collapsed": false
   },
   "id": "8c6ffe7e7588b53f"
  },
  {
   "cell_type": "code",
   "execution_count": null,
   "outputs": [],
   "source": [
    "for sign in selected_files:\n",
    "  for file in os.listdir('Unreal_Test/ChallengeFree'):\n",
    "    parts = file.split('_')\n",
    "    if parts[1] == sign and  parts[4] == f'00{sign}.bmp':\n",
    "      gt_files.append(os.path.join('Unreal_Test/ChallengeFree', file))\n",
    "print(gt_files)"
   ],
   "metadata": {
    "collapsed": false
   },
   "id": "226ab6ffe12e4942"
  },
  {
   "cell_type": "code",
   "execution_count": null,
   "outputs": [],
   "source": [
    "iqa_file = {'01': [], '02': [], '03': [], '04': [], '05': [], '06': [], '07': [],\n",
    "            '08': [], '09': [], '10': [], '11': [], '12': [], '13': [], '14': []}\n",
    "psnr_diff = []\n",
    "ssim_diff = []\n",
    "cw_diff = []\n",
    "u_diff = []\n",
    "msu_diff = []\n",
    "csv_diff = []\n",
    "summer_diff = []\n",
    "\n",
    "for i, sign in enumerate(selected_files):\n",
    "  gt = cv2.imread(gt_files[i])\n",
    "  gt_img = Image.fromarray(gt, 'RGB')\n",
    "  gt_norm = gt.astype('float64') / 255.0\n",
    "  for j, img in enumerate(selected_files[sign]):\n",
    "    noisy = cv2.imread(img)\n",
    "    noisy_img = Image.fromarray(noisy, 'RGB')\n",
    "    noisy_norm = noisy.astype('float64') / 255.0\n",
    "    \n",
    "    noise_psnr = peak_signal_noise_ratio(gt_norm, noisy_norm)\n",
    "    noise_ssim = structural_similarity(gt_norm, noisy_norm, data_range=noisy_norm.max() - noisy_norm.min(), \n",
    "                                       channel_axis=2)\n",
    "    noise_cw = ssim.SSIM(gt_img).cw_ssim_value(noisy_img)\n",
    "    noise_u = eng.unique_iqa(gt, noisy)\n",
    "    noise_msu = eng.msunique(gt, noisy)\n",
    "    noise_csv = eng.csv(gt, noisy)\n",
    "    noise_summer = eng.SUMMER(gt, noisy)\n",
    "    \n",
    "    # sig = estimate_noise(img) / 255.0\n",
    "    denoised = denoise_nlm(noisy_norm)\n",
    "    denoised_img = Image.fromarray((denoised * 255.0).astype(np.uint8), 'RGB')\n",
    "    \n",
    "    denoise_psnr = peak_signal_noise_ratio(gt_norm, denoised)\n",
    "    denoise_ssim = structural_similarity(gt_norm, denoised, data_range=denoised.max() - denoised.min(),\n",
    "                                       channel_axis=2)\n",
    "    denoise_cw = ssim.SSIM(gt_img).cw_ssim_value(denoised_img)\n",
    "    denoised = np.ascontiguousarray((denoised * 255.0).astype(np.uint8))\n",
    "    denoised_u = eng.unique_iqa(gt, denoised)\n",
    "    denoised_msu = eng.msunique(gt, denoised)\n",
    "    denoised_csv = eng.csv(gt, denoised)\n",
    "    denoised_summer = eng.SUMMER(gt, denoised)\n",
    "    \n",
    "    iqa = {\"Challenge\": j+1,\"Noise\": (noise_psnr, noise_ssim, noise_cw, noise_u, noise_msu, noise_csv, noise_summer), \n",
    "           \"Denoise\": (denoise_psnr,denoise_ssim, denoise_cw, denoised_u, denoised_msu, denoised_csv, denoised_summer)}    \n",
    "    iqa_file[sign].append(iqa)\n",
    "    \n",
    "    psnr_diff.append(denoise_psnr - noise_psnr)\n",
    "    ssim_diff.append(denoise_ssim - noise_ssim)\n",
    "    cw_diff.append(denoise_cw - noise_cw)\n",
    "    u_diff.append(denoised_u - noise_u)\n",
    "    msu_diff.append(denoised_msu - noise_msu)\n",
    "    csv_diff.append(denoised_csv - noise_csv)\n",
    "    summer_diff.append(denoised_summer - noise_summer)"
   ],
   "metadata": {
    "collapsed": false
   },
   "id": "7559e9c8e22c9d4c"
  },
  {
   "cell_type": "code",
   "execution_count": null,
   "outputs": [],
   "source": [
    "psnr_diff, ssim_diff, cw_diff, u_diff, msu_diff, csv_diff, summer_diff = np.array(psnr_diff), np.array(ssim_diff), np.array(cw_diff), np.array(u_diff), np.array(msu_diff), np.array(csv_diff), np.array(summer_diff)\n",
    "min_max_mean = {\"Min\": [np.min(psnr_diff), np.min(ssim_diff), np.min(cw_diff), np.min(u_diff), np.min(msu_diff), np.min(csv_diff), np.min(summer_diff)], \"Max\": [np.max(psnr_diff), np.max(ssim_diff), np.max(cw_diff), np.max(u_diff), np.max(msu_diff), np.max(csv_diff), np.max(summer_diff)], \"Mean\": [np.mean(psnr_diff), np.mean(ssim_diff), np.mean(cw_diff), np.mean(u_diff), np.mean(msu_diff), np.mean(csv_diff), np.mean(summer_diff)]}\n",
    "print(min_max_mean)\n",
    "print(iqa_file)"
   ],
   "metadata": {
    "collapsed": false
   },
   "id": "29ca498eaf63c6d1"
  },
  {
   "cell_type": "code",
   "execution_count": null,
   "outputs": [],
   "source": [
    "with open('IQA_unreal_nlm/iqa_unreal_snow_nlm.pkl', 'wb') as fp:\n",
    "    pickle.dump(iqa_file, fp)\n",
    "    print('saved successfully')\n",
    "\n",
    "with open('IQA_unreal_nlm/iqa_unreal_snow_nlm_infer.pkl', 'wb') as fp:\n",
    "    pickle.dump(min_max_mean, fp)   \n",
    "    print('saved successfully')"
   ],
   "metadata": {
    "collapsed": false
   },
   "id": "3eaa89839057d325"
  },
  {
   "cell_type": "code",
   "execution_count": null,
   "outputs": [],
   "source": [
    "with open('IQA_unreal_nlm/iqa_unreal_snow_nlm.pkl', 'rb') as fp:\n",
    "    iqa = pickle.load(fp)\n",
    "    print(iqa)"
   ],
   "metadata": {
    "collapsed": false
   },
   "id": "28004cf1c252e209"
  },
  {
   "cell_type": "code",
   "execution_count": null,
   "outputs": [],
   "source": [
    "with open('IQA_unreal_nlm/iqa_unreal_snow_nlm_infer.pkl', 'rb') as fp:\n",
    "  min_max_mean = pickle.load(fp)\n",
    "  print(min_max_mean)"
   ],
   "metadata": {
    "collapsed": false
   },
   "id": "d42dc6c8e26a5267"
  },
  {
   "cell_type": "code",
   "execution_count": null,
   "outputs": [],
   "source": [],
   "metadata": {
    "collapsed": false
   },
   "id": "d449ac1c552bda1"
  }
 ],
 "metadata": {
  "kernelspec": {
   "display_name": "Python 3",
   "language": "python",
   "name": "python3"
  },
  "language_info": {
   "codemirror_mode": {
    "name": "ipython",
    "version": 2
   },
   "file_extension": ".py",
   "mimetype": "text/x-python",
   "name": "python",
   "nbconvert_exporter": "python",
   "pygments_lexer": "ipython2",
   "version": "2.7.6"
  }
 },
 "nbformat": 4,
 "nbformat_minor": 5
}
