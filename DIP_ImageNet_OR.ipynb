{
  "nbformat": 4,
  "nbformat_minor": 0,
  "metadata": {
    "colab": {
      "provenance": [],
      "gpuType": "T4"
    },
    "kernelspec": {
      "name": "python3",
      "display_name": "Python 3"
    },
    "language_info": {
      "name": "python"
    },
    "accelerator": "GPU"
  },
  "cells": [
    {
      "cell_type": "code",
      "source": [
        "from tensorflow.keras.applications.resnet50 import ResNet50\n",
        "from tensorflow.keras.preprocessing import image\n",
        "from tensorflow.keras.applications.resnet50 import preprocess_input, decode_predictions\n",
        "import numpy as np\n",
        "\n",
        "model = ResNet50(weights='imagenet')\n",
        "\n",
        "img_path = '/content/drive/MyDrive/ECE_6258_DIP/4_5_1_001_06_1_denoised.jpg'\n",
        "img = image.load_img(img_path, target_size=(224, 224))\n",
        "x = image.img_to_array(img)\n",
        "x = np.expand_dims(x, axis=0)\n",
        "x = preprocess_input(x)\n",
        "\n",
        "preds = model.predict(x)\n",
        "# decode the results into a list of tuples (class, description, probability)\n",
        "# (one such list for each sample in the batch)\n",
        "print('Predicted:', decode_predictions(preds, top=3)[0])"
      ],
      "metadata": {
        "colab": {
          "base_uri": "https://localhost:8080/"
        },
        "id": "u3F2qaD9YMXH",
        "outputId": "e34b8263-be4a-496b-8ea7-003000bf9d8a"
      },
      "execution_count": null,
      "outputs": [
        {
          "output_type": "stream",
          "name": "stdout",
          "text": [
            "1/1 [==============================] - 1s 866ms/step\n",
            "Predicted: [('n04380533', 'table_lamp', 0.26253912), ('n03179701', 'desk', 0.15066592), ('n03201208', 'dining_table', 0.14494722)]\n"
          ]
        }
      ]
    },
    {
      "cell_type": "code",
      "source": [
        "from tensorflow.keras.applications.resnet50 import ResNet50\n",
        "from tensorflow.keras.preprocessing import image\n",
        "from tensorflow.keras.applications.resnet50 import preprocess_input, decode_predictions\n",
        "import numpy as np\n",
        "\n",
        "model = ResNet50(weights='imagenet')\n",
        "\n",
        "img_path = '/content/drive/MyDrive/ECE_6258_DIP/4_5_1_001_06_1.jpg'\n",
        "img = image.load_img(img_path, target_size=(224, 224))\n",
        "x = image.img_to_array(img)\n",
        "x = np.expand_dims(x, axis=0)\n",
        "x = preprocess_input(x)\n",
        "\n",
        "preds = model.predict(x)\n",
        "# decode the results into a list of tuples (class, description, probability)\n",
        "# (one such list for each sample in the batch)\n",
        "print('Predicted:', decode_predictions(preds, top=3)[0])"
      ],
      "metadata": {
        "colab": {
          "base_uri": "https://localhost:8080/"
        },
        "id": "1AocKG8UZSLM",
        "outputId": "184f6312-deb5-4344-a31d-6a9a72aa92f3"
      },
      "execution_count": null,
      "outputs": [
        {
          "output_type": "stream",
          "name": "stdout",
          "text": [
            "1/1 [==============================] - 1s 1s/step\n",
            "Predicted: [('n03201208', 'dining_table', 0.7281025), ('n04344873', 'studio_couch', 0.17256963), ('n04380533', 'table_lamp', 0.048913475)]\n"
          ]
        }
      ]
    },
    {
      "cell_type": "code",
      "source": [
        "from tensorflow.keras.applications.resnet50 import ResNet50\n",
        "from tensorflow.keras.preprocessing import image\n",
        "from tensorflow.keras.applications.resnet50 import preprocess_input, decode_predictions\n",
        "import numpy as np\n",
        "import os\n",
        "\n",
        "model = ResNet50(weights='imagenet')"
      ],
      "metadata": {
        "id": "DqpYE6RCNpv0"
      },
      "execution_count": 3,
      "outputs": []
    },
    {
      "cell_type": "markdown",
      "source": [
        "# GROUND TRUTH"
      ],
      "metadata": {
        "id": "lxc7mv0HNHhd"
      }
    },
    {
      "cell_type": "code",
      "source": [
        "filepath = '/content/drive/MyDrive/ECE_6258_DIP/OR Images/01_Ground_Truth'\n",
        "gt_preds = []\n",
        "for file in os.listdir(filepath):\n",
        "  img = image.load_img(filepath+'/'+file, target_size=(224, 224))\n",
        "  x = image.img_to_array(img)\n",
        "  x = np.expand_dims(x, axis=0)\n",
        "  x = preprocess_input(x)\n",
        "\n",
        "  preds = model.predict(x)\n",
        "  gt_preds.append(decode_predictions(preds, top=3)[0])\n",
        "  print(file, decode_predictions(preds, top=3)[0])"
      ],
      "metadata": {
        "colab": {
          "base_uri": "https://localhost:8080/"
        },
        "id": "74peD_xUNbli",
        "outputId": "3c92cc8b-c973-4775-8f5a-f47b5dfc7360"
      },
      "execution_count": 74,
      "outputs": [
        {
          "output_type": "stream",
          "name": "stdout",
          "text": [
            "1/1 [==============================] - 0s 23ms/step\n",
            "4_5_1_005_01_0.jpg [('n02799071', 'baseball', 0.4814051), ('n04344873', 'studio_couch', 0.06927161), ('n02870880', 'bookcase', 0.046755437)]\n",
            "1/1 [==============================] - 0s 21ms/step\n",
            "4_5_1_003_01_0.jpg [('n03201208', 'dining_table', 0.30094102), ('n04344873', 'studio_couch', 0.2750312), ('n04380533', 'table_lamp', 0.06198429)]\n",
            "1/1 [==============================] - 0s 23ms/step\n",
            "4_5_1_010_01_0.jpg [('n04380533', 'table_lamp', 0.4150521), ('n03201208', 'dining_table', 0.15801027), ('n03179701', 'desk', 0.13536733)]\n",
            "1/1 [==============================] - 0s 25ms/step\n",
            "4_5_1_004_01_0.jpg [('n04344873', 'studio_couch', 0.3348625), ('n03201208', 'dining_table', 0.1701504), ('n04380533', 'table_lamp', 0.10420625)]\n",
            "1/1 [==============================] - 0s 23ms/step\n",
            "4_5_1_001_01_0.jpg [('n03201208', 'dining_table', 0.44128522), ('n04344873', 'studio_couch', 0.19566306), ('n03179701', 'desk', 0.10021579)]\n",
            "1/1 [==============================] - 0s 24ms/step\n",
            "4_5_1_006_01_0.jpg [('n04265275', 'space_heater', 0.8268813), ('n04041544', 'radio', 0.07341964), ('n04040759', 'radiator', 0.026803449)]\n",
            "1/1 [==============================] - 0s 21ms/step\n",
            "4_5_1_009_01_0.jpg [('n07693725', 'bagel', 0.23893233), ('n04344873', 'studio_couch', 0.1357928), ('n03179701', 'desk', 0.08744896)]\n",
            "1/1 [==============================] - 0s 24ms/step\n",
            "4_5_1_007_01_0.jpg [('n03201208', 'dining_table', 0.4512521), ('n03584829', 'iron', 0.27154008), ('n04344873', 'studio_couch', 0.045828465)]\n",
            "1/1 [==============================] - 0s 23ms/step\n",
            "4_5_1_008_01_0.jpg [('n04344873', 'studio_couch', 0.41263703), ('n03201208', 'dining_table', 0.09599859), ('n04380533', 'table_lamp', 0.059647713)]\n",
            "1/1 [==============================] - 0s 22ms/step\n",
            "4_5_1_002_01_0.jpg [('n03201208', 'dining_table', 0.71541995), ('n03179701', 'desk', 0.07982933), ('n04344873', 'studio_couch', 0.069126725)]\n"
          ]
        }
      ]
    },
    {
      "cell_type": "markdown",
      "source": [
        "# 03 Underexposure"
      ],
      "metadata": {
        "id": "LGX2uxZgOeAI"
      }
    },
    {
      "cell_type": "markdown",
      "source": [
        "## Level 1"
      ],
      "metadata": {
        "id": "3w1TiqM1OuUe"
      }
    },
    {
      "cell_type": "markdown",
      "source": [
        "### Noisy"
      ],
      "metadata": {
        "id": "Q-XD1yWLO5v3"
      }
    },
    {
      "cell_type": "code",
      "source": [
        "filepath = '/content/drive/MyDrive/ECE_6258_DIP/OR Images/03_Underexposure/noisy_level1/noisy_images'\n",
        "noisy_preds = []\n",
        "for file in os.listdir(filepath):\n",
        "  img = image.load_img(filepath+'/'+file, target_size=(224, 224))\n",
        "  x = image.img_to_array(img)\n",
        "  x = np.expand_dims(x, axis=0)\n",
        "  x = preprocess_input(x)\n",
        "\n",
        "  preds = model.predict(x)\n",
        "  print(file, decode_predictions(preds, top=3)[0])"
      ],
      "metadata": {
        "colab": {
          "base_uri": "https://localhost:8080/"
        },
        "id": "YQCj4Cp8OtsC",
        "outputId": "50c21b33-e319-4a57-dc3e-6e7523ad8ffb"
      },
      "execution_count": 75,
      "outputs": [
        {
          "output_type": "stream",
          "name": "stdout",
          "text": [
            "1/1 [==============================] - 0s 21ms/step\n",
            "4_5_1_001_03_1.jpg [('n04380533', 'table_lamp', 0.30416495), ('n03201208', 'dining_table', 0.22865747), ('n04344873', 'studio_couch', 0.05305882)]\n",
            "1/1 [==============================] - 0s 24ms/step\n",
            "4_5_1_002_03_1.jpg [('n03201208', 'dining_table', 0.4343023), ('n04380533', 'table_lamp', 0.23524678), ('n04344873', 'studio_couch', 0.045333344)]\n",
            "1/1 [==============================] - 0s 22ms/step\n",
            "4_5_1_004_03_1.jpg [('n04380533', 'table_lamp', 0.43347678), ('n04344873', 'studio_couch', 0.09277215), ('n03201208', 'dining_table', 0.05244897)]\n",
            "1/1 [==============================] - 0s 22ms/step\n",
            "4_5_1_003_03_1.jpg [('n04380533', 'table_lamp', 0.3061233), ('n04344873', 'studio_couch', 0.11111523), ('n03201208', 'dining_table', 0.049875982)]\n",
            "1/1 [==============================] - 0s 21ms/step\n",
            "4_5_1_005_03_1.jpg [('n04380533', 'table_lamp', 0.2329761), ('n04344873', 'studio_couch', 0.09159166), ('n04099969', 'rocking_chair', 0.041800637)]\n",
            "1/1 [==============================] - 0s 23ms/step\n",
            "4_5_1_007_03_1.jpg [('n03584829', 'iron', 0.31718412), ('n04380533', 'table_lamp', 0.20862056), ('n03201208', 'dining_table', 0.07187114)]\n",
            "1/1 [==============================] - 0s 22ms/step\n",
            "4_5_1_008_03_1.jpg [('n04380533', 'table_lamp', 0.43493244), ('n04344873', 'studio_couch', 0.078213625), ('n02870880', 'bookcase', 0.06140199)]\n",
            "1/1 [==============================] - 0s 22ms/step\n",
            "4_5_1_006_03_1.jpg [('n04265275', 'space_heater', 0.9497183), ('n04041544', 'radio', 0.011386191), ('n04040759', 'radiator', 0.008752669)]\n",
            "1/1 [==============================] - 0s 22ms/step\n",
            "4_5_1_010_03_1.jpg [('n04380533', 'table_lamp', 0.6201772), ('n04344873', 'studio_couch', 0.04748314), ('n03201208', 'dining_table', 0.045979068)]\n",
            "1/1 [==============================] - 0s 21ms/step\n",
            "4_5_1_009_03_1.jpg [('n04380533', 'table_lamp', 0.1368609), ('n04590129', 'window_shade', 0.09453192), ('n03529860', 'home_theater', 0.07411293)]\n"
          ]
        }
      ]
    },
    {
      "cell_type": "markdown",
      "source": [
        "### NLM Denoised"
      ],
      "metadata": {
        "id": "IwFxeH15POGd"
      }
    },
    {
      "cell_type": "code",
      "source": [
        "filepath = '/content/drive/MyDrive/ECE_6258_DIP/OR Images/03_Underexposure/noisy_level1/nlm_denoised_images'\n",
        "noisy_preds = []\n",
        "for file in os.listdir(filepath):\n",
        "  img = image.load_img(filepath+'/'+file, target_size=(224, 224))\n",
        "  x = image.img_to_array(img)\n",
        "  x = np.expand_dims(x, axis=0)\n",
        "  x = preprocess_input(x)\n",
        "\n",
        "  preds = model.predict(x)\n",
        "  print(file,decode_predictions(preds, top=3)[0])"
      ],
      "metadata": {
        "colab": {
          "base_uri": "https://localhost:8080/"
        },
        "id": "BpftKmRyPQk5",
        "outputId": "6e1e8c0e-fd0a-4e34-fd15-64e0cca30f67"
      },
      "execution_count": 76,
      "outputs": [
        {
          "output_type": "stream",
          "name": "stdout",
          "text": [
            "1/1 [==============================] - 0s 21ms/step\n",
            "4_5_1_001_03_1_denoised.jpg [('n04380533', 'table_lamp', 0.21421207), ('n03179701', 'desk', 0.05768443), ('n03201208', 'dining_table', 0.054420374)]\n",
            "1/1 [==============================] - 0s 23ms/step\n",
            "4_5_1_002_03_1_denoised.jpg [('n04380533', 'table_lamp', 0.24237706), ('n03201208', 'dining_table', 0.19377409), ('n03179701', 'desk', 0.052925125)]\n",
            "1/1 [==============================] - 0s 26ms/step\n",
            "4_5_1_003_03_1_denoised.jpg [('n04380533', 'table_lamp', 0.2616028), ('n03179701', 'desk', 0.055766564), ('n03201208', 'dining_table', 0.036453146)]\n",
            "1/1 [==============================] - 0s 22ms/step\n",
            "4_5_1_004_03_1_denoised.jpg [('n04380533', 'table_lamp', 0.30606094), ('n03179701', 'desk', 0.056474864), ('n03201208', 'dining_table', 0.027565327)]\n",
            "1/1 [==============================] - 0s 29ms/step\n",
            "4_5_1_005_03_1_denoised.jpg [('n04380533', 'table_lamp', 0.16485178), ('n03179701', 'desk', 0.06590523), ('n04179913', 'sewing_machine', 0.029002547)]\n",
            "1/1 [==============================] - 0s 22ms/step\n",
            "4_5_1_006_03_1_denoised.jpg [('n04265275', 'space_heater', 0.3060943), ('n04404412', 'television', 0.08038491), ('n03179701', 'desk', 0.07299146)]\n",
            "1/1 [==============================] - 0s 29ms/step\n",
            "4_5_1_007_03_1_denoised.jpg [('n04380533', 'table_lamp', 0.14416164), ('n03584829', 'iron', 0.11629207), ('n03637318', 'lampshade', 0.042429026)]\n",
            "1/1 [==============================] - 0s 21ms/step\n",
            "4_5_1_008_03_1_denoised.jpg [('n04380533', 'table_lamp', 0.31122166), ('n03179701', 'desk', 0.0713346), ('n02870880', 'bookcase', 0.041879352)]\n",
            "1/1 [==============================] - 0s 21ms/step\n",
            "4_5_1_009_03_1_denoised.jpg [('n04380533', 'table_lamp', 0.14517485), ('n03179701', 'desk', 0.12647423), ('n07693725', 'bagel', 0.124176756)]\n",
            "1/1 [==============================] - 0s 25ms/step\n",
            "4_5_1_010_03_1_denoised.jpg [('n04380533', 'table_lamp', 0.48664147), ('n03179701', 'desk', 0.07166217), ('n04201297', 'shoji', 0.056751817)]\n"
          ]
        }
      ]
    },
    {
      "cell_type": "markdown",
      "source": [
        "### BM3D Denoised"
      ],
      "metadata": {
        "id": "_PeXqkHZPWCx"
      }
    },
    {
      "cell_type": "code",
      "source": [
        "filepath = '/content/drive/MyDrive/ECE_6258_DIP/OR Images/03_Underexposure/noisy_level1/bm3d_denoised_images'\n",
        "noisy_preds = []\n",
        "for file in os.listdir(filepath):\n",
        "  img = image.load_img(filepath+'/'+file, target_size=(224, 224))\n",
        "  x = image.img_to_array(img)\n",
        "  x = np.expand_dims(x, axis=0)\n",
        "  x = preprocess_input(x)\n",
        "\n",
        "  preds = model.predict(x)\n",
        "  print(file,decode_predictions(preds, top=3)[0])"
      ],
      "metadata": {
        "colab": {
          "base_uri": "https://localhost:8080/"
        },
        "id": "i8UWjTwPPX9f",
        "outputId": "03e6f319-1d49-4b19-b104-d47607fd8ddf"
      },
      "execution_count": 77,
      "outputs": [
        {
          "output_type": "stream",
          "name": "stdout",
          "text": [
            "1/1 [==============================] - 0s 23ms/step\n",
            "4_5_1_001_03_1_bm3d_denoised.jpg [('n04380533', 'table_lamp', 0.2368431), ('n03201208', 'dining_table', 0.14269422), ('n03179701', 'desk', 0.06593673)]\n",
            "1/1 [==============================] - 0s 23ms/step\n",
            "4_5_1_002_03_1_bm3d_denoised.jpg [('n03201208', 'dining_table', 0.3989557), ('n04380533', 'table_lamp', 0.21770176), ('n03179701', 'desk', 0.041071627)]\n",
            "1/1 [==============================] - 0s 23ms/step\n",
            "4_5_1_003_03_1_bm3d_denoised.jpg [('n04380533', 'table_lamp', 0.43004563), ('n03201208', 'dining_table', 0.059668526), ('n03179701', 'desk', 0.043167733)]\n",
            "1/1 [==============================] - 0s 23ms/step\n",
            "4_5_1_004_03_1_bm3d_denoised.jpg [('n04380533', 'table_lamp', 0.5057395), ('n03201208', 'dining_table', 0.07060137), ('n03637318', 'lampshade', 0.039374974)]\n",
            "1/1 [==============================] - 0s 23ms/step\n",
            "4_5_1_005_03_1_bm3d_denoised.jpg [('n04380533', 'table_lamp', 0.3477505), ('n03179701', 'desk', 0.049927603), ('n03637318', 'lampshade', 0.041035205)]\n",
            "1/1 [==============================] - 0s 23ms/step\n",
            "4_5_1_006_03_1_bm3d_denoised.jpg [('n04265275', 'space_heater', 0.76510996), ('n04404412', 'television', 0.045660906), ('n04041544', 'radio', 0.029852966)]\n",
            "1/1 [==============================] - 0s 22ms/step\n",
            "4_5_1_007_03_1_bm3d_denoised.jpg [('n03584829', 'iron', 0.38888732), ('n04380533', 'table_lamp', 0.22619867), ('n03637318', 'lampshade', 0.06810409)]\n",
            "1/1 [==============================] - 0s 25ms/step\n",
            "4_5_1_008_03_1_bm3d_denoised.jpg [('n04380533', 'table_lamp', 0.5248011), ('n03179701', 'desk', 0.07450101), ('n02870880', 'bookcase', 0.06699604)]\n",
            "1/1 [==============================] - 0s 26ms/step\n",
            "4_5_1_009_03_1_bm3d_denoised.jpg [('n04380533', 'table_lamp', 0.3500029), ('n03637318', 'lampshade', 0.10806752), ('n03179701', 'desk', 0.06802104)]\n",
            "1/1 [==============================] - 0s 21ms/step\n",
            "4_5_1_010_03_1_bm3d_denoised.jpg [('n04380533', 'table_lamp', 0.7911551), ('n03179701', 'desk', 0.043326862), ('n03201208', 'dining_table', 0.026446711)]\n"
          ]
        }
      ]
    },
    {
      "cell_type": "markdown",
      "source": [
        "### Level 3"
      ],
      "metadata": {
        "id": "f0ZLYlqIPdo6"
      }
    },
    {
      "cell_type": "markdown",
      "source": [
        "#### Noisy"
      ],
      "metadata": {
        "id": "vOH-fOoqPlc3"
      }
    },
    {
      "cell_type": "code",
      "source": [
        "filepath = '/content/drive/MyDrive/ECE_6258_DIP/OR Images/03_Underexposure/noisy_level3/noisy_images'\n",
        "noisy_preds = []\n",
        "for file in os.listdir(filepath):\n",
        "  img = image.load_img(filepath+'/'+file, target_size=(224, 224))\n",
        "  x = image.img_to_array(img)\n",
        "  x = np.expand_dims(x, axis=0)\n",
        "  x = preprocess_input(x)\n",
        "\n",
        "  preds = model.predict(x)\n",
        "  print(file,decode_predictions(preds, top=3)[0])"
      ],
      "metadata": {
        "colab": {
          "base_uri": "https://localhost:8080/"
        },
        "outputId": "7fee7e1e-7347-4ebc-d2d5-fb3776303f10",
        "id": "2FeDy5tePjPV"
      },
      "execution_count": 78,
      "outputs": [
        {
          "output_type": "stream",
          "name": "stdout",
          "text": [
            "1/1 [==============================] - 0s 21ms/step\n",
            "4_5_1_001_03_3.jpg [('n04380533', 'table_lamp', 0.3446737), ('n03201208', 'dining_table', 0.17900562), ('n03637318', 'lampshade', 0.06626766)]\n",
            "1/1 [==============================] - 0s 23ms/step\n",
            "4_5_1_002_03_3.jpg [('n04380533', 'table_lamp', 0.32683513), ('n03201208', 'dining_table', 0.2678433), ('n03637318', 'lampshade', 0.070764124)]\n",
            "1/1 [==============================] - 0s 22ms/step\n",
            "4_5_1_004_03_3.jpg [('n04380533', 'table_lamp', 0.541638), ('n03637318', 'lampshade', 0.09379785), ('n03201208', 'dining_table', 0.046641577)]\n",
            "1/1 [==============================] - 0s 24ms/step\n",
            "4_5_1_003_03_3.jpg [('n04380533', 'table_lamp', 0.41260728), ('n03637318', 'lampshade', 0.09479004), ('n04344873', 'studio_couch', 0.03493002)]\n",
            "1/1 [==============================] - 0s 23ms/step\n",
            "4_5_1_010_03_3.jpg [('n04380533', 'table_lamp', 0.6728186), ('n03637318', 'lampshade', 0.096357286), ('n03201208', 'dining_table', 0.03917331)]\n",
            "1/1 [==============================] - 0s 23ms/step\n",
            "4_5_1_005_03_3.jpg [('n04380533', 'table_lamp', 0.2818655), ('n03637318', 'lampshade', 0.0634472), ('n04344873', 'studio_couch', 0.050517026)]\n",
            "1/1 [==============================] - 0s 24ms/step\n",
            "4_5_1_008_03_3.jpg [('n04380533', 'table_lamp', 0.55715847), ('n02870880', 'bookcase', 0.03677063), ('n03637318', 'lampshade', 0.035794407)]\n",
            "1/1 [==============================] - 0s 25ms/step\n",
            "4_5_1_009_03_3.jpg [('n04380533', 'table_lamp', 0.3331526), ('n03637318', 'lampshade', 0.087801516), ('n04201297', 'shoji', 0.06977134)]\n",
            "1/1 [==============================] - 0s 31ms/step\n",
            "4_5_1_007_03_3.jpg [('n04380533', 'table_lamp', 0.35834253), ('n03584829', 'iron', 0.1896479), ('n03637318', 'lampshade', 0.09926169)]\n",
            "1/1 [==============================] - 0s 20ms/step\n",
            "4_5_1_006_03_3.jpg [('n04265275', 'space_heater', 0.92525023), ('n04404412', 'television', 0.016150873), ('n04041544', 'radio', 0.014938342)]\n"
          ]
        }
      ]
    },
    {
      "cell_type": "markdown",
      "source": [
        "### NLM Denoised"
      ],
      "metadata": {
        "id": "zmsfyLX3PjPY"
      }
    },
    {
      "cell_type": "code",
      "source": [
        "filepath = '/content/drive/MyDrive/ECE_6258_DIP/OR Images/03_Underexposure/noisy_level3/nlm_denoised_images'\n",
        "noisy_preds = []\n",
        "for file in os.listdir(filepath):\n",
        "  img = image.load_img(filepath+'/'+file, target_size=(224, 224))\n",
        "  x = image.img_to_array(img)\n",
        "  x = np.expand_dims(x, axis=0)\n",
        "  x = preprocess_input(x)\n",
        "\n",
        "  preds = model.predict(x)\n",
        "  print(file,decode_predictions(preds, top=3)[0])"
      ],
      "metadata": {
        "colab": {
          "base_uri": "https://localhost:8080/"
        },
        "id": "bF3KtIJLPjPZ",
        "outputId": "23ba3663-5129-415a-fb8b-4dc18f58fc71"
      },
      "execution_count": 79,
      "outputs": [
        {
          "output_type": "stream",
          "name": "stdout",
          "text": [
            "1/1 [==============================] - 0s 23ms/step\n",
            "4_5_1_002_03_3_denoised.jpg [('n04380533', 'table_lamp', 0.27682108), ('n03201208', 'dining_table', 0.06230664), ('n03637318', 'lampshade', 0.043976836)]\n",
            "1/1 [==============================] - 0s 22ms/step\n",
            "4_5_1_004_03_3_denoised.jpg [('n04380533', 'table_lamp', 0.29424942), ('n03637318', 'lampshade', 0.050280284), ('n02445715', 'skunk', 0.035500802)]\n",
            "1/1 [==============================] - 0s 21ms/step\n",
            "4_5_1_010_03_3_denoised.jpg [('n04380533', 'table_lamp', 0.52892864), ('n04201297', 'shoji', 0.051308002), ('n03201208', 'dining_table', 0.045249928)]\n",
            "1/1 [==============================] - 0s 21ms/step\n",
            "4_5_1_001_03_3_denoised.jpg [('n04380533', 'table_lamp', 0.20397), ('n02445715', 'skunk', 0.04182928), ('n03637318', 'lampshade', 0.036082845)]\n",
            "1/1 [==============================] - 0s 20ms/step\n",
            "4_5_1_005_03_3_denoised.jpg [('n04380533', 'table_lamp', 0.14699978), ('n02445715', 'skunk', 0.069420494), ('n03637318', 'lampshade', 0.030551193)]\n",
            "1/1 [==============================] - 0s 25ms/step\n",
            "4_5_1_009_03_3_denoised.jpg [('n04380533', 'table_lamp', 0.19963633), ('n03637318', 'lampshade', 0.094706364), ('n04201297', 'shoji', 0.06666489)]\n",
            "1/1 [==============================] - 0s 25ms/step\n",
            "4_5_1_006_03_3_denoised.jpg [('n04404412', 'television', 0.14538912), ('n04380533', 'table_lamp', 0.10001514), ('n03179701', 'desk', 0.06479499)]\n",
            "1/1 [==============================] - 0s 24ms/step\n",
            "4_5_1_003_03_3_denoised.jpg [('n04380533', 'table_lamp', 0.30338922), ('n03637318', 'lampshade', 0.036856923), ('n02445715', 'skunk', 0.028041393)]\n",
            "1/1 [==============================] - 0s 22ms/step\n",
            "4_5_1_008_03_3_denoised.jpg [('n04380533', 'table_lamp', 0.34679857), ('n02445715', 'skunk', 0.0381999), ('n04179913', 'sewing_machine', 0.029826473)]\n",
            "1/1 [==============================] - 0s 21ms/step\n",
            "4_5_1_007_03_3_denoised.jpg [('n04380533', 'table_lamp', 0.18309946), ('n03584829', 'iron', 0.09099916), ('n03637318', 'lampshade', 0.07303047)]\n"
          ]
        }
      ]
    },
    {
      "cell_type": "markdown",
      "source": [
        "### BM3D Denoised"
      ],
      "metadata": {
        "id": "vsNXNzZ3PjPa"
      }
    },
    {
      "cell_type": "code",
      "source": [
        "filepath = '/content/drive/MyDrive/ECE_6258_DIP/OR Images/03_Underexposure/noisy_level3/bm3d_denoised_images'\n",
        "noisy_preds = []\n",
        "for file in os.listdir(filepath):\n",
        "  img = image.load_img(filepath+'/'+file, target_size=(224, 224))\n",
        "  x = image.img_to_array(img)\n",
        "  x = np.expand_dims(x, axis=0)\n",
        "  x = preprocess_input(x)\n",
        "\n",
        "  preds = model.predict(x)\n",
        "  print(file,decode_predictions(preds, top=3)[0])"
      ],
      "metadata": {
        "colab": {
          "base_uri": "https://localhost:8080/"
        },
        "id": "xSAmtJljPjPb",
        "outputId": "e01588f5-7ef7-480b-edcf-e46b2ab78fdc"
      },
      "execution_count": 80,
      "outputs": [
        {
          "output_type": "stream",
          "name": "stdout",
          "text": [
            "1/1 [==============================] - 0s 21ms/step\n",
            "4_5_1_001_03_3_bm3d_denoised.jpg [('n04380533', 'table_lamp', 0.3588584), ('n03201208', 'dining_table', 0.06424449), ('n03637318', 'lampshade', 0.040083267)]\n",
            "1/1 [==============================] - 0s 21ms/step\n",
            "4_5_1_002_03_3_bm3d_denoised.jpg [('n04380533', 'table_lamp', 0.33722636), ('n03201208', 'dining_table', 0.21621071), ('n03637318', 'lampshade', 0.04245863)]\n",
            "1/1 [==============================] - 0s 25ms/step\n",
            "4_5_1_009_03_3_bm3d_denoised.jpg [('n04380533', 'table_lamp', 0.3622884), ('n03637318', 'lampshade', 0.15515442), ('n07693725', 'bagel', 0.065954655)]\n",
            "1/1 [==============================] - 0s 26ms/step\n",
            "4_5_1_004_03_3_bm3d_denoised.jpg [('n04380533', 'table_lamp', 0.5719154), ('n03637318', 'lampshade', 0.06202195), ('n03201208', 'dining_table', 0.02882325)]\n",
            "1/1 [==============================] - 0s 23ms/step\n",
            "4_5_1_010_03_3_bm3d_denoised.jpg [('n04380533', 'table_lamp', 0.8530154), ('n03637318', 'lampshade', 0.03822534), ('n03201208', 'dining_table', 0.014537886)]\n",
            "1/1 [==============================] - 0s 25ms/step\n",
            "4_5_1_005_03_3_bm3d_denoised.jpg [('n04380533', 'table_lamp', 0.3309279), ('n03637318', 'lampshade', 0.049067654), ('n04404412', 'television', 0.033004306)]\n",
            "1/1 [==============================] - 0s 23ms/step\n",
            "4_5_1_007_03_3_bm3d_denoised.jpg [('n04380533', 'table_lamp', 0.29428363), ('n03584829', 'iron', 0.2216866), ('n03637318', 'lampshade', 0.1508128)]\n",
            "1/1 [==============================] - 0s 23ms/step\n",
            "4_5_1_003_03_3_bm3d_denoised.jpg [('n04380533', 'table_lamp', 0.49330017), ('n03637318', 'lampshade', 0.049589936), ('n03201208', 'dining_table', 0.02306641)]\n",
            "1/1 [==============================] - 0s 23ms/step\n",
            "4_5_1_008_03_3_bm3d_denoised.jpg [('n04380533', 'table_lamp', 0.59957635), ('n03637318', 'lampshade', 0.031243157), ('n03179701', 'desk', 0.02969126)]\n",
            "1/1 [==============================] - 0s 23ms/step\n",
            "4_5_1_006_03_3_bm3d_denoised.jpg [('n04404412', 'television', 0.15181057), ('n04009552', 'projector', 0.12794721), ('n04265275', 'space_heater', 0.11335419)]\n"
          ]
        }
      ]
    },
    {
      "cell_type": "markdown",
      "source": [
        "### Level 5"
      ],
      "metadata": {
        "id": "N2nP_WLIPu4Y"
      }
    },
    {
      "cell_type": "markdown",
      "source": [
        "#### Noisy"
      ],
      "metadata": {
        "id": "sAbbSFHHPu4Y"
      }
    },
    {
      "cell_type": "code",
      "source": [
        "filepath = '/content/drive/MyDrive/ECE_6258_DIP/OR Images/03_Underexposure/noisy_level5/noisy_images'\n",
        "noisy_preds = []\n",
        "for file in os.listdir(filepath):\n",
        "  img = image.load_img(filepath+'/'+file, target_size=(224, 224))\n",
        "  x = image.img_to_array(img)\n",
        "  x = np.expand_dims(x, axis=0)\n",
        "  x = preprocess_input(x)\n",
        "\n",
        "  preds = model.predict(x)\n",
        "  print(file,decode_predictions(preds, top=3)[0])"
      ],
      "metadata": {
        "id": "yAZF8DctPu4Z"
      },
      "execution_count": 81,
      "outputs": []
    },
    {
      "cell_type": "markdown",
      "source": [
        "### NLM Denoised"
      ],
      "metadata": {
        "id": "xK6xmBzFPu4a"
      }
    },
    {
      "cell_type": "code",
      "source": [
        "filepath = '/content/drive/MyDrive/ECE_6258_DIP/OR Images/03_Underexposure/noisy_level5/nlm_denoised_images'\n",
        "noisy_preds = []\n",
        "for file in os.listdir(filepath):\n",
        "  img = image.load_img(filepath+'/'+file, target_size=(224, 224))\n",
        "  x = image.img_to_array(img)\n",
        "  x = np.expand_dims(x, axis=0)\n",
        "  x = preprocess_input(x)\n",
        "\n",
        "  preds = model.predict(x)\n",
        "  print(file,decode_predictions(preds, top=3)[0])"
      ],
      "metadata": {
        "id": "j0czAyd8Pu4a"
      },
      "execution_count": 82,
      "outputs": []
    },
    {
      "cell_type": "markdown",
      "source": [
        "### BM3D Denoised"
      ],
      "metadata": {
        "id": "yqsZtrVkPu4a"
      }
    },
    {
      "cell_type": "code",
      "source": [
        "filepath = '/content/drive/MyDrive/ECE_6258_DIP/OR Images/03_Underexposure/noisy_level5/bm3d_denoised_images'\n",
        "noisy_preds = []\n",
        "for file in os.listdir(filepath):\n",
        "  img = image.load_img(filepath+'/'+file, target_size=(224, 224))\n",
        "  x = image.img_to_array(img)\n",
        "  x = np.expand_dims(x, axis=0)\n",
        "  x = preprocess_input(x)\n",
        "\n",
        "  preds = model.predict(x)\n",
        "  print(file,decode_predictions(preds, top=3)[0])"
      ],
      "metadata": {
        "id": "GjJmvcVuPu4b"
      },
      "execution_count": 83,
      "outputs": []
    },
    {
      "cell_type": "markdown",
      "source": [
        "# 04 Overexposure"
      ],
      "metadata": {
        "id": "LuIhG2XeP59t"
      }
    },
    {
      "cell_type": "markdown",
      "source": [
        "## Level 1"
      ],
      "metadata": {
        "id": "xmI7Si5eP59t"
      }
    },
    {
      "cell_type": "markdown",
      "source": [
        "### Noisy"
      ],
      "metadata": {
        "id": "e6QGhFXYP59u"
      }
    },
    {
      "cell_type": "code",
      "source": [
        "filepath = '/content/drive/MyDrive/ECE_6258_DIP/OR Images/04_Overexposure/level1/04_overexposure'\n",
        "noisy_preds = []\n",
        "for file in os.listdir(filepath):\n",
        "  img = image.load_img(filepath+'/'+file, target_size=(224, 224))\n",
        "  x = image.img_to_array(img)\n",
        "  x = np.expand_dims(x, axis=0)\n",
        "  x = preprocess_input(x)\n",
        "\n",
        "  preds = model.predict(x)\n",
        "  print(file,decode_predictions(preds, top=3)[0])"
      ],
      "metadata": {
        "colab": {
          "base_uri": "https://localhost:8080/"
        },
        "outputId": "a60e30ed-4b21-4ad4-9847-d3f7d2c5d03a",
        "id": "iCppHk4dP59u"
      },
      "execution_count": 84,
      "outputs": [
        {
          "output_type": "stream",
          "name": "stdout",
          "text": [
            "1/1 [==============================] - 0s 21ms/step\n",
            "4_5_1_009_04_1.jpg [('n04344873', 'studio_couch', 0.43512353), ('n03179701', 'desk', 0.18078394), ('n04590129', 'window_shade', 0.0749865)]\n",
            "1/1 [==============================] - 0s 22ms/step\n",
            "4_5_1_003_04_1.jpg [('n04344873', 'studio_couch', 0.49639976), ('n03201208', 'dining_table', 0.15167475), ('n04380533', 'table_lamp', 0.101901)]\n",
            "1/1 [==============================] - 0s 24ms/step\n",
            "4_5_1_008_04_1.jpg [('n04344873', 'studio_couch', 0.4619594), ('n03201208', 'dining_table', 0.1588999), ('n04380533', 'table_lamp', 0.1320816)]\n",
            "1/1 [==============================] - 0s 22ms/step\n",
            "4_5_1_006_04_1.jpg [('n04265275', 'space_heater', 0.6074743), ('n04041544', 'radio', 0.17196661), ('n04040759', 'radiator', 0.043880116)]\n",
            "1/1 [==============================] - 0s 21ms/step\n",
            "4_5_1_010_04_1.jpg [('n04380533', 'table_lamp', 0.58323103), ('n03179701', 'desk', 0.13932858), ('n03201208', 'dining_table', 0.11174491)]\n",
            "1/1 [==============================] - 0s 21ms/step\n",
            "4_5_1_002_04_1.jpg [('n03201208', 'dining_table', 0.82357824), ('n03179701', 'desk', 0.07306968), ('n04344873', 'studio_couch', 0.030053988)]\n",
            "1/1 [==============================] - 0s 24ms/step\n",
            "4_5_1_001_04_1.jpg [('n03201208', 'dining_table', 0.57925034), ('n04344873', 'studio_couch', 0.16433579), ('n03179701', 'desk', 0.09859654)]\n",
            "1/1 [==============================] - 0s 23ms/step\n",
            "4_5_1_005_04_1.jpg [('n04344873', 'studio_couch', 0.5019049), ('n03179701', 'desk', 0.0842491), ('n04380533', 'table_lamp', 0.08235401)]\n",
            "1/1 [==============================] - 0s 20ms/step\n",
            "4_5_1_004_04_1.jpg [('n04344873', 'studio_couch', 0.41474715), ('n04380533', 'table_lamp', 0.17914343), ('n03201208', 'dining_table', 0.1170924)]\n",
            "1/1 [==============================] - 0s 21ms/step\n",
            "4_5_1_007_04_1.jpg [('n03201208', 'dining_table', 0.72718525), ('n04344873', 'studio_couch', 0.059746124), ('n03584829', 'iron', 0.058302697)]\n"
          ]
        }
      ]
    },
    {
      "cell_type": "markdown",
      "source": [
        "### NLM Denoised"
      ],
      "metadata": {
        "id": "d3jyyv23P59u"
      }
    },
    {
      "cell_type": "code",
      "source": [
        "filepath = '/content/drive/MyDrive/ECE_6258_DIP/OR Images/04_Overexposure/level1/04_overexposure_denoised'\n",
        "noisy_preds = []\n",
        "for file in os.listdir(filepath):\n",
        "  img = image.load_img(filepath+'/'+file, target_size=(224, 224))\n",
        "  x = image.img_to_array(img)\n",
        "  x = np.expand_dims(x, axis=0)\n",
        "  x = preprocess_input(x)\n",
        "\n",
        "  preds = model.predict(x)\n",
        "  print(file,decode_predictions(preds, top=3)[0])"
      ],
      "metadata": {
        "colab": {
          "base_uri": "https://localhost:8080/"
        },
        "id": "BGCDM1dBP59v",
        "outputId": "ebf5278b-ac6a-4876-f040-fa71f5a92754"
      },
      "execution_count": 85,
      "outputs": [
        {
          "output_type": "stream",
          "name": "stdout",
          "text": [
            "1/1 [==============================] - 0s 22ms/step\n",
            "4_5_1_008_04_1_denoised.jpg [('n04380533', 'table_lamp', 0.40211633), ('n03179701', 'desk', 0.16640694), ('n04201297', 'shoji', 0.057792228)]\n",
            "1/1 [==============================] - 0s 23ms/step\n",
            "4_5_1_004_04_1_denoised.jpg [('n04380533', 'table_lamp', 0.2810459), ('n03179701', 'desk', 0.17910817), ('n04590129', 'window_shade', 0.11448676)]\n",
            "1/1 [==============================] - 0s 21ms/step\n",
            "4_5_1_001_04_1_denoised.jpg [('n04380533', 'table_lamp', 0.16797777), ('n04590129', 'window_shade', 0.16558972), ('n03179701', 'desk', 0.15533686)]\n",
            "1/1 [==============================] - 0s 24ms/step\n",
            "4_5_1_002_04_1_denoised.jpg [('n04380533', 'table_lamp', 0.1842809), ('n04590129', 'window_shade', 0.15785381), ('n03179701', 'desk', 0.1331376)]\n",
            "1/1 [==============================] - 0s 21ms/step\n",
            "4_5_1_003_04_1_denoised.jpg [('n04380533', 'table_lamp', 0.2880058), ('n03179701', 'desk', 0.18270501), ('n03201208', 'dining_table', 0.103381835)]\n",
            "1/1 [==============================] - 0s 22ms/step\n",
            "4_5_1_006_04_1_denoised.jpg [('n03179701', 'desk', 0.21138668), ('n04265275', 'space_heater', 0.18179901), ('n04590129', 'window_shade', 0.09211755)]\n",
            "1/1 [==============================] - 0s 22ms/step\n",
            "4_5_1_010_04_1_denoised.jpg [('n04380533', 'table_lamp', 0.43425015), ('n04590129', 'window_shade', 0.145592), ('n03179701', 'desk', 0.111368)]\n",
            "1/1 [==============================] - 0s 22ms/step\n",
            "4_5_1_007_04_1_denoised.jpg [('n04380533', 'table_lamp', 0.1697851), ('n03201208', 'dining_table', 0.14502254), ('n03179701', 'desk', 0.13162862)]\n",
            "1/1 [==============================] - 0s 23ms/step\n",
            "4_5_1_005_04_1_denoised.jpg [('n04380533', 'table_lamp', 0.21993786), ('n03179701', 'desk', 0.18402313), ('n04590129', 'window_shade', 0.108582444)]\n",
            "1/1 [==============================] - 0s 24ms/step\n",
            "4_5_1_009_04_1_denoised.jpg [('n03179701', 'desk', 0.29900518), ('n04344873', 'studio_couch', 0.10850731), ('n04201297', 'shoji', 0.07924231)]\n"
          ]
        }
      ]
    },
    {
      "cell_type": "markdown",
      "source": [
        "### BM3D Denoised"
      ],
      "metadata": {
        "id": "0Hgtz9nUP59v"
      }
    },
    {
      "cell_type": "code",
      "source": [
        "filepath = '/content/drive/MyDrive/ECE_6258_DIP/OR Images/04_Overexposure/level1/04_overexposure_bm3d_denoised'\n",
        "noisy_preds = []\n",
        "for file in os.listdir(filepath):\n",
        "  img = image.load_img(filepath+'/'+file, target_size=(224, 224))\n",
        "  x = image.img_to_array(img)\n",
        "  x = np.expand_dims(x, axis=0)\n",
        "  x = preprocess_input(x)\n",
        "\n",
        "  preds = model.predict(x)\n",
        "  print(file,decode_predictions(preds, top=3)[0])"
      ],
      "metadata": {
        "colab": {
          "base_uri": "https://localhost:8080/"
        },
        "id": "NYSZ4VQaP59v",
        "outputId": "792ad92a-a3e9-4afe-987e-68eb5aedc161"
      },
      "execution_count": 86,
      "outputs": [
        {
          "output_type": "stream",
          "name": "stdout",
          "text": [
            "1/1 [==============================] - 0s 21ms/step\n",
            "4_5_1_007_04_1_bm3d_denoised.jpg [('n03201208', 'dining_table', 0.5985179), ('n04380533', 'table_lamp', 0.123274386), ('n04344873', 'studio_couch', 0.07443793)]\n",
            "1/1 [==============================] - 0s 24ms/step\n",
            "4_5_1_005_04_1_bm3d_denoised.jpg [('n04344873', 'studio_couch', 0.24865644), ('n04380533', 'table_lamp', 0.23086947), ('n03179701', 'desk', 0.11734033)]\n",
            "1/1 [==============================] - 0s 28ms/step\n",
            "4_5_1_008_04_1_bm3d_denoised.jpg [('n04380533', 'table_lamp', 0.4492888), ('n04344873', 'studio_couch', 0.21020101), ('n03201208', 'dining_table', 0.08453028)]\n",
            "1/1 [==============================] - 0s 20ms/step\n",
            "4_5_1_002_04_1_bm3d_denoised.jpg [('n03201208', 'dining_table', 0.7949641), ('n03179701', 'desk', 0.069694966), ('n04380533', 'table_lamp', 0.042888016)]\n",
            "1/1 [==============================] - 0s 29ms/step\n",
            "4_5_1_006_04_1_bm3d_denoised.jpg [('n04265275', 'space_heater', 0.6583733), ('n04041544', 'radio', 0.17251553), ('n03691459', 'loudspeaker', 0.029983819)]\n",
            "1/1 [==============================] - 0s 23ms/step\n",
            "4_5_1_001_04_1_bm3d_denoised.jpg [('n03201208', 'dining_table', 0.55265224), ('n03179701', 'desk', 0.18048978), ('n04380533', 'table_lamp', 0.08299795)]\n",
            "1/1 [==============================] - 0s 25ms/step\n",
            "4_5_1_004_04_1_bm3d_denoised.jpg [('n04380533', 'table_lamp', 0.34940025), ('n04344873', 'studio_couch', 0.24041516), ('n03179701', 'desk', 0.09285429)]\n",
            "1/1 [==============================] - 0s 23ms/step\n",
            "4_5_1_003_04_1_bm3d_denoised.jpg [('n04380533', 'table_lamp', 0.32654235), ('n04344873', 'studio_couch', 0.22207473), ('n03179701', 'desk', 0.1013178)]\n",
            "1/1 [==============================] - 0s 39ms/step\n",
            "4_5_1_010_04_1_bm3d_denoised.jpg [('n04380533', 'table_lamp', 0.6742358), ('n03201208', 'dining_table', 0.09656173), ('n03179701', 'desk', 0.075417235)]\n",
            "1/1 [==============================] - 0s 34ms/step\n",
            "4_5_1_009_04_1_bm3d_denoised.jpg [('n03179701', 'desk', 0.2584437), ('n04344873', 'studio_couch', 0.15588118), ('n04380533', 'table_lamp', 0.15514085)]\n"
          ]
        }
      ]
    },
    {
      "cell_type": "markdown",
      "source": [
        "### Level 3"
      ],
      "metadata": {
        "id": "za145QGPP59v"
      }
    },
    {
      "cell_type": "markdown",
      "source": [
        "#### Noisy"
      ],
      "metadata": {
        "id": "bZE0a2bPP59v"
      }
    },
    {
      "cell_type": "code",
      "source": [
        "filepath = '/content/drive/MyDrive/ECE_6258_DIP/OR Images/04_Overexposure/level3/04_overexposure_level3'\n",
        "noisy_preds = []\n",
        "for file in os.listdir(filepath):\n",
        "  img = image.load_img(filepath+'/'+file, target_size=(224, 224))\n",
        "  x = image.img_to_array(img)\n",
        "  x = np.expand_dims(x, axis=0)\n",
        "  x = preprocess_input(x)\n",
        "\n",
        "  preds = model.predict(x)\n",
        "  print(file,decode_predictions(preds, top=3)[0])"
      ],
      "metadata": {
        "colab": {
          "base_uri": "https://localhost:8080/"
        },
        "outputId": "9540c2a4-079b-47e0-8c97-eaff74653473",
        "id": "DQJBjrcuP5-M"
      },
      "execution_count": 87,
      "outputs": [
        {
          "output_type": "stream",
          "name": "stdout",
          "text": [
            "1/1 [==============================] - 0s 37ms/step\n",
            "4_5_1_010_04_3.jpg [('n04380533', 'table_lamp', 0.6111478), ('n03637318', 'lampshade', 0.26292813), ('n03201208', 'dining_table', 0.04495147)]\n",
            "1/1 [==============================] - 0s 35ms/step\n",
            "4_5_1_009_04_3.jpg [('n03179701', 'desk', 0.1626946), ('n02843684', 'birdhouse', 0.086149655), ('n04099969', 'rocking_chair', 0.07461706)]\n",
            "1/1 [==============================] - 0s 42ms/step\n",
            "4_5_1_006_04_3.jpg [('n04099969', 'rocking_chair', 0.22348222), ('n04179913', 'sewing_machine', 0.14329527), ('n04380533', 'table_lamp', 0.13256703)]\n",
            "1/1 [==============================] - 0s 41ms/step\n",
            "4_5_1_002_04_3.jpg [('n04344873', 'studio_couch', 0.49609533), ('n04380533', 'table_lamp', 0.09007425), ('n04099969', 'rocking_chair', 0.08173705)]\n",
            "1/1 [==============================] - 0s 37ms/step\n",
            "4_5_1_004_04_3.jpg [('n04344873', 'studio_couch', 0.7251949), ('n04380533', 'table_lamp', 0.074861504), ('n04099969', 'rocking_chair', 0.044180844)]\n",
            "1/1 [==============================] - 0s 33ms/step\n",
            "4_5_1_005_04_3.jpg [('n04344873', 'studio_couch', 0.70834625), ('n04380533', 'table_lamp', 0.057328817), ('n04099969', 'rocking_chair', 0.04260405)]\n",
            "1/1 [==============================] - 0s 37ms/step\n",
            "4_5_1_007_04_3.jpg [('n04179913', 'sewing_machine', 0.87405616), ('n04380533', 'table_lamp', 0.020709626), ('n03584829', 'iron', 0.020518227)]\n",
            "1/1 [==============================] - 0s 45ms/step\n",
            "4_5_1_008_04_3.jpg [('n04344873', 'studio_couch', 0.78267527), ('n04380533', 'table_lamp', 0.08180778), ('n03179701', 'desk', 0.022085436)]\n",
            "1/1 [==============================] - 0s 41ms/step\n",
            "4_5_1_001_04_3.jpg [('n04344873', 'studio_couch', 0.6361759), ('n04099969', 'rocking_chair', 0.07209514), ('n04380533', 'table_lamp', 0.04006115)]\n",
            "1/1 [==============================] - 0s 34ms/step\n",
            "4_5_1_003_04_3.jpg [('n04344873', 'studio_couch', 0.7548772), ('n04380533', 'table_lamp', 0.059432227), ('n03179701', 'desk', 0.03575869)]\n"
          ]
        }
      ]
    },
    {
      "cell_type": "markdown",
      "source": [
        "### NLM Denoised"
      ],
      "metadata": {
        "id": "urLDyYIcP5-N"
      }
    },
    {
      "cell_type": "code",
      "source": [
        "filepath = '/content/drive/MyDrive/ECE_6258_DIP/OR Images/04_Overexposure/level3/04_overexposure_level3_denoised'\n",
        "noisy_preds = []\n",
        "for file in os.listdir(filepath):\n",
        "  img = image.load_img(filepath+'/'+file, target_size=(224, 224))\n",
        "  x = image.img_to_array(img)\n",
        "  x = np.expand_dims(x, axis=0)\n",
        "  x = preprocess_input(x)\n",
        "\n",
        "  preds = model.predict(x)\n",
        "  print(file,decode_predictions(preds, top=3)[0])"
      ],
      "metadata": {
        "colab": {
          "base_uri": "https://localhost:8080/"
        },
        "id": "VzTmtdzoP5-N",
        "outputId": "03c7743f-f178-49a3-da87-8a954631ca7f"
      },
      "execution_count": 88,
      "outputs": [
        {
          "output_type": "stream",
          "name": "stdout",
          "text": [
            "1/1 [==============================] - 0s 32ms/step\n",
            "4_5_1_008_04_3_denoised.jpg [('n04344873', 'studio_couch', 0.3253558), ('n03179701', 'desk', 0.20423098), ('n04380533', 'table_lamp', 0.12598766)]\n",
            "1/1 [==============================] - 0s 38ms/step\n",
            "4_5_1_002_04_3_denoised.jpg [('n04344873', 'studio_couch', 0.21569122), ('n04380533', 'table_lamp', 0.07767414), ('n03179701', 'desk', 0.066442296)]\n",
            "1/1 [==============================] - 0s 38ms/step\n",
            "4_5_1_005_04_3_denoised.jpg [('n04344873', 'studio_couch', 0.22671443), ('n03179701', 'desk', 0.11594916), ('n04179913', 'sewing_machine', 0.08292718)]\n",
            "1/1 [==============================] - 0s 41ms/step\n",
            "4_5_1_007_04_3_denoised.jpg [('n04380533', 'table_lamp', 0.115832366), ('n03179701', 'desk', 0.10448896), ('n04179913', 'sewing_machine', 0.07096327)]\n",
            "1/1 [==============================] - 0s 34ms/step\n",
            "4_5_1_006_04_3_denoised.jpg [('n03761084', 'microwave', 0.15165702), ('n03179701', 'desk', 0.098002), ('n03961711', 'plate_rack', 0.05380396)]\n",
            "1/1 [==============================] - 0s 32ms/step\n",
            "4_5_1_003_04_3_denoised.jpg [('n03179701', 'desk', 0.33838364), ('n04344873', 'studio_couch', 0.18181647), ('n04380533', 'table_lamp', 0.07914966)]\n",
            "1/1 [==============================] - 0s 34ms/step\n",
            "4_5_1_001_04_3_denoised.jpg [('n04344873', 'studio_couch', 0.31517574), ('n04380533', 'table_lamp', 0.05199815), ('n03179701', 'desk', 0.0428888)]\n",
            "1/1 [==============================] - 0s 38ms/step\n",
            "4_5_1_009_04_3_denoised.jpg [('n03179701', 'desk', 0.18830821), ('n02843684', 'birdhouse', 0.0826749), ('n04099969', 'rocking_chair', 0.052862026)]\n",
            "1/1 [==============================] - 0s 35ms/step\n",
            "4_5_1_004_04_3_denoised.jpg [('n04344873', 'studio_couch', 0.28676912), ('n04380533', 'table_lamp', 0.06567235), ('n03388549', 'four-poster', 0.046162356)]\n",
            "1/1 [==============================] - 0s 32ms/step\n",
            "4_5_1_010_04_3_denoised.jpg [('n04380533', 'table_lamp', 0.13135536), ('n02951585', 'can_opener', 0.1263261), ('n04330267', 'stove', 0.11153355)]\n"
          ]
        }
      ]
    },
    {
      "cell_type": "markdown",
      "source": [
        "### BM3D Denoised"
      ],
      "metadata": {
        "id": "5Vse1X6yP5-N"
      }
    },
    {
      "cell_type": "code",
      "source": [
        "filepath = '/content/drive/MyDrive/ECE_6258_DIP/OR Images/04_Overexposure/level3/04_overexposure_level3_bm3d_denoised'\n",
        "noisy_preds = []\n",
        "for file in os.listdir(filepath):\n",
        "  img = image.load_img(filepath+'/'+file, target_size=(224, 224))\n",
        "  x = image.img_to_array(img)\n",
        "  x = np.expand_dims(x, axis=0)\n",
        "  x = preprocess_input(x)\n",
        "\n",
        "  preds = model.predict(x)\n",
        "  print(file,decode_predictions(preds, top=3)[0])"
      ],
      "metadata": {
        "colab": {
          "base_uri": "https://localhost:8080/"
        },
        "id": "Qy-woVasP5-N",
        "outputId": "4245a631-787c-411e-eaf2-f0121373d5fe"
      },
      "execution_count": 89,
      "outputs": [
        {
          "output_type": "stream",
          "name": "stdout",
          "text": [
            "1/1 [==============================] - 0s 34ms/step\n",
            "4_5_1_010_04_3_bm3d_denoised.jpg [('n04380533', 'table_lamp', 0.38998646), ('n03201208', 'dining_table', 0.13452774), ('n02791124', 'barber_chair', 0.08891682)]\n",
            "1/1 [==============================] - 0s 40ms/step\n",
            "4_5_1_002_04_3_bm3d_denoised.jpg [('n04344873', 'studio_couch', 0.49078327), ('n04380533', 'table_lamp', 0.06303579), ('n03179701', 'desk', 0.05363658)]\n",
            "1/1 [==============================] - 0s 31ms/step\n",
            "4_5_1_005_04_3_bm3d_denoised.jpg [('n04344873', 'studio_couch', 0.5113897), ('n04380533', 'table_lamp', 0.063285686), ('n03179701', 'desk', 0.053080425)]\n",
            "1/1 [==============================] - 0s 33ms/step\n",
            "4_5_1_008_04_3_bm3d_denoised.jpg [('n04344873', 'studio_couch', 0.75343686), ('n04380533', 'table_lamp', 0.05510015), ('n04099969', 'rocking_chair', 0.03304094)]\n",
            "1/1 [==============================] - 0s 37ms/step\n",
            "4_5_1_004_04_3_bm3d_denoised.jpg [('n04344873', 'studio_couch', 0.6665287), ('n04380533', 'table_lamp', 0.04528869), ('n04099969', 'rocking_chair', 0.028935596)]\n",
            "1/1 [==============================] - 0s 39ms/step\n",
            "4_5_1_007_04_3_bm3d_denoised.jpg [('n04179913', 'sewing_machine', 0.3083731), ('n04344873', 'studio_couch', 0.22232495), ('n03179701', 'desk', 0.059118092)]\n",
            "1/1 [==============================] - 0s 34ms/step\n",
            "4_5_1_001_04_3_bm3d_denoised.jpg [('n04344873', 'studio_couch', 0.7308919), ('n03179701', 'desk', 0.02504316), ('n04179913', 'sewing_machine', 0.023987409)]\n",
            "1/1 [==============================] - 0s 34ms/step\n",
            "4_5_1_003_04_3_bm3d_denoised.jpg [('n04344873', 'studio_couch', 0.7325897), ('n03179701', 'desk', 0.056887265), ('n04380533', 'table_lamp', 0.030370124)]\n",
            "1/1 [==============================] - 0s 38ms/step\n",
            "4_5_1_009_04_3_bm3d_denoised.jpg [('n03179701', 'desk', 0.21712014), ('n04380533', 'table_lamp', 0.13307308), ('n03201208', 'dining_table', 0.07955225)]\n",
            "1/1 [==============================] - 0s 41ms/step\n",
            "4_5_1_006_04_3_bm3d_denoised.jpg [('n04380533', 'table_lamp', 0.1251735), ('n04344873', 'studio_couch', 0.12262488), ('n04099969', 'rocking_chair', 0.12218224)]\n"
          ]
        }
      ]
    },
    {
      "cell_type": "markdown",
      "source": [
        "### Level 5"
      ],
      "metadata": {
        "id": "9C9yUSwgP5-O"
      }
    },
    {
      "cell_type": "markdown",
      "source": [
        "#### Noisy"
      ],
      "metadata": {
        "id": "uSvtATn_P5-O"
      }
    },
    {
      "cell_type": "code",
      "source": [
        "filepath = '/content/drive/MyDrive/ECE_6258_DIP/OR Images/04_Overexposure/level5/04_overexposure_level5'\n",
        "noisy_preds = []\n",
        "for file in os.listdir(filepath):\n",
        "  img = image.load_img(filepath+'/'+file, target_size=(224, 224))\n",
        "  x = image.img_to_array(img)\n",
        "  x = np.expand_dims(x, axis=0)\n",
        "  x = preprocess_input(x)\n",
        "\n",
        "  preds = model.predict(x)\n",
        "  print(file,decode_predictions(preds, top=3)[0])"
      ],
      "metadata": {
        "colab": {
          "base_uri": "https://localhost:8080/"
        },
        "outputId": "f2d6947c-011f-40dc-b754-df1766ff4af1",
        "id": "Z-EPN3_bP5-O"
      },
      "execution_count": 90,
      "outputs": [
        {
          "output_type": "stream",
          "name": "stdout",
          "text": [
            "1/1 [==============================] - 0s 35ms/step\n",
            "4_5_1_010_04_5.jpg [('n04179913', 'sewing_machine', 0.71986574), ('n04380533', 'table_lamp', 0.08626735), ('n03201208', 'dining_table', 0.039981578)]\n",
            "1/1 [==============================] - 0s 35ms/step\n",
            "4_5_1_009_04_5.jpg [('n02692877', 'airship', 0.12291965), ('n03584829', 'iron', 0.06967545), ('n03179701', 'desk', 0.062344793)]\n",
            "1/1 [==============================] - 0s 33ms/step\n",
            "4_5_1_007_04_5.jpg [('n04099969', 'rocking_chair', 0.1668661), ('n07615774', 'ice_lolly', 0.1160262), ('n04070727', 'refrigerator', 0.050682146)]\n",
            "1/1 [==============================] - 0s 33ms/step\n",
            "4_5_1_002_04_5.jpg [('n04099969', 'rocking_chair', 0.17622407), ('n03125729', 'cradle', 0.06864676), ('n03014705', 'chest', 0.064766)]\n",
            "1/1 [==============================] - 0s 32ms/step\n",
            "4_5_1_003_04_5.jpg [('n04099969', 'rocking_chair', 0.25262222), ('n04344873', 'studio_couch', 0.11713556), ('n03014705', 'chest', 0.048547707)]\n",
            "1/1 [==============================] - 0s 38ms/step\n",
            "4_5_1_005_04_5.jpg [('n04099969', 'rocking_chair', 0.35441974), ('n04371774', 'swing', 0.05324805), ('n04070727', 'refrigerator', 0.050273377)]\n",
            "1/1 [==============================] - 0s 35ms/step\n",
            "4_5_1_008_04_5.jpg [('n04099969', 'rocking_chair', 0.3109677), ('n04344873', 'studio_couch', 0.14469619), ('n04380533', 'table_lamp', 0.09938348)]\n",
            "1/1 [==============================] - 0s 36ms/step\n",
            "4_5_1_006_04_5.jpg [('n04179913', 'sewing_machine', 0.19073226), ('n04099969', 'rocking_chair', 0.0813121), ('n03891251', 'park_bench', 0.06879933)]\n",
            "1/1 [==============================] - 0s 35ms/step\n",
            "4_5_1_004_04_5.jpg [('n04099969', 'rocking_chair', 0.2525033), ('n07615774', 'ice_lolly', 0.04508236), ('n04371774', 'swing', 0.04319301)]\n",
            "1/1 [==============================] - 0s 34ms/step\n",
            "4_5_1_001_04_5.jpg [('n04099969', 'rocking_chair', 0.18663965), ('n03125729', 'cradle', 0.095781796), ('n03891251', 'park_bench', 0.087277636)]\n"
          ]
        }
      ]
    },
    {
      "cell_type": "markdown",
      "source": [
        "### NLM Denoised"
      ],
      "metadata": {
        "id": "vQ3VjY-LP5-O"
      }
    },
    {
      "cell_type": "code",
      "source": [
        "filepath = '/content/drive/MyDrive/ECE_6258_DIP/OR Images/04_Overexposure/level5/04_overexposure_level5_denoised'\n",
        "noisy_preds = []\n",
        "for file in os.listdir(filepath):\n",
        "  img = image.load_img(filepath+'/'+file, target_size=(224, 224))\n",
        "  x = image.img_to_array(img)\n",
        "  x = np.expand_dims(x, axis=0)\n",
        "  x = preprocess_input(x)\n",
        "\n",
        "  preds = model.predict(x)\n",
        "  print(file,decode_predictions(preds, top=3)[0])"
      ],
      "metadata": {
        "colab": {
          "base_uri": "https://localhost:8080/"
        },
        "id": "xCBRQGHcP5-P",
        "outputId": "acc69e50-9fd4-46be-d428-be6bc7733e98"
      },
      "execution_count": 91,
      "outputs": [
        {
          "output_type": "stream",
          "name": "stdout",
          "text": [
            "1/1 [==============================] - 0s 34ms/step\n",
            "4_5_1_006_04_5_denoised.jpg [('n04099969', 'rocking_chair', 0.09726453), ('n04515003', 'upright', 0.081605196), ('n04179913', 'sewing_machine', 0.075984545)]\n",
            "1/1 [==============================] - 0s 38ms/step\n",
            "4_5_1_007_04_5_denoised.jpg [('n04099969', 'rocking_chair', 0.15853953), ('n07615774', 'ice_lolly', 0.09096566), ('n04070727', 'refrigerator', 0.059437327)]\n",
            "1/1 [==============================] - 0s 26ms/step\n",
            "4_5_1_004_04_5_denoised.jpg [('n04099969', 'rocking_chair', 0.25609806), ('n07615774', 'ice_lolly', 0.047619224), ('n04371774', 'swing', 0.043066356)]\n",
            "1/1 [==============================] - 0s 21ms/step\n",
            "4_5_1_005_04_5_denoised.jpg [('n04099969', 'rocking_chair', 0.28222057), ('n04070727', 'refrigerator', 0.069271), ('n04371774', 'swing', 0.055865444)]\n",
            "1/1 [==============================] - 0s 23ms/step\n",
            "4_5_1_008_04_5_denoised.jpg [('n04344873', 'studio_couch', 0.1151095), ('n03179701', 'desk', 0.07928411), ('n04380533', 'table_lamp', 0.065123424)]\n",
            "1/1 [==============================] - 0s 21ms/step\n",
            "4_5_1_010_04_5_denoised.jpg [('n04179913', 'sewing_machine', 0.7677042), ('n04380533', 'table_lamp', 0.073033825), ('n03201208', 'dining_table', 0.041004337)]\n",
            "1/1 [==============================] - 0s 23ms/step\n",
            "4_5_1_009_04_5_denoised.jpg [('n02692877', 'airship', 0.09939288), ('n03584829', 'iron', 0.08011998), ('n03179701', 'desk', 0.06456987)]\n",
            "1/1 [==============================] - 0s 22ms/step\n",
            "4_5_1_003_04_5_denoised.jpg [('n04344873', 'studio_couch', 0.19545285), ('n04099969', 'rocking_chair', 0.17013901), ('n03014705', 'chest', 0.047667384)]\n",
            "1/1 [==============================] - 0s 21ms/step\n",
            "4_5_1_002_04_5_denoised.jpg [('n04099969', 'rocking_chair', 0.2060982), ('n03891251', 'park_bench', 0.06701659), ('n03125729', 'cradle', 0.06334298)]\n",
            "1/1 [==============================] - 0s 23ms/step\n",
            "4_5_1_001_04_5_denoised.jpg [('n04099969', 'rocking_chair', 0.17893922), ('n03125729', 'cradle', 0.10423795), ('n03891251', 'park_bench', 0.07544004)]\n"
          ]
        }
      ]
    },
    {
      "cell_type": "markdown",
      "source": [
        "### BM3D Denoised"
      ],
      "metadata": {
        "id": "_WE3rRZ6P5-P"
      }
    },
    {
      "cell_type": "code",
      "source": [
        "filepath = '/content/drive/MyDrive/ECE_6258_DIP/OR Images/04_Overexposure/level5/04_overexposure_level5_bm3d_denoised'\n",
        "noisy_preds = []\n",
        "for file in os.listdir(filepath):\n",
        "  img = image.load_img(filepath+'/'+file, target_size=(224, 224))\n",
        "  x = image.img_to_array(img)\n",
        "  x = np.expand_dims(x, axis=0)\n",
        "  x = preprocess_input(x)\n",
        "\n",
        "  preds = model.predict(x)\n",
        "  print(file,decode_predictions(preds, top=3)[0])"
      ],
      "metadata": {
        "colab": {
          "base_uri": "https://localhost:8080/"
        },
        "id": "HpFeLr6oP5-Q",
        "outputId": "b52fd6cc-3416-4c7d-f5f3-44e8133f6426"
      },
      "execution_count": 92,
      "outputs": [
        {
          "output_type": "stream",
          "name": "stdout",
          "text": [
            "1/1 [==============================] - 0s 21ms/step\n",
            "4_5_1_005_04_5_bm3d_denoised.jpg [('n04070727', 'refrigerator', 0.14090753), ('n04099969', 'rocking_chair', 0.09025408), ('n04344873', 'studio_couch', 0.084022135)]\n",
            "1/1 [==============================] - 0s 21ms/step\n",
            "4_5_1_007_04_5_bm3d_denoised.jpg [('n04070727', 'refrigerator', 0.09362738), ('n04099969', 'rocking_chair', 0.07737582), ('n04208210', 'shovel', 0.03467732)]\n",
            "1/1 [==============================] - 0s 20ms/step\n",
            "4_5_1_010_04_5_bm3d_denoised.jpg [('n03201208', 'dining_table', 0.28195664), ('n04179913', 'sewing_machine', 0.18576293), ('n04380533', 'table_lamp', 0.07612761)]\n",
            "1/1 [==============================] - 0s 27ms/step\n",
            "4_5_1_004_04_5_bm3d_denoised.jpg [('n04099969', 'rocking_chair', 0.17167674), ('n04344873', 'studio_couch', 0.05692786), ('n04070727', 'refrigerator', 0.04204793)]\n",
            "1/1 [==============================] - 0s 23ms/step\n",
            "4_5_1_001_04_5_bm3d_denoised.jpg [('n04344873', 'studio_couch', 0.11328603), ('n03125729', 'cradle', 0.10030185), ('n04070727', 'refrigerator', 0.0649285)]\n",
            "1/1 [==============================] - 0s 26ms/step\n",
            "4_5_1_008_04_5_bm3d_denoised.jpg [('n04344873', 'studio_couch', 0.39481223), ('n04099969', 'rocking_chair', 0.09359038), ('n03179701', 'desk', 0.05852209)]\n",
            "1/1 [==============================] - 0s 23ms/step\n",
            "4_5_1_006_04_5_bm3d_denoised.jpg [('n04099969', 'rocking_chair', 0.15360834), ('n04515003', 'upright', 0.102539495), ('n07565083', 'menu', 0.07920869)]\n",
            "1/1 [==============================] - 0s 23ms/step\n",
            "4_5_1_003_04_5_bm3d_denoised.jpg [('n04344873', 'studio_couch', 0.31326583), ('n04099969', 'rocking_chair', 0.15192194), ('n04070727', 'refrigerator', 0.036579452)]\n",
            "1/1 [==============================] - 0s 23ms/step\n",
            "4_5_1_009_04_5_bm3d_denoised.jpg [('n03179701', 'desk', 0.086041875), ('n03201208', 'dining_table', 0.07312663), ('n04380533', 'table_lamp', 0.070896804)]\n",
            "1/1 [==============================] - 0s 22ms/step\n",
            "4_5_1_002_04_5_bm3d_denoised.jpg [('n04099969', 'rocking_chair', 0.11022989), ('n04344873', 'studio_couch', 0.09709532), ('n03125729', 'cradle', 0.068192065)]\n"
          ]
        }
      ]
    },
    {
      "cell_type": "markdown",
      "source": [
        "# 05 Blur"
      ],
      "metadata": {
        "id": "3vHI1B5IQTmo"
      }
    },
    {
      "cell_type": "markdown",
      "source": [
        "# 05 Blur"
      ],
      "metadata": {
        "id": "IjPF9vJkQuLQ"
      }
    },
    {
      "cell_type": "markdown",
      "source": [
        "## Level 1"
      ],
      "metadata": {
        "id": "Wf7Uy2UgQuLS"
      }
    },
    {
      "cell_type": "markdown",
      "source": [
        "### Noisy"
      ],
      "metadata": {
        "id": "dw6Th56RQuLT"
      }
    },
    {
      "cell_type": "code",
      "source": [
        "filepath = '/content/drive/MyDrive/ECE_6258_DIP/OR Images/05_Blur/level1/05_blur'\n",
        "noisy_preds = []\n",
        "for file in os.listdir(filepath):\n",
        "  img = image.load_img(filepath+'/'+file, target_size=(224, 224))\n",
        "  x = image.img_to_array(img)\n",
        "  x = np.expand_dims(x, axis=0)\n",
        "  x = preprocess_input(x)\n",
        "\n",
        "  preds = model.predict(x)\n",
        "  print(file,decode_predictions(preds, top=3)[0])"
      ],
      "metadata": {
        "colab": {
          "base_uri": "https://localhost:8080/"
        },
        "outputId": "ec93afcb-7b4e-4ec4-8e55-8e2972c89214",
        "id": "no4qjDr7QuLU"
      },
      "execution_count": 93,
      "outputs": [
        {
          "output_type": "stream",
          "name": "stdout",
          "text": [
            "1/1 [==============================] - 0s 21ms/step\n",
            "4_5_1_002_05_1.jpg [('n03201208', 'dining_table', 0.26913306), ('n04542943', 'waffle_iron', 0.05131432), ('n03376595', 'folding_chair', 0.044183135)]\n",
            "1/1 [==============================] - 0s 23ms/step\n",
            "4_5_1_003_05_1.jpg [('n03201208', 'dining_table', 0.28622973), ('n04380533', 'table_lamp', 0.043682568), ('n04074963', 'remote_control', 0.040665872)]\n",
            "1/1 [==============================] - 0s 24ms/step\n",
            "4_5_1_001_05_1.jpg [('n03201208', 'dining_table', 0.16054313), ('n04542943', 'waffle_iron', 0.089203), ('n03376595', 'folding_chair', 0.03682731)]\n",
            "1/1 [==============================] - 0s 26ms/step\n",
            "4_5_1_006_05_1.jpg [('n03179701', 'desk', 0.112724215), ('n04404412', 'television', 0.07007431), ('n04074963', 'remote_control', 0.066891454)]\n",
            "1/1 [==============================] - 0s 30ms/step\n",
            "4_5_1_005_05_1.jpg [('n04074963', 'remote_control', 0.15383267), ('n03201208', 'dining_table', 0.037263725), ('n04542943', 'waffle_iron', 0.03547641)]\n",
            "1/1 [==============================] - 0s 22ms/step\n",
            "4_5_1_007_05_1.jpg [('n03201208', 'dining_table', 0.11884108), ('n04542943', 'waffle_iron', 0.060056765), ('n04380533', 'table_lamp', 0.03672406)]\n",
            "1/1 [==============================] - 0s 22ms/step\n",
            "4_5_1_004_05_1.jpg [('n03201208', 'dining_table', 0.13487054), ('n04542943', 'waffle_iron', 0.047013804), ('n04074963', 'remote_control', 0.03866441)]\n",
            "1/1 [==============================] - 0s 22ms/step\n",
            "4_5_1_008_05_1.jpg [('n03201208', 'dining_table', 0.11601312), ('n02840245', 'binder', 0.0435661), ('n07579787', 'plate', 0.040865038)]\n",
            "1/1 [==============================] - 0s 21ms/step\n",
            "4_5_1_010_05_1.jpg [('n03201208', 'dining_table', 0.17029624), ('n04380533', 'table_lamp', 0.15023804), ('n04201297', 'shoji', 0.08878466)]\n",
            "1/1 [==============================] - 0s 21ms/step\n",
            "4_5_1_009_05_1.jpg [('n07693725', 'bagel', 0.3290286), ('n03887697', 'paper_towel', 0.09652329), ('n03179701', 'desk', 0.07370538)]\n"
          ]
        }
      ]
    },
    {
      "cell_type": "markdown",
      "source": [
        "### NLM Denoised"
      ],
      "metadata": {
        "id": "IzwCz66dQuLW"
      }
    },
    {
      "cell_type": "code",
      "source": [
        "filepath = '/content/drive/MyDrive/ECE_6258_DIP/OR Images/05_Blur/level1/05_blur_denoised'\n",
        "noisy_preds = []\n",
        "for file in os.listdir(filepath):\n",
        "  img = image.load_img(filepath+'/'+file, target_size=(224, 224))\n",
        "  x = image.img_to_array(img)\n",
        "  x = np.expand_dims(x, axis=0)\n",
        "  x = preprocess_input(x)\n",
        "\n",
        "  preds = model.predict(x)\n",
        "  print(file,decode_predictions(preds, top=3)[0])"
      ],
      "metadata": {
        "colab": {
          "base_uri": "https://localhost:8080/"
        },
        "id": "G5OnJfQXQuLX",
        "outputId": "91067419-743a-4da4-e4d4-038dce7161a1"
      },
      "execution_count": 94,
      "outputs": [
        {
          "output_type": "stream",
          "name": "stdout",
          "text": [
            "1/1 [==============================] - 0s 23ms/step\n",
            "4_5_1_001_05_1_denoised.jpg [('n03201208', 'dining_table', 0.1714711), ('n04542943', 'waffle_iron', 0.07662069), ('n07579787', 'plate', 0.049214866)]\n",
            "1/1 [==============================] - 0s 24ms/step\n",
            "4_5_1_002_05_1_denoised.jpg [('n03201208', 'dining_table', 0.26692072), ('n07579787', 'plate', 0.060922228), ('n04542943', 'waffle_iron', 0.037778206)]\n",
            "1/1 [==============================] - 0s 21ms/step\n",
            "4_5_1_003_05_1_denoised.jpg [('n03201208', 'dining_table', 0.25377995), ('n03598930', 'jigsaw_puzzle', 0.049467657), ('n04074963', 'remote_control', 0.043580756)]\n",
            "1/1 [==============================] - 0s 21ms/step\n",
            "4_5_1_004_05_1_denoised.jpg [('n03201208', 'dining_table', 0.1364449), ('n07579787', 'plate', 0.05221967), ('n04542943', 'waffle_iron', 0.050190132)]\n",
            "1/1 [==============================] - 0s 21ms/step\n",
            "4_5_1_005_05_1_denoised.jpg [('n04074963', 'remote_control', 0.21264419), ('n03201208', 'dining_table', 0.043471325), ('n04542943', 'waffle_iron', 0.025218524)]\n",
            "1/1 [==============================] - 0s 21ms/step\n",
            "4_5_1_006_05_1_denoised.jpg [('n03179701', 'desk', 0.10303751), ('n04074963', 'remote_control', 0.09471828), ('n04404412', 'television', 0.07195887)]\n",
            "1/1 [==============================] - 0s 24ms/step\n",
            "4_5_1_007_05_1_denoised.jpg [('n03201208', 'dining_table', 0.12576959), ('n04542943', 'waffle_iron', 0.04604143), ('n04201297', 'shoji', 0.037065692)]\n",
            "1/1 [==============================] - 0s 27ms/step\n",
            "4_5_1_008_05_1_denoised.jpg [('n03201208', 'dining_table', 0.081496336), ('n07579787', 'plate', 0.047609683), ('n03063599', 'coffee_mug', 0.04519104)]\n",
            "1/1 [==============================] - 0s 25ms/step\n",
            "4_5_1_009_05_1_denoised.jpg [('n07693725', 'bagel', 0.31886846), ('n03887697', 'paper_towel', 0.10732432), ('n03179701', 'desk', 0.050805263)]\n",
            "1/1 [==============================] - 0s 20ms/step\n",
            "4_5_1_010_05_1_denoised.jpg [('n03201208', 'dining_table', 0.23514901), ('n04380533', 'table_lamp', 0.14938587), ('n04201297', 'shoji', 0.07739113)]\n"
          ]
        }
      ]
    },
    {
      "cell_type": "markdown",
      "source": [
        "### BM3D Denoised"
      ],
      "metadata": {
        "id": "nVbqK_35QuLY"
      }
    },
    {
      "cell_type": "code",
      "source": [
        "filepath = '/content/drive/MyDrive/ECE_6258_DIP/OR Images/05_Blur/level1/05_blur_bm3d_denoised'\n",
        "noisy_preds = []\n",
        "for file in os.listdir(filepath):\n",
        "  img = image.load_img(filepath+'/'+file, target_size=(224, 224))\n",
        "  x = image.img_to_array(img)\n",
        "  x = np.expand_dims(x, axis=0)\n",
        "  x = preprocess_input(x)\n",
        "\n",
        "  preds = model.predict(x)\n",
        "  print(file,decode_predictions(preds, top=3)[0])"
      ],
      "metadata": {
        "colab": {
          "base_uri": "https://localhost:8080/"
        },
        "id": "lSpfcAOaQuLY",
        "outputId": "03c6a0de-36a9-4deb-be6c-2008a15544ba"
      },
      "execution_count": 95,
      "outputs": [
        {
          "output_type": "stream",
          "name": "stdout",
          "text": [
            "1/1 [==============================] - 0s 24ms/step\n",
            "4_5_1_001_05_1_bm3d_denoised.jpg [('n03201208', 'dining_table', 0.16517696), ('n04542943', 'waffle_iron', 0.07577823), ('n07579787', 'plate', 0.04117432)]\n",
            "1/1 [==============================] - 0s 20ms/step\n",
            "4_5_1_002_05_1_bm3d_denoised.jpg [('n03201208', 'dining_table', 0.24877767), ('n07579787', 'plate', 0.05499408), ('n04542943', 'waffle_iron', 0.034763373)]\n",
            "1/1 [==============================] - 0s 24ms/step\n",
            "4_5_1_003_05_1_bm3d_denoised.jpg [('n03201208', 'dining_table', 0.20773947), ('n04074963', 'remote_control', 0.07637081), ('n03598930', 'jigsaw_puzzle', 0.046932694)]\n",
            "1/1 [==============================] - 0s 23ms/step\n",
            "4_5_1_004_05_1_bm3d_denoised.jpg [('n03201208', 'dining_table', 0.12265044), ('n04074963', 'remote_control', 0.046350427), ('n04542943', 'waffle_iron', 0.045969862)]\n",
            "1/1 [==============================] - 0s 22ms/step\n",
            "4_5_1_005_05_1_bm3d_denoised.jpg [('n04074963', 'remote_control', 0.24465741), ('n03832673', 'notebook', 0.037223406), ('n03201208', 'dining_table', 0.02700308)]\n",
            "1/1 [==============================] - 0s 22ms/step\n",
            "4_5_1_006_05_1_bm3d_denoised.jpg [('n04074963', 'remote_control', 0.113136254), ('n03179701', 'desk', 0.112497814), ('n04404412', 'television', 0.07275749)]\n",
            "1/1 [==============================] - 0s 23ms/step\n",
            "4_5_1_007_05_1_bm3d_denoised.jpg [('n03201208', 'dining_table', 0.12762786), ('n04542943', 'waffle_iron', 0.050237965), ('n03961711', 'plate_rack', 0.036031067)]\n",
            "1/1 [==============================] - 0s 21ms/step\n",
            "4_5_1_008_05_1_bm3d_denoised.jpg [('n03201208', 'dining_table', 0.079614036), ('n03063599', 'coffee_mug', 0.044116043), ('n02840245', 'binder', 0.040164534)]\n",
            "1/1 [==============================] - 0s 22ms/step\n",
            "4_5_1_009_05_1_bm3d_denoised.jpg [('n07693725', 'bagel', 0.2875398), ('n03887697', 'paper_towel', 0.12923087), ('n03179701', 'desk', 0.06981449)]\n",
            "1/1 [==============================] - 0s 22ms/step\n",
            "4_5_1_010_05_1_bm3d_denoised.jpg [('n04380533', 'table_lamp', 0.15189755), ('n03201208', 'dining_table', 0.13819842), ('n04201297', 'shoji', 0.07742964)]\n"
          ]
        }
      ]
    },
    {
      "cell_type": "markdown",
      "source": [
        "### Level 3"
      ],
      "metadata": {
        "id": "UIq-EHYOQuLZ"
      }
    },
    {
      "cell_type": "markdown",
      "source": [
        "#### Noisy"
      ],
      "metadata": {
        "id": "nZKu7nFiQuLa"
      }
    },
    {
      "cell_type": "code",
      "source": [
        "filepath = '/content/drive/MyDrive/ECE_6258_DIP/OR Images/05_Blur/level3/05_blur_level3'\n",
        "noisy_preds = []\n",
        "for file in os.listdir(filepath):\n",
        "  img = image.load_img(filepath+'/'+file, target_size=(224, 224))\n",
        "  x = image.img_to_array(img)\n",
        "  x = np.expand_dims(x, axis=0)\n",
        "  x = preprocess_input(x)\n",
        "\n",
        "  preds = model.predict(x)\n",
        "  print(file,decode_predictions(preds, top=3)[0])"
      ],
      "metadata": {
        "colab": {
          "base_uri": "https://localhost:8080/"
        },
        "outputId": "a0f02349-8525-445b-bb10-15da97274ff2",
        "id": "KaRhyYBbQuLb"
      },
      "execution_count": 96,
      "outputs": [
        {
          "output_type": "stream",
          "name": "stdout",
          "text": [
            "1/1 [==============================] - 0s 22ms/step\n",
            "4_5_1_005_05_3.jpg [('n07920052', 'espresso', 0.1864447), ('n07693725', 'bagel', 0.18609992), ('n07932039', 'eggnog', 0.17003122)]\n",
            "1/1 [==============================] - 0s 21ms/step\n",
            "4_5_1_001_05_3.jpg [('n07920052', 'espresso', 0.30770847), ('n07693725', 'bagel', 0.15889917), ('n07932039', 'eggnog', 0.15073611)]\n",
            "1/1 [==============================] - 0s 22ms/step\n",
            "4_5_1_008_05_3.jpg [('n03871628', 'packet', 0.117296256), ('n02783161', 'ballpoint', 0.04694592), ('n07693725', 'bagel', 0.039186697)]\n",
            "1/1 [==============================] - 0s 26ms/step\n",
            "4_5_1_004_05_3.jpg [('n07920052', 'espresso', 0.25330463), ('n07693725', 'bagel', 0.2003577), ('n07932039', 'eggnog', 0.09923648)]\n",
            "1/1 [==============================] - 0s 25ms/step\n",
            "4_5_1_007_05_3.jpg [('n07693725', 'bagel', 0.29218584), ('n07932039', 'eggnog', 0.1312555), ('n07920052', 'espresso', 0.11291334)]\n",
            "1/1 [==============================] - 0s 22ms/step\n",
            "4_5_1_010_05_3.jpg [('n07920052', 'espresso', 0.21396965), ('n07693725', 'bagel', 0.18510325), ('n07932039', 'eggnog', 0.16064483)]\n",
            "1/1 [==============================] - 0s 21ms/step\n",
            "4_5_1_002_05_3.jpg [('n07932039', 'eggnog', 0.25827974), ('n07920052', 'espresso', 0.22048162), ('n07693725', 'bagel', 0.12583828)]\n",
            "1/1 [==============================] - 0s 24ms/step\n",
            "4_5_1_006_05_3.jpg [('n07920052', 'espresso', 0.22233629), ('n07932039', 'eggnog', 0.21019845), ('n07693725', 'bagel', 0.12932487)]\n",
            "1/1 [==============================] - 0s 20ms/step\n",
            "4_5_1_003_05_3.jpg [('n07920052', 'espresso', 0.23888507), ('n07693725', 'bagel', 0.16650279), ('n07932039', 'eggnog', 0.10644721)]\n",
            "1/1 [==============================] - 0s 27ms/step\n",
            "4_5_1_009_05_3.jpg [('n07920052', 'espresso', 0.57028073), ('n07932039', 'eggnog', 0.10403644), ('n07693725', 'bagel', 0.060509745)]\n"
          ]
        }
      ]
    },
    {
      "cell_type": "markdown",
      "source": [
        "### NLM Denoised"
      ],
      "metadata": {
        "id": "TcoeYZvGQuLc"
      }
    },
    {
      "cell_type": "code",
      "source": [
        "filepath = '/content/drive/MyDrive/ECE_6258_DIP/OR Images/05_Blur/level3/05_blur_level3_denoised'\n",
        "noisy_preds = []\n",
        "for file in os.listdir(filepath):\n",
        "  img = image.load_img(filepath+'/'+file, target_size=(224, 224))\n",
        "  x = image.img_to_array(img)\n",
        "  x = np.expand_dims(x, axis=0)\n",
        "  x = preprocess_input(x)\n",
        "\n",
        "  preds = model.predict(x)\n",
        "  print(file,decode_predictions(preds, top=3)[0])"
      ],
      "metadata": {
        "colab": {
          "base_uri": "https://localhost:8080/"
        },
        "id": "OJYiugeJQuLd",
        "outputId": "d5324c4e-d36c-44ae-b216-9d964bb41e37"
      },
      "execution_count": 97,
      "outputs": [
        {
          "output_type": "stream",
          "name": "stdout",
          "text": [
            "1/1 [==============================] - 0s 24ms/step\n",
            "4_5_1_001_05_3_denoised.jpg [('n07920052', 'espresso', 0.36186033), ('n07693725', 'bagel', 0.142885), ('n07932039', 'eggnog', 0.10178861)]\n",
            "1/1 [==============================] - 0s 23ms/step\n",
            "4_5_1_002_05_3_denoised.jpg [('n07920052', 'espresso', 0.29705316), ('n07932039', 'eggnog', 0.1673894), ('n07693725', 'bagel', 0.1124925)]\n",
            "1/1 [==============================] - 0s 21ms/step\n",
            "4_5_1_003_05_3_denoised.jpg [('n07920052', 'espresso', 0.23503006), ('n07693725', 'bagel', 0.16733734), ('n07932039', 'eggnog', 0.08020209)]\n",
            "1/1 [==============================] - 0s 28ms/step\n",
            "4_5_1_004_05_3_denoised.jpg [('n07920052', 'espresso', 0.3002386), ('n07693725', 'bagel', 0.19075921), ('n07684084', 'French_loaf', 0.0675543)]\n",
            "1/1 [==============================] - 0s 28ms/step\n",
            "4_5_1_005_05_3_denoised.jpg [('n07920052', 'espresso', 0.1873054), ('n07693725', 'bagel', 0.1639394), ('n07932039', 'eggnog', 0.10929179)]\n",
            "1/1 [==============================] - 0s 22ms/step\n",
            "4_5_1_006_05_3_denoised.jpg [('n07920052', 'espresso', 0.25946715), ('n07693725', 'bagel', 0.1602195), ('n07932039', 'eggnog', 0.14649943)]\n",
            "1/1 [==============================] - 0s 23ms/step\n",
            "4_5_1_007_05_3_denoised.jpg [('n07693725', 'bagel', 0.30296558), ('n07920052', 'espresso', 0.1284638), ('n07932039', 'eggnog', 0.10052465)]\n",
            "1/1 [==============================] - 0s 22ms/step\n",
            "4_5_1_008_05_3_denoised.jpg [('n03871628', 'packet', 0.09458326), ('n04074963', 'remote_control', 0.039644234), ('n02783161', 'ballpoint', 0.03711529)]\n",
            "1/1 [==============================] - 0s 25ms/step\n",
            "4_5_1_009_05_3_denoised.jpg [('n07920052', 'espresso', 0.56817687), ('n07932039', 'eggnog', 0.08439406), ('n07693725', 'bagel', 0.044225525)]\n",
            "1/1 [==============================] - 0s 25ms/step\n",
            "4_5_1_010_05_3_denoised.jpg [('n07920052', 'espresso', 0.24588147), ('n07693725', 'bagel', 0.16057195), ('n07932039', 'eggnog', 0.11548095)]\n"
          ]
        }
      ]
    },
    {
      "cell_type": "markdown",
      "source": [
        "### BM3D Denoised"
      ],
      "metadata": {
        "id": "b-DJEFF8QuLe"
      }
    },
    {
      "cell_type": "code",
      "source": [
        "filepath = '/content/drive/MyDrive/ECE_6258_DIP/OR Images/05_Blur/level3/05_blur_level3_bm3d_denoised'\n",
        "noisy_preds = []\n",
        "for file in os.listdir(filepath):\n",
        "  img = image.load_img(filepath+'/'+file, target_size=(224, 224))\n",
        "  x = image.img_to_array(img)\n",
        "  x = np.expand_dims(x, axis=0)\n",
        "  x = preprocess_input(x)\n",
        "\n",
        "  preds = model.predict(x)\n",
        "  print(file,decode_predictions(preds, top=3)[0])"
      ],
      "metadata": {
        "colab": {
          "base_uri": "https://localhost:8080/"
        },
        "id": "YzNq6oo5QuLf",
        "outputId": "d80105fc-1027-4b13-817d-ddacdf085f7b"
      },
      "execution_count": 98,
      "outputs": [
        {
          "output_type": "stream",
          "name": "stdout",
          "text": [
            "1/1 [==============================] - 0s 25ms/step\n",
            "4_5_1_001_05_3_bm3d_denoised.jpg [('n07920052', 'espresso', 0.44850406), ('n07693725', 'bagel', 0.13171415), ('n07932039', 'eggnog', 0.06315244)]\n",
            "1/1 [==============================] - 0s 24ms/step\n",
            "4_5_1_002_05_3_bm3d_denoised.jpg [('n07920052', 'espresso', 0.3274903), ('n07932039', 'eggnog', 0.11252809), ('n07693725', 'bagel', 0.10878197)]\n",
            "1/1 [==============================] - 0s 24ms/step\n",
            "4_5_1_003_05_3_bm3d_denoised.jpg [('n07920052', 'espresso', 0.22421098), ('n07693725', 'bagel', 0.16330872), ('n03063599', 'coffee_mug', 0.072005)]\n",
            "1/1 [==============================] - 0s 38ms/step\n",
            "4_5_1_004_05_3_bm3d_denoised.jpg [('n07920052', 'espresso', 0.33772972), ('n07693725', 'bagel', 0.16762403), ('n03063599', 'coffee_mug', 0.077155195)]\n",
            "1/1 [==============================] - 0s 26ms/step\n",
            "4_5_1_005_05_3_bm3d_denoised.jpg [('n07920052', 'espresso', 0.22635332), ('n07693725', 'bagel', 0.17524256), ('n07932039', 'eggnog', 0.08018148)]\n",
            "1/1 [==============================] - 0s 30ms/step\n",
            "4_5_1_006_05_3_bm3d_denoised.jpg [('n07920052', 'espresso', 0.2484499), ('n07693725', 'bagel', 0.14974368), ('n07932039', 'eggnog', 0.09177633)]\n",
            "1/1 [==============================] - 0s 31ms/step\n",
            "4_5_1_007_05_3_bm3d_denoised.jpg [('n07693725', 'bagel', 0.3224062), ('n07920052', 'espresso', 0.14164549), ('n07932039', 'eggnog', 0.05725574)]\n",
            "1/1 [==============================] - 0s 31ms/step\n",
            "4_5_1_008_05_3_bm3d_denoised.jpg [('n03871628', 'packet', 0.07215215), ('n04074963', 'remote_control', 0.046588644), ('n07693725', 'bagel', 0.04554997)]\n",
            "1/1 [==============================] - 0s 28ms/step\n",
            "4_5_1_009_05_3_bm3d_denoised.jpg [('n07920052', 'espresso', 0.5806557), ('n07932039', 'eggnog', 0.0739535), ('n07693725', 'bagel', 0.048881892)]\n",
            "1/1 [==============================] - 0s 32ms/step\n",
            "4_5_1_010_05_3_bm3d_denoised.jpg [('n07920052', 'espresso', 0.25654355), ('n07693725', 'bagel', 0.12828553), ('n07932039', 'eggnog', 0.093571365)]\n"
          ]
        }
      ]
    },
    {
      "cell_type": "markdown",
      "source": [
        "### Level 5"
      ],
      "metadata": {
        "id": "8lSCNUI_QuLg"
      }
    },
    {
      "cell_type": "markdown",
      "source": [
        "#### Noisy"
      ],
      "metadata": {
        "id": "qhXtYVUJQuLh"
      }
    },
    {
      "cell_type": "code",
      "source": [
        "filepath = '/content/drive/MyDrive/ECE_6258_DIP/OR Images/05_Blur/level5/05_blur_level5'\n",
        "noisy_preds = []\n",
        "for file in os.listdir(filepath):\n",
        "  img = image.load_img(filepath+'/'+file, target_size=(224, 224))\n",
        "  x = image.img_to_array(img)\n",
        "  x = np.expand_dims(x, axis=0)\n",
        "  x = preprocess_input(x)\n",
        "\n",
        "  preds = model.predict(x)\n",
        "  print(file,decode_predictions(preds, top=3)[0])"
      ],
      "metadata": {
        "colab": {
          "base_uri": "https://localhost:8080/"
        },
        "outputId": "8834f7bf-9f89-44c6-a57c-61fa27fd7efc",
        "id": "x2V02_M1QuLh"
      },
      "execution_count": 99,
      "outputs": [
        {
          "output_type": "stream",
          "name": "stdout",
          "text": [
            "1/1 [==============================] - 0s 27ms/step\n",
            "4_5_1_004_05_5.jpg [('n07920052', 'espresso', 0.22607762), ('n07932039', 'eggnog', 0.13181685), ('n03063599', 'coffee_mug', 0.07524319)]\n",
            "1/1 [==============================] - 0s 28ms/step\n",
            "4_5_1_005_05_5.jpg [('n07920052', 'espresso', 0.2566363), ('n07932039', 'eggnog', 0.11095784), ('n03063599', 'coffee_mug', 0.0796728)]\n",
            "1/1 [==============================] - 0s 29ms/step\n",
            "4_5_1_002_05_5.jpg [('n07920052', 'espresso', 0.18433565), ('n07932039', 'eggnog', 0.11632442), ('n03729826', 'matchstick', 0.06939238)]\n",
            "1/1 [==============================] - 0s 24ms/step\n",
            "4_5_1_003_05_5.jpg [('n07920052', 'espresso', 0.16426809), ('n07932039', 'eggnog', 0.1439226), ('n03729826', 'matchstick', 0.0833169)]\n",
            "1/1 [==============================] - 0s 26ms/step\n",
            "4_5_1_001_05_5.jpg [('n07920052', 'espresso', 0.28658313), ('n07932039', 'eggnog', 0.1396957), ('n03063599', 'coffee_mug', 0.07154933)]\n",
            "1/1 [==============================] - 0s 24ms/step\n",
            "4_5_1_010_05_5.jpg [('n07920052', 'espresso', 0.23142837), ('n07932039', 'eggnog', 0.15481883), ('n03729826', 'matchstick', 0.11969675)]\n",
            "1/1 [==============================] - 0s 25ms/step\n",
            "4_5_1_009_05_5.jpg [('n03729826', 'matchstick', 0.46527827), ('n07920052', 'espresso', 0.108457126), ('n02783161', 'ballpoint', 0.05970999)]\n",
            "1/1 [==============================] - 0s 25ms/step\n",
            "4_5_1_007_05_5.jpg [('n07920052', 'espresso', 0.2311938), ('n07932039', 'eggnog', 0.10903125), ('n03729826', 'matchstick', 0.084162876)]\n",
            "1/1 [==============================] - 0s 27ms/step\n",
            "4_5_1_006_05_5.jpg [('n07920052', 'espresso', 0.31288046), ('n03729826', 'matchstick', 0.1373923), ('n07932039', 'eggnog', 0.10218935)]\n",
            "1/1 [==============================] - 0s 27ms/step\n",
            "4_5_1_008_05_5.jpg [('n02783161', 'ballpoint', 0.11568053), ('n07920052', 'espresso', 0.08169292), ('n03729826', 'matchstick', 0.05914757)]\n"
          ]
        }
      ]
    },
    {
      "cell_type": "markdown",
      "source": [
        "### NLM Denoised"
      ],
      "metadata": {
        "id": "jmKt9Vk0QuLi"
      }
    },
    {
      "cell_type": "code",
      "source": [
        "filepath = '/content/drive/MyDrive/ECE_6258_DIP/OR Images/05_Blur/level5/05_blur_level5_denoised'\n",
        "noisy_preds = []\n",
        "for file in os.listdir(filepath):\n",
        "  img = image.load_img(filepath+'/'+file, target_size=(224, 224))\n",
        "  x = image.img_to_array(img)\n",
        "  x = np.expand_dims(x, axis=0)\n",
        "  x = preprocess_input(x)\n",
        "\n",
        "  preds = model.predict(x)\n",
        "  print(file,decode_predictions(preds, top=3)[0])"
      ],
      "metadata": {
        "colab": {
          "base_uri": "https://localhost:8080/"
        },
        "id": "6QAO_-QrQuLj",
        "outputId": "8c944ae1-61c5-4940-f993-28ddb232aa48"
      },
      "execution_count": 100,
      "outputs": [
        {
          "output_type": "stream",
          "name": "stdout",
          "text": [
            "1/1 [==============================] - 0s 26ms/step\n",
            "4_5_1_001_05_5_denoised.jpg [('n07920052', 'espresso', 0.2727756), ('n03063599', 'coffee_mug', 0.070601255), ('n07932039', 'eggnog', 0.06408831)]\n",
            "1/1 [==============================] - 0s 27ms/step\n",
            "4_5_1_002_05_5_denoised.jpg [('n07920052', 'espresso', 0.12799641), ('n02999410', 'chain', 0.057090458), ('n03063599', 'coffee_mug', 0.053135168)]\n",
            "1/1 [==============================] - 0s 33ms/step\n",
            "4_5_1_003_05_5_denoised.jpg [('n07920052', 'espresso', 0.10256388), ('n02999410', 'chain', 0.06661575), ('n03063599', 'coffee_mug', 0.054422382)]\n",
            "1/1 [==============================] - 0s 29ms/step\n",
            "4_5_1_004_05_5_denoised.jpg [('n07920052', 'espresso', 0.19737141), ('n03063599', 'coffee_mug', 0.07652191), ('n07930864', 'cup', 0.058953337)]\n",
            "1/1 [==============================] - 0s 30ms/step\n",
            "4_5_1_005_05_5_denoised.jpg [('n07920052', 'espresso', 0.18010695), ('n03063599', 'coffee_mug', 0.07379495), ('n07930864', 'cup', 0.06117312)]\n",
            "1/1 [==============================] - 0s 24ms/step\n",
            "4_5_1_006_05_5_denoised.jpg [('n07920052', 'espresso', 0.2687806), ('n03729826', 'matchstick', 0.08527304), ('n07932039', 'eggnog', 0.06469984)]\n",
            "1/1 [==============================] - 0s 25ms/step\n",
            "4_5_1_007_05_5_denoised.jpg [('n07920052', 'espresso', 0.16879435), ('n07932039', 'eggnog', 0.057368428), ('n03063599', 'coffee_mug', 0.051781047)]\n",
            "1/1 [==============================] - 0s 25ms/step\n",
            "4_5_1_008_05_5_denoised.jpg [('n02783161', 'ballpoint', 0.07372098), ('n03729826', 'matchstick', 0.05285384), ('n07920052', 'espresso', 0.052768774)]\n",
            "1/1 [==============================] - 0s 26ms/step\n",
            "4_5_1_009_05_5_denoised.jpg [('n03729826', 'matchstick', 0.38525257), ('n07920052', 'espresso', 0.15858635), ('n07932039', 'eggnog', 0.05264929)]\n",
            "1/1 [==============================] - 0s 25ms/step\n",
            "4_5_1_010_05_5_denoised.jpg [('n07920052', 'espresso', 0.23053819), ('n07932039', 'eggnog', 0.08583572), ('n03729826', 'matchstick', 0.062437706)]\n"
          ]
        }
      ]
    },
    {
      "cell_type": "markdown",
      "source": [
        "### BM3D Denoised"
      ],
      "metadata": {
        "id": "Wdsv45p5QuLj"
      }
    },
    {
      "cell_type": "code",
      "source": [
        "filepath = '/content/drive/MyDrive/ECE_6258_DIP/OR Images/05_Blur/level5/05_blur_level5_bm3d_denoised'\n",
        "noisy_preds = []\n",
        "for file in os.listdir(filepath):\n",
        "  img = image.load_img(filepath+'/'+file, target_size=(224, 224))\n",
        "  x = image.img_to_array(img)\n",
        "  x = np.expand_dims(x, axis=0)\n",
        "  x = preprocess_input(x)\n",
        "\n",
        "  preds = model.predict(x)\n",
        "  print(file,decode_predictions(preds, top=3)[0])"
      ],
      "metadata": {
        "colab": {
          "base_uri": "https://localhost:8080/"
        },
        "id": "ZlOf0Xn6QuLk",
        "outputId": "4795b11f-6eb4-420a-8831-b66d2d5b82d7"
      },
      "execution_count": 101,
      "outputs": [
        {
          "output_type": "stream",
          "name": "stdout",
          "text": [
            "1/1 [==============================] - 0s 24ms/step\n",
            "4_5_1_001_05_5_bm3d_denoised.jpg [('n07920052', 'espresso', 0.17956293), ('n03657121', 'lens_cap', 0.058782242), ('n03063599', 'coffee_mug', 0.05165648)]\n",
            "1/1 [==============================] - 0s 29ms/step\n",
            "4_5_1_002_05_5_bm3d_denoised.jpg [('n07920052', 'espresso', 0.11130399), ('n03657121', 'lens_cap', 0.057980787), ('n02999410', 'chain', 0.056679454)]\n",
            "1/1 [==============================] - 0s 26ms/step\n",
            "4_5_1_003_05_5_bm3d_denoised.jpg [('n03657121', 'lens_cap', 0.078265026), ('n07920052', 'espresso', 0.06787894), ('n02999410', 'chain', 0.06484424)]\n",
            "1/1 [==============================] - 0s 23ms/step\n",
            "4_5_1_004_05_5_bm3d_denoised.jpg [('n07920052', 'espresso', 0.1287999), ('n02999410', 'chain', 0.064170815), ('n03657121', 'lens_cap', 0.061994463)]\n",
            "1/1 [==============================] - 0s 24ms/step\n",
            "4_5_1_005_05_5_bm3d_denoised.jpg [('n07920052', 'espresso', 0.13025552), ('n03657121', 'lens_cap', 0.062296003), ('n02999410', 'chain', 0.055788256)]\n",
            "1/1 [==============================] - 0s 26ms/step\n",
            "4_5_1_006_05_5_bm3d_denoised.jpg [('n07920052', 'espresso', 0.20217462), ('n03729826', 'matchstick', 0.07114962), ('n07932039', 'eggnog', 0.038458128)]\n",
            "1/1 [==============================] - 0s 26ms/step\n",
            "4_5_1_007_05_5_bm3d_denoised.jpg [('n07920052', 'espresso', 0.09850016), ('n03657121', 'lens_cap', 0.07014958), ('n02999410', 'chain', 0.038799524)]\n",
            "1/1 [==============================] - 0s 22ms/step\n",
            "4_5_1_008_05_5_bm3d_denoised.jpg [('n04116512', 'rubber_eraser', 0.047928635), ('n03729826', 'matchstick', 0.043964155), ('n03657121', 'lens_cap', 0.041717637)]\n",
            "1/1 [==============================] - 0s 24ms/step\n",
            "4_5_1_009_05_5_bm3d_denoised.jpg [('n07920052', 'espresso', 0.242555), ('n03729826', 'matchstick', 0.20163323), ('n07932039', 'eggnog', 0.04854518)]\n",
            "1/1 [==============================] - 0s 26ms/step\n",
            "4_5_1_010_05_5_bm3d_denoised.jpg [('n07920052', 'espresso', 0.21658784), ('n07932039', 'eggnog', 0.07121635), ('n03063599', 'coffee_mug', 0.061410278)]\n"
          ]
        }
      ]
    },
    {
      "cell_type": "markdown",
      "source": [
        "# 06 Contrast"
      ],
      "metadata": {
        "id": "TUZJS0EeQzjQ"
      }
    },
    {
      "cell_type": "markdown",
      "source": [
        "## Level 1"
      ],
      "metadata": {
        "id": "AKhUgNLBQTm4"
      }
    },
    {
      "cell_type": "markdown",
      "source": [
        "### Noisy"
      ],
      "metadata": {
        "id": "Nd0L37RQQTm5"
      }
    },
    {
      "cell_type": "code",
      "source": [
        "filepath = '/content/drive/MyDrive/ECE_6258_DIP/OR Images/06_contrast/level1/06_contrast'\n",
        "noisy_preds = []\n",
        "for file in os.listdir(filepath):\n",
        "  img = image.load_img(filepath+'/'+file, target_size=(224, 224))\n",
        "  x = image.img_to_array(img)\n",
        "  x = np.expand_dims(x, axis=0)\n",
        "  x = preprocess_input(x)\n",
        "\n",
        "  preds = model.predict(x)\n",
        "  print(file,decode_predictions(preds, top=3)[0])"
      ],
      "metadata": {
        "colab": {
          "base_uri": "https://localhost:8080/"
        },
        "outputId": "35424f27-70ef-4f3c-e0a0-e78466ac476a",
        "id": "2sIiALL6QTm6"
      },
      "execution_count": 102,
      "outputs": [
        {
          "output_type": "stream",
          "name": "stdout",
          "text": [
            "1/1 [==============================] - 0s 23ms/step\n",
            "4_5_1_003_06_1.jpg [('n04344873', 'studio_couch', 0.6916737), ('n04380533', 'table_lamp', 0.13314956), ('n03201208', 'dining_table', 0.09697153)]\n",
            "1/1 [==============================] - 0s 25ms/step\n",
            "4_5_1_005_06_1.jpg [('n04344873', 'studio_couch', 0.54897493), ('n04380533', 'table_lamp', 0.22397365), ('n03201208', 'dining_table', 0.06900746)]\n",
            "1/1 [==============================] - 0s 24ms/step\n",
            "4_5_1_001_06_1.jpg [('n03201208', 'dining_table', 0.7281025), ('n04344873', 'studio_couch', 0.17256963), ('n04380533', 'table_lamp', 0.048913475)]\n",
            "1/1 [==============================] - 0s 25ms/step\n",
            "4_5_1_002_06_1.jpg [('n03201208', 'dining_table', 0.898905), ('n04344873', 'studio_couch', 0.044872824), ('n04380533', 'table_lamp', 0.026656363)]\n",
            "1/1 [==============================] - 0s 24ms/step\n",
            "4_5_1_004_06_1.jpg [('n04344873', 'studio_couch', 0.3794151), ('n04380533', 'table_lamp', 0.34203792), ('n03201208', 'dining_table', 0.19239083)]\n",
            "1/1 [==============================] - 0s 25ms/step\n",
            "4_5_1_009_06_1.jpg [('n04344873', 'studio_couch', 0.87008756), ('n04380533', 'table_lamp', 0.030076059), ('n03179701', 'desk', 0.02978304)]\n",
            "1/1 [==============================] - 0s 24ms/step\n",
            "4_5_1_007_06_1.jpg [('n03201208', 'dining_table', 0.73122257), ('n04380533', 'table_lamp', 0.101652786), ('n03584829', 'iron', 0.04867883)]\n",
            "1/1 [==============================] - 0s 27ms/step\n",
            "4_5_1_006_06_1.jpg [('n04265275', 'space_heater', 0.8638627), ('n04041544', 'radio', 0.048322927), ('n04404412', 'television', 0.020587483)]\n",
            "1/1 [==============================] - 0s 26ms/step\n",
            "4_5_1_008_06_1.jpg [('n04344873', 'studio_couch', 0.73793423), ('n04380533', 'table_lamp', 0.1599338), ('n03201208', 'dining_table', 0.036627807)]\n",
            "1/1 [==============================] - 0s 23ms/step\n",
            "4_5_1_010_06_1.jpg [('n04380533', 'table_lamp', 0.8405509), ('n03201208', 'dining_table', 0.0749032), ('n04344873', 'studio_couch', 0.038143363)]\n"
          ]
        }
      ]
    },
    {
      "cell_type": "markdown",
      "source": [
        "### NLM Denoised"
      ],
      "metadata": {
        "id": "HM-evJosQTm-"
      }
    },
    {
      "cell_type": "code",
      "source": [
        "filepath = '/content/drive/MyDrive/ECE_6258_DIP/OR Images/06_contrast/level1/06_contrast_denoised'\n",
        "noisy_preds = []\n",
        "for file in os.listdir(filepath):\n",
        "  img = image.load_img(filepath+'/'+file, target_size=(224, 224))\n",
        "  x = image.img_to_array(img)\n",
        "  x = np.expand_dims(x, axis=0)\n",
        "  x = preprocess_input(x)\n",
        "\n",
        "  preds = model.predict(x)\n",
        "  print(file,decode_predictions(preds, top=3)[0])"
      ],
      "metadata": {
        "colab": {
          "base_uri": "https://localhost:8080/"
        },
        "id": "dcy6bOBsQTnA",
        "outputId": "df942fc8-380d-4e5c-b6ca-e4a1897fe120"
      },
      "execution_count": 103,
      "outputs": [
        {
          "output_type": "stream",
          "name": "stdout",
          "text": [
            "1/1 [==============================] - 0s 23ms/step\n",
            "4_5_1_001_06_1_denoised.jpg [('n04380533', 'table_lamp', 0.26253912), ('n03179701', 'desk', 0.15066592), ('n03201208', 'dining_table', 0.14494722)]\n",
            "1/1 [==============================] - 0s 23ms/step\n",
            "4_5_1_002_06_1_denoised.jpg [('n03201208', 'dining_table', 0.3042223), ('n04380533', 'table_lamp', 0.24105126), ('n03179701', 'desk', 0.13910456)]\n",
            "1/1 [==============================] - 0s 23ms/step\n",
            "4_5_1_003_06_1_denoised.jpg [('n04380533', 'table_lamp', 0.49909577), ('n03201208', 'dining_table', 0.12916474), ('n03179701', 'desk', 0.11613374)]\n",
            "1/1 [==============================] - 0s 24ms/step\n",
            "4_5_1_004_06_1_denoised.jpg [('n04380533', 'table_lamp', 0.49483833), ('n03179701', 'desk', 0.10400386), ('n03201208', 'dining_table', 0.10111982)]\n",
            "1/1 [==============================] - 0s 32ms/step\n",
            "4_5_1_005_06_1_denoised.jpg [('n04380533', 'table_lamp', 0.40430003), ('n03179701', 'desk', 0.15595973), ('n04344873', 'studio_couch', 0.054926388)]\n",
            "1/1 [==============================] - 0s 41ms/step\n",
            "4_5_1_006_06_1_denoised.jpg [('n03179701', 'desk', 0.2274929), ('n04380533', 'table_lamp', 0.109175295), ('n04590129', 'window_shade', 0.09022295)]\n",
            "1/1 [==============================] - 0s 34ms/step\n",
            "4_5_1_007_06_1_denoised.jpg [('n04380533', 'table_lamp', 0.3073487), ('n03201208', 'dining_table', 0.18608603), ('n03179701', 'desk', 0.1803231)]\n",
            "1/1 [==============================] - 0s 35ms/step\n",
            "4_5_1_008_06_1_denoised.jpg [('n04380533', 'table_lamp', 0.5228561), ('n03179701', 'desk', 0.08435388), ('n03201208', 'dining_table', 0.05805043)]\n",
            "1/1 [==============================] - 0s 56ms/step\n",
            "4_5_1_009_06_1_denoised.jpg [('n04344873', 'studio_couch', 0.36325905), ('n04380533', 'table_lamp', 0.22451267), ('n04590129', 'window_shade', 0.08490803)]\n",
            "1/1 [==============================] - 0s 38ms/step\n",
            "4_5_1_010_06_1_denoised.jpg [('n04380533', 'table_lamp', 0.64669496), ('n04590129', 'window_shade', 0.07472464), ('n03179701', 'desk', 0.060405575)]\n"
          ]
        }
      ]
    },
    {
      "cell_type": "markdown",
      "source": [
        "### BM3D Denoised"
      ],
      "metadata": {
        "id": "Og8OwR-KQTnC"
      }
    },
    {
      "cell_type": "code",
      "source": [
        "filepath = '/content/drive/MyDrive/ECE_6258_DIP/OR Images/06_contrast/level1/06_contrast_bm3d_denoised'\n",
        "noisy_preds = []\n",
        "for file in os.listdir(filepath):\n",
        "  img = image.load_img(filepath+'/'+file, target_size=(224, 224))\n",
        "  x = image.img_to_array(img)\n",
        "  x = np.expand_dims(x, axis=0)\n",
        "  x = preprocess_input(x)\n",
        "\n",
        "  preds = model.predict(x)\n",
        "  print(file,decode_predictions(preds, top=3)[0])"
      ],
      "metadata": {
        "colab": {
          "base_uri": "https://localhost:8080/"
        },
        "id": "I3fv8wdWQTnD",
        "outputId": "2c39c6e5-4054-437b-8fc7-24d36bca7981"
      },
      "execution_count": 104,
      "outputs": [
        {
          "output_type": "stream",
          "name": "stdout",
          "text": [
            "1/1 [==============================] - 0s 35ms/step\n",
            "4_5_1_001_06_1_bm3d_denoised.jpg [('n03201208', 'dining_table', 0.8730909), ('n04380533', 'table_lamp', 0.02926116), ('n03179701', 'desk', 0.02897851)]\n",
            "1/1 [==============================] - 0s 35ms/step\n",
            "4_5_1_002_06_1_bm3d_denoised.jpg [('n03201208', 'dining_table', 0.86726755), ('n03179701', 'desk', 0.04696768), ('n04380533', 'table_lamp', 0.031037703)]\n",
            "1/1 [==============================] - 0s 49ms/step\n",
            "4_5_1_003_06_1_bm3d_denoised.jpg [('n04344873', 'studio_couch', 0.2698067), ('n04380533', 'table_lamp', 0.26511532), ('n03201208', 'dining_table', 0.24221925)]\n",
            "1/1 [==============================] - 0s 36ms/step\n",
            "4_5_1_004_06_1_bm3d_denoised.jpg [('n03201208', 'dining_table', 0.35879847), ('n04380533', 'table_lamp', 0.32431284), ('n04344873', 'studio_couch', 0.15698384)]\n",
            "1/1 [==============================] - 0s 39ms/step\n",
            "4_5_1_005_06_1_bm3d_denoised.jpg [('n04344873', 'studio_couch', 0.28955033), ('n04380533', 'table_lamp', 0.21681707), ('n03201208', 'dining_table', 0.18516363)]\n",
            "1/1 [==============================] - 0s 38ms/step\n",
            "4_5_1_006_06_1_bm3d_denoised.jpg [('n04265275', 'space_heater', 0.8107145), ('n04041544', 'radio', 0.09455412), ('n04404412', 'television', 0.014576573)]\n",
            "1/1 [==============================] - 0s 35ms/step\n",
            "4_5_1_007_06_1_bm3d_denoised.jpg [('n03201208', 'dining_table', 0.70793253), ('n04380533', 'table_lamp', 0.13175996), ('n04344873', 'studio_couch', 0.056701317)]\n",
            "1/1 [==============================] - 0s 35ms/step\n",
            "4_5_1_008_06_1_bm3d_denoised.jpg [('n04380533', 'table_lamp', 0.3964857), ('n04344873', 'studio_couch', 0.29719856), ('n03201208', 'dining_table', 0.0923664)]\n",
            "1/1 [==============================] - 0s 44ms/step\n",
            "4_5_1_009_06_1_bm3d_denoised.jpg [('n04344873', 'studio_couch', 0.6386073), ('n04380533', 'table_lamp', 0.19996105), ('n04590129', 'window_shade', 0.027751504)]\n",
            "1/1 [==============================] - 0s 37ms/step\n",
            "4_5_1_010_06_1_bm3d_denoised.jpg [('n04380533', 'table_lamp', 0.52244127), ('n03201208', 'dining_table', 0.312958), ('n04344873', 'studio_couch', 0.07762916)]\n"
          ]
        }
      ]
    },
    {
      "cell_type": "markdown",
      "source": [
        "### Level 3"
      ],
      "metadata": {
        "id": "v4xE9QOwQTnE"
      }
    },
    {
      "cell_type": "markdown",
      "source": [
        "#### Noisy"
      ],
      "metadata": {
        "id": "cn_8T_wkQTnF"
      }
    },
    {
      "cell_type": "code",
      "source": [
        "filepath = '/content/drive/MyDrive/ECE_6258_DIP/OR Images/06_contrast/level3/06_contrast_level3'\n",
        "noisy_preds = []\n",
        "for file in os.listdir(filepath):\n",
        "  img = image.load_img(filepath+'/'+file, target_size=(224, 224))\n",
        "  x = image.img_to_array(img)\n",
        "  x = np.expand_dims(x, axis=0)\n",
        "  x = preprocess_input(x)\n",
        "\n",
        "  preds = model.predict(x)\n",
        "  print(file,decode_predictions(preds, top=3)[0])"
      ],
      "metadata": {
        "colab": {
          "base_uri": "https://localhost:8080/"
        },
        "outputId": "f8e7caa4-bd4a-4efc-de81-d97eca443243",
        "id": "xa4qWaGBQTnG"
      },
      "execution_count": 105,
      "outputs": [
        {
          "output_type": "stream",
          "name": "stdout",
          "text": [
            "1/1 [==============================] - 0s 33ms/step\n",
            "4_5_1_001_06_3.jpg [('n03201208', 'dining_table', 0.6270377), ('n04344873', 'studio_couch', 0.27114674), ('n04380533', 'table_lamp', 0.032788254)]\n",
            "1/1 [==============================] - 0s 35ms/step\n",
            "4_5_1_002_06_3.jpg [('n03201208', 'dining_table', 0.91424185), ('n04344873', 'studio_couch', 0.04974751), ('n04081281', 'restaurant', 0.01599007)]\n",
            "1/1 [==============================] - 0s 44ms/step\n",
            "4_5_1_003_06_3.jpg [('n04344873', 'studio_couch', 0.91384107), ('n03201208', 'dining_table', 0.03783073), ('n04380533', 'table_lamp', 0.018164108)]\n",
            "1/1 [==============================] - 0s 32ms/step\n",
            "4_5_1_008_06_3.jpg [('n04344873', 'studio_couch', 0.9729254), ('n04033995', 'quilt', 0.01703055), ('n03201208', 'dining_table', 0.0026694078)]\n",
            "1/1 [==============================] - 0s 33ms/step\n",
            "4_5_1_007_06_3.jpg [('n03201208', 'dining_table', 0.64471644), ('n04344873', 'studio_couch', 0.09450883), ('n04380533', 'table_lamp', 0.06570177)]\n",
            "1/1 [==============================] - 0s 31ms/step\n",
            "4_5_1_004_06_3.jpg [('n04344873', 'studio_couch', 0.7072543), ('n03201208', 'dining_table', 0.1872317), ('n04380533', 'table_lamp', 0.05766045)]\n",
            "1/1 [==============================] - 0s 33ms/step\n",
            "4_5_1_009_06_3.jpg [('n04344873', 'studio_couch', 0.88167363), ('n04380533', 'table_lamp', 0.028837647), ('n03786901', 'mortar', 0.018087834)]\n",
            "1/1 [==============================] - 0s 32ms/step\n",
            "4_5_1_010_06_3.jpg [('n04380533', 'table_lamp', 0.6728057), ('n03201208', 'dining_table', 0.1848632), ('n04344873', 'studio_couch', 0.048437208)]\n",
            "1/1 [==============================] - 0s 34ms/step\n",
            "4_5_1_006_06_3.jpg [('n04265275', 'space_heater', 0.37107626), ('n04344873', 'studio_couch', 0.19000101), ('n04179913', 'sewing_machine', 0.07500462)]\n",
            "1/1 [==============================] - 0s 35ms/step\n",
            "4_5_1_005_06_3.jpg [('n04344873', 'studio_couch', 0.7799775), ('n03201208', 'dining_table', 0.12402696), ('n04380533', 'table_lamp', 0.045279797)]\n"
          ]
        }
      ]
    },
    {
      "cell_type": "markdown",
      "source": [
        "### NLM Denoised"
      ],
      "metadata": {
        "id": "-Ne9qLF5QTnM"
      }
    },
    {
      "cell_type": "code",
      "source": [
        "filepath = '/content/drive/MyDrive/ECE_6258_DIP/OR Images/06_contrast/level3/06_contrast_level3_denoised'\n",
        "noisy_preds = []\n",
        "for file in os.listdir(filepath):\n",
        "  img = image.load_img(filepath+'/'+file, target_size=(224, 224))\n",
        "  x = image.img_to_array(img)\n",
        "  x = np.expand_dims(x, axis=0)\n",
        "  x = preprocess_input(x)\n",
        "\n",
        "  preds = model.predict(x)\n",
        "  print(file,decode_predictions(preds, top=3)[0])"
      ],
      "metadata": {
        "colab": {
          "base_uri": "https://localhost:8080/"
        },
        "id": "fW1dZU-wQTnN",
        "outputId": "105d4751-36f2-45b4-d81d-628e14a6b31d"
      },
      "execution_count": 106,
      "outputs": [
        {
          "output_type": "stream",
          "name": "stdout",
          "text": [
            "1/1 [==============================] - 0s 45ms/step\n",
            "4_5_1_001_06_3_denoised.jpg [('n03201208', 'dining_table', 0.33130068), ('n04380533', 'table_lamp', 0.290544), ('n03179701', 'desk', 0.10691432)]\n",
            "1/1 [==============================] - 0s 34ms/step\n",
            "4_5_1_002_06_3_denoised.jpg [('n03201208', 'dining_table', 0.49158737), ('n04380533', 'table_lamp', 0.1837245), ('n04081281', 'restaurant', 0.11139713)]\n",
            "1/1 [==============================] - 0s 31ms/step\n",
            "4_5_1_003_06_3_denoised.jpg [('n04380533', 'table_lamp', 0.5559898), ('n03201208', 'dining_table', 0.12420039), ('n04344873', 'studio_couch', 0.064681195)]\n",
            "1/1 [==============================] - 0s 35ms/step\n",
            "4_5_1_004_06_3_denoised.jpg [('n04380533', 'table_lamp', 0.4375308), ('n03201208', 'dining_table', 0.16068222), ('n04344873', 'studio_couch', 0.12371501)]\n",
            "1/1 [==============================] - 0s 33ms/step\n",
            "4_5_1_005_06_3_denoised.jpg [('n04380533', 'table_lamp', 0.4207362), ('n04344873', 'studio_couch', 0.1627104), ('n03179701', 'desk', 0.10968581)]\n",
            "1/1 [==============================] - 0s 42ms/step\n",
            "4_5_1_006_06_3_denoised.jpg [('n03179701', 'desk', 0.17288333), ('n04380533', 'table_lamp', 0.11170953), ('n04542943', 'waffle_iron', 0.092505835)]\n",
            "1/1 [==============================] - 0s 30ms/step\n",
            "4_5_1_007_06_3_denoised.jpg [('n04380533', 'table_lamp', 0.2781658), ('n03201208', 'dining_table', 0.18082735), ('n03179701', 'desk', 0.12841351)]\n",
            "1/1 [==============================] - 0s 31ms/step\n",
            "4_5_1_008_06_3_denoised.jpg [('n04380533', 'table_lamp', 0.3522991), ('n04344873', 'studio_couch', 0.22874202), ('n04033995', 'quilt', 0.1049528)]\n",
            "1/1 [==============================] - 0s 31ms/step\n",
            "4_5_1_009_06_3_denoised.jpg [('n04344873', 'studio_couch', 0.43041793), ('n04380533', 'table_lamp', 0.112670496), ('n02666196', 'abacus', 0.03678259)]\n",
            "1/1 [==============================] - 0s 35ms/step\n",
            "4_5_1_010_06_3_denoised.jpg [('n04380533', 'table_lamp', 0.74563676), ('n03201208', 'dining_table', 0.06902003), ('n03179701', 'desk', 0.041578677)]\n"
          ]
        }
      ]
    },
    {
      "cell_type": "markdown",
      "source": [
        "### BM3D Denoised"
      ],
      "metadata": {
        "id": "jQ_wuHaqQTnO"
      }
    },
    {
      "cell_type": "code",
      "source": [
        "filepath = '/content/drive/MyDrive/ECE_6258_DIP/OR Images/06_contrast/level3/06_contrast_level3_bm3d_denoised'\n",
        "noisy_preds = []\n",
        "for file in os.listdir(filepath):\n",
        "  img = image.load_img(filepath+'/'+file, target_size=(224, 224))\n",
        "  x = image.img_to_array(img)\n",
        "  x = np.expand_dims(x, axis=0)\n",
        "  x = preprocess_input(x)\n",
        "\n",
        "  preds = model.predict(x)\n",
        "  print(file,decode_predictions(preds, top=3)[0])"
      ],
      "metadata": {
        "colab": {
          "base_uri": "https://localhost:8080/"
        },
        "id": "6ab7i0YaQTnP",
        "outputId": "1c22028b-f52e-4e2f-c052-1ba3f4e64670"
      },
      "execution_count": 107,
      "outputs": [
        {
          "output_type": "stream",
          "name": "stdout",
          "text": [
            "1/1 [==============================] - 0s 38ms/step\n",
            "4_5_1_001_06_3_bm3d_denoised.jpg [('n03201208', 'dining_table', 0.7980751), ('n04344873', 'studio_couch', 0.08916414), ('n04081281', 'restaurant', 0.055197358)]\n",
            "1/1 [==============================] - 0s 34ms/step\n",
            "4_5_1_002_06_3_bm3d_denoised.jpg [('n03201208', 'dining_table', 0.8726705), ('n04081281', 'restaurant', 0.05264272), ('n04344873', 'studio_couch', 0.026320143)]\n",
            "1/1 [==============================] - 0s 30ms/step\n",
            "4_5_1_003_06_3_bm3d_denoised.jpg [('n04344873', 'studio_couch', 0.8195577), ('n03201208', 'dining_table', 0.06505206), ('n04380533', 'table_lamp', 0.046012737)]\n",
            "1/1 [==============================] - 0s 37ms/step\n",
            "4_5_1_004_06_3_bm3d_denoised.jpg [('n04344873', 'studio_couch', 0.57193464), ('n03201208', 'dining_table', 0.23205705), ('n04380533', 'table_lamp', 0.08871397)]\n",
            "1/1 [==============================] - 0s 33ms/step\n",
            "4_5_1_005_06_3_bm3d_denoised.jpg [('n04344873', 'studio_couch', 0.70780516), ('n03201208', 'dining_table', 0.11700061), ('n04380533', 'table_lamp', 0.06738017)]\n",
            "1/1 [==============================] - 0s 43ms/step\n",
            "4_5_1_006_06_3_bm3d_denoised.jpg [('n04265275', 'space_heater', 0.6533205), ('n03179701', 'desk', 0.06596113), ('n02791124', 'barber_chair', 0.041138813)]\n",
            "1/1 [==============================] - 0s 34ms/step\n",
            "4_5_1_007_06_3_bm3d_denoised.jpg [('n03201208', 'dining_table', 0.45432493), ('n04344873', 'studio_couch', 0.13939308), ('n04380533', 'table_lamp', 0.10450689)]\n",
            "1/1 [==============================] - 0s 26ms/step\n",
            "4_5_1_008_06_3_bm3d_denoised.jpg [('n04344873', 'studio_couch', 0.9286462), ('n04033995', 'quilt', 0.0347623), ('n03201208', 'dining_table', 0.01560672)]\n",
            "1/1 [==============================] - 0s 21ms/step\n",
            "4_5_1_009_06_3_bm3d_denoised.jpg [('n04344873', 'studio_couch', 0.6745875), ('n04380533', 'table_lamp', 0.193852), ('n03179701', 'desk', 0.012155807)]\n",
            "1/1 [==============================] - 0s 24ms/step\n",
            "4_5_1_010_06_3_bm3d_denoised.jpg [('n03201208', 'dining_table', 0.4891274), ('n04380533', 'table_lamp', 0.3379135), ('n04344873', 'studio_couch', 0.07428647)]\n"
          ]
        }
      ]
    },
    {
      "cell_type": "markdown",
      "source": [
        "### Level 5"
      ],
      "metadata": {
        "id": "EXFGpZTOQTnQ"
      }
    },
    {
      "cell_type": "markdown",
      "source": [
        "#### Noisy"
      ],
      "metadata": {
        "id": "Fgjv8EDCQTnR"
      }
    },
    {
      "cell_type": "code",
      "source": [
        "filepath = '/content/drive/MyDrive/ECE_6258_DIP/OR Images/06_contrast/level5/06_contrast_level5'\n",
        "noisy_preds = []\n",
        "for file in os.listdir(filepath):\n",
        "  img = image.load_img(filepath+'/'+file, target_size=(224, 224))\n",
        "  x = image.img_to_array(img)\n",
        "  x = np.expand_dims(x, axis=0)\n",
        "  x = preprocess_input(x)\n",
        "\n",
        "  preds = model.predict(x)\n",
        "  print(file,decode_predictions(preds, top=3)[0])"
      ],
      "metadata": {
        "colab": {
          "base_uri": "https://localhost:8080/"
        },
        "outputId": "1af2439e-2e3e-494d-a4bf-f70f2d5857ff",
        "id": "OJIX8X5VQTnS"
      },
      "execution_count": 108,
      "outputs": [
        {
          "output_type": "stream",
          "name": "stdout",
          "text": [
            "1/1 [==============================] - 0s 21ms/step\n",
            "4_5_1_004_06_5.jpg [('n04344873', 'studio_couch', 0.5840971), ('n03201208', 'dining_table', 0.2671051), ('n04380533', 'table_lamp', 0.04529056)]\n",
            "1/1 [==============================] - 0s 21ms/step\n",
            "4_5_1_005_06_5.jpg [('n04344873', 'studio_couch', 0.8618551), ('n03201208', 'dining_table', 0.082924865), ('n04380533', 'table_lamp', 0.015020229)]\n",
            "1/1 [==============================] - 0s 21ms/step\n",
            "4_5_1_002_06_5.jpg [('n03201208', 'dining_table', 0.9284667), ('n04344873', 'studio_couch', 0.024740085), ('n04081281', 'restaurant', 0.014583836)]\n",
            "1/1 [==============================] - 0s 20ms/step\n",
            "4_5_1_003_06_5.jpg [('n04344873', 'studio_couch', 0.9249865), ('n03201208', 'dining_table', 0.028511023), ('n04380533', 'table_lamp', 0.009021273)]\n",
            "1/1 [==============================] - 0s 21ms/step\n",
            "4_5_1_001_06_5.jpg [('n03201208', 'dining_table', 0.68027586), ('n04344873', 'studio_couch', 0.12619242), ('n04179913', 'sewing_machine', 0.06579493)]\n",
            "1/1 [==============================] - 0s 27ms/step\n",
            "4_5_1_010_06_5.jpg [('n04380533', 'table_lamp', 0.41697982), ('n03201208', 'dining_table', 0.32019132), ('n03637318', 'lampshade', 0.06241984)]\n",
            "1/1 [==============================] - 0s 24ms/step\n",
            "4_5_1_006_06_5.jpg [('n02791124', 'barber_chair', 0.3664175), ('n04344873', 'studio_couch', 0.14954753), ('n04179913', 'sewing_machine', 0.13940133)]\n",
            "1/1 [==============================] - 0s 24ms/step\n",
            "4_5_1_008_06_5.jpg [('n04344873', 'studio_couch', 0.9675625), ('n04033995', 'quilt', 0.023276318), ('n03201208', 'dining_table', 0.0021388647)]\n",
            "1/1 [==============================] - 0s 23ms/step\n",
            "4_5_1_007_06_5.jpg [('n02791124', 'barber_chair', 0.4363967), ('n03201208', 'dining_table', 0.3518099), ('n03584829', 'iron', 0.0758675)]\n",
            "1/1 [==============================] - 0s 23ms/step\n",
            "4_5_1_009_06_5.jpg [('n04344873', 'studio_couch', 0.7935151), ('n03786901', 'mortar', 0.031264484), ('n03891251', 'park_bench', 0.029168619)]\n"
          ]
        }
      ]
    },
    {
      "cell_type": "markdown",
      "source": [
        "### NLM Denoised"
      ],
      "metadata": {
        "id": "4v5RXHKBQTnU"
      }
    },
    {
      "cell_type": "code",
      "source": [
        "filepath = '/content/drive/MyDrive/ECE_6258_DIP/OR Images/06_contrast/level5/06_contrast_level5_denoised'\n",
        "noisy_preds = []\n",
        "for file in os.listdir(filepath):\n",
        "  img = image.load_img(filepath+'/'+file, target_size=(224, 224))\n",
        "  x = image.img_to_array(img)\n",
        "  x = np.expand_dims(x, axis=0)\n",
        "  x = preprocess_input(x)\n",
        "\n",
        "  preds = model.predict(x)\n",
        "  print(file,decode_predictions(preds, top=3)[0])"
      ],
      "metadata": {
        "colab": {
          "base_uri": "https://localhost:8080/"
        },
        "id": "hCeMjgUIQTnV",
        "outputId": "00940135-eda4-4d28-c967-70f69b5d0c0b"
      },
      "execution_count": 109,
      "outputs": [
        {
          "output_type": "stream",
          "name": "stdout",
          "text": [
            "1/1 [==============================] - 0s 27ms/step\n",
            "4_5_1_001_06_5_denoised.jpg [('n04380533', 'table_lamp', 0.26325125), ('n03201208', 'dining_table', 0.22329742), ('n03179701', 'desk', 0.10471292)]\n",
            "1/1 [==============================] - 0s 23ms/step\n",
            "4_5_1_002_06_5_denoised.jpg [('n03201208', 'dining_table', 0.44119582), ('n04380533', 'table_lamp', 0.19033122), ('n04081281', 'restaurant', 0.11882317)]\n",
            "1/1 [==============================] - 0s 25ms/step\n",
            "4_5_1_003_06_5_denoised.jpg [('n04380533', 'table_lamp', 0.5486477), ('n03201208', 'dining_table', 0.10373143), ('n04344873', 'studio_couch', 0.04388271)]\n",
            "1/1 [==============================] - 0s 22ms/step\n",
            "4_5_1_004_06_5_denoised.jpg [('n04380533', 'table_lamp', 0.3421267), ('n04344873', 'studio_couch', 0.14688875), ('n03201208', 'dining_table', 0.13762215)]\n",
            "1/1 [==============================] - 0s 22ms/step\n",
            "4_5_1_005_06_5_denoised.jpg [('n04380533', 'table_lamp', 0.35542405), ('n03179701', 'desk', 0.13054575), ('n04344873', 'studio_couch', 0.12069317)]\n",
            "1/1 [==============================] - 0s 23ms/step\n",
            "4_5_1_006_06_5_denoised.jpg [('n03179701', 'desk', 0.17348512), ('n03201208', 'dining_table', 0.10662147), ('n04344873', 'studio_couch', 0.10313855)]\n",
            "1/1 [==============================] - 0s 22ms/step\n",
            "4_5_1_007_06_5_denoised.jpg [('n04380533', 'table_lamp', 0.17485967), ('n03201208', 'dining_table', 0.1382667), ('n04081281', 'restaurant', 0.09889818)]\n",
            "1/1 [==============================] - 0s 22ms/step\n",
            "4_5_1_008_06_5_denoised.jpg [('n04344873', 'studio_couch', 0.27734262), ('n04380533', 'table_lamp', 0.17296387), ('n03179701', 'desk', 0.09538182)]\n",
            "1/1 [==============================] - 0s 21ms/step\n",
            "4_5_1_009_06_5_denoised.jpg [('n04344873', 'studio_couch', 0.25668895), ('n02666196', 'abacus', 0.15703253), ('n04380533', 'table_lamp', 0.06419017)]\n",
            "1/1 [==============================] - 0s 22ms/step\n",
            "4_5_1_010_06_5_denoised.jpg [('n04380533', 'table_lamp', 0.6694057), ('n03201208', 'dining_table', 0.085074306), ('n03179701', 'desk', 0.044416767)]\n"
          ]
        }
      ]
    },
    {
      "cell_type": "markdown",
      "source": [
        "### BM3D Denoised"
      ],
      "metadata": {
        "id": "tSs2Y7-qQTnX"
      }
    },
    {
      "cell_type": "code",
      "source": [
        "filepath = '/content/drive/MyDrive/ECE_6258_DIP/OR Images/06_contrast/level5/06_contrast_level5_bm3d_denoised'\n",
        "noisy_preds = []\n",
        "for file in os.listdir(filepath):\n",
        "  img = image.load_img(filepath+'/'+file, target_size=(224, 224))\n",
        "  x = image.img_to_array(img)\n",
        "  x = np.expand_dims(x, axis=0)\n",
        "  x = preprocess_input(x)\n",
        "\n",
        "  preds = model.predict(x)\n",
        "  print(file,decode_predictions(preds, top=3)[0])"
      ],
      "metadata": {
        "colab": {
          "base_uri": "https://localhost:8080/"
        },
        "id": "ckNdwsGpQTnY",
        "outputId": "094daa1f-f7e2-4081-8fd0-6a2cfee96eb6"
      },
      "execution_count": 110,
      "outputs": [
        {
          "output_type": "stream",
          "name": "stdout",
          "text": [
            "1/1 [==============================] - 0s 21ms/step\n",
            "4_5_1_001_06_5_bm3d_denoised.jpg [('n03201208', 'dining_table', 0.61689866), ('n03179701', 'desk', 0.10420098), ('n04344873', 'studio_couch', 0.0927207)]\n",
            "1/1 [==============================] - 0s 29ms/step\n",
            "4_5_1_002_06_5_bm3d_denoised.jpg [('n03201208', 'dining_table', 0.81862634), ('n04081281', 'restaurant', 0.052067444), ('n03179701', 'desk', 0.051140875)]\n",
            "1/1 [==============================] - 0s 21ms/step\n",
            "4_5_1_003_06_5_bm3d_denoised.jpg [('n04344873', 'studio_couch', 0.77152437), ('n03201208', 'dining_table', 0.04677736), ('n03179701', 'desk', 0.041596077)]\n",
            "1/1 [==============================] - 0s 29ms/step\n",
            "4_5_1_004_06_5_bm3d_denoised.jpg [('n04344873', 'studio_couch', 0.6103666), ('n03201208', 'dining_table', 0.14398246), ('n04380533', 'table_lamp', 0.08267451)]\n",
            "1/1 [==============================] - 0s 22ms/step\n",
            "4_5_1_005_06_5_bm3d_denoised.jpg [('n04344873', 'studio_couch', 0.76600504), ('n03201208', 'dining_table', 0.06867614), ('n03179701', 'desk', 0.043520566)]\n",
            "1/1 [==============================] - 0s 23ms/step\n",
            "4_5_1_006_06_5_bm3d_denoised.jpg [('n02791124', 'barber_chair', 0.3680618), ('n04265275', 'space_heater', 0.26979595), ('n03179701', 'desk', 0.088721596)]\n",
            "1/1 [==============================] - 0s 22ms/step\n",
            "4_5_1_007_06_5_bm3d_denoised.jpg [('n02791124', 'barber_chair', 0.34772822), ('n03201208', 'dining_table', 0.3204382), ('n04081281', 'restaurant', 0.097636834)]\n",
            "1/1 [==============================] - 0s 24ms/step\n",
            "4_5_1_008_06_5_bm3d_denoised.jpg [('n04344873', 'studio_couch', 0.948152), ('n04033995', 'quilt', 0.037010513), ('n03201208', 'dining_table', 0.004811034)]\n",
            "1/1 [==============================] - 0s 24ms/step\n",
            "4_5_1_009_06_5_bm3d_denoised.jpg [('n04344873', 'studio_couch', 0.7090444), ('n04380533', 'table_lamp', 0.109012604), ('n03179701', 'desk', 0.013087669)]\n",
            "1/1 [==============================] - 0s 26ms/step\n",
            "4_5_1_010_06_5_bm3d_denoised.jpg [('n03201208', 'dining_table', 0.61408937), ('n04380533', 'table_lamp', 0.18549845), ('n04081281', 'restaurant', 0.05641075)]\n"
          ]
        }
      ]
    },
    {
      "cell_type": "markdown",
      "source": [
        "# 07 Dirty Lens 1"
      ],
      "metadata": {
        "id": "h_cg8jVvRD5u"
      }
    },
    {
      "cell_type": "markdown",
      "source": [
        "## Level 1"
      ],
      "metadata": {
        "id": "6uCFz_c_RD5v"
      }
    },
    {
      "cell_type": "markdown",
      "source": [
        "### Noisy"
      ],
      "metadata": {
        "id": "bsGEKCNBRD5w"
      }
    },
    {
      "cell_type": "code",
      "source": [
        "filepath = '/content/drive/MyDrive/ECE_6258_DIP/OR Images/07_dirtylens1/level1/07_dirtylens1'\n",
        "noisy_preds = []\n",
        "for file in os.listdir(filepath):\n",
        "  img = image.load_img(filepath+'/'+file, target_size=(224, 224))\n",
        "  x = image.img_to_array(img)\n",
        "  x = np.expand_dims(x, axis=0)\n",
        "  x = preprocess_input(x)\n",
        "\n",
        "  preds = model.predict(x)\n",
        "  print(file,decode_predictions(preds, top=3)[0])"
      ],
      "metadata": {
        "colab": {
          "base_uri": "https://localhost:8080/"
        },
        "outputId": "7524f0b8-1af3-4d3a-96c9-c6dac854535c",
        "id": "YN6FJwVWRD5w"
      },
      "execution_count": 111,
      "outputs": [
        {
          "output_type": "stream",
          "name": "stdout",
          "text": [
            "1/1 [==============================] - 0s 22ms/step\n",
            "4_5_1_001_07_1.jpg [('n04344873', 'studio_couch', 0.3391435), ('n02699494', 'altar', 0.11657669), ('n03201208', 'dining_table', 0.091238335)]\n",
            "1/1 [==============================] - 0s 22ms/step\n",
            "4_5_1_002_07_1.jpg [('n04344873', 'studio_couch', 0.3375828), ('n03201208', 'dining_table', 0.1705928), ('n02699494', 'altar', 0.051896572)]\n",
            "1/1 [==============================] - 0s 26ms/step\n",
            "4_5_1_003_07_1.jpg [('n04344873', 'studio_couch', 0.5526008), ('n03201208', 'dining_table', 0.050571688), ('n03223299', 'doormat', 0.030496215)]\n",
            "1/1 [==============================] - 0s 33ms/step\n",
            "4_5_1_004_07_1.jpg [('n04344873', 'studio_couch', 0.6035214), ('n03201208', 'dining_table', 0.07091718), ('n03223299', 'doormat', 0.024990214)]\n",
            "1/1 [==============================] - 0s 24ms/step\n",
            "4_5_1_005_07_1.jpg [('n04344873', 'studio_couch', 0.25731635), ('n03223299', 'doormat', 0.063216835), ('n03982430', 'pool_table', 0.041694734)]\n",
            "1/1 [==============================] - 0s 25ms/step\n",
            "4_5_1_007_07_1.jpg [('n03014705', 'chest', 0.24519771), ('n03223299', 'doormat', 0.13900016), ('n03584829', 'iron', 0.09445203)]\n",
            "1/1 [==============================] - 0s 23ms/step\n",
            "4_5_1_006_07_1.jpg [('n04265275', 'space_heater', 0.81524897), ('n04041544', 'radio', 0.023558153), ('n04040759', 'radiator', 0.022083843)]\n",
            "1/1 [==============================] - 0s 22ms/step\n",
            "4_5_1_008_07_1.jpg [('n04344873', 'studio_couch', 0.32326353), ('n03891251', 'park_bench', 0.104121946), ('n03794056', 'mousetrap', 0.078289114)]\n",
            "1/1 [==============================] - 0s 24ms/step\n",
            "4_5_1_010_07_1.jpg [('n04179913', 'sewing_machine', 0.22767352), ('n04380533', 'table_lamp', 0.14343189), ('n03201208', 'dining_table', 0.07818624)]\n",
            "1/1 [==============================] - 0s 20ms/step\n",
            "4_5_1_009_07_1.jpg [('n03786901', 'mortar', 0.6220912), ('n03467068', 'guillotine', 0.112162955), ('n04399382', 'teddy', 0.027787047)]\n"
          ]
        }
      ]
    },
    {
      "cell_type": "markdown",
      "source": [
        "### NLM Denoised"
      ],
      "metadata": {
        "id": "CEMLf3V9RD5y"
      }
    },
    {
      "cell_type": "code",
      "source": [
        "filepath = '/content/drive/MyDrive/ECE_6258_DIP/OR Images/07_dirtylens1/level1/07_dirtylens1_denoised'\n",
        "noisy_preds = []\n",
        "for file in os.listdir(filepath):\n",
        "  img = image.load_img(filepath+'/'+file, target_size=(224, 224))\n",
        "  x = image.img_to_array(img)\n",
        "  x = np.expand_dims(x, axis=0)\n",
        "  x = preprocess_input(x)\n",
        "\n",
        "  preds = model.predict(x)\n",
        "  print(file,decode_predictions(preds, top=3)[0])"
      ],
      "metadata": {
        "colab": {
          "base_uri": "https://localhost:8080/"
        },
        "id": "cNUbKMC2RD5z",
        "outputId": "0a304a6b-ce7e-47b4-d893-ebc007197601"
      },
      "execution_count": 112,
      "outputs": [
        {
          "output_type": "stream",
          "name": "stdout",
          "text": [
            "1/1 [==============================] - 0s 20ms/step\n",
            "4_5_1_001_07_1_denoised.jpg [('n04344873', 'studio_couch', 0.0792316), ('n03201208', 'dining_table', 0.07475167), ('n04380533', 'table_lamp', 0.06640601)]\n",
            "1/1 [==============================] - 0s 22ms/step\n",
            "4_5_1_002_07_1_denoised.jpg [('n03201208', 'dining_table', 0.16647969), ('n04344873', 'studio_couch', 0.08645221), ('n04380533', 'table_lamp', 0.061035343)]\n",
            "1/1 [==============================] - 0s 24ms/step\n",
            "4_5_1_003_07_1_denoised.jpg [('n03201208', 'dining_table', 0.10601587), ('n04380533', 'table_lamp', 0.09023362), ('n04344873', 'studio_couch', 0.08900097)]\n",
            "1/1 [==============================] - 0s 25ms/step\n",
            "4_5_1_004_07_1_denoised.jpg [('n04344873', 'studio_couch', 0.10293571), ('n04380533', 'table_lamp', 0.08486743), ('n03201208', 'dining_table', 0.05932527)]\n",
            "1/1 [==============================] - 0s 21ms/step\n",
            "4_5_1_005_07_1_denoised.jpg [('n04344873', 'studio_couch', 0.093035966), ('n04380533', 'table_lamp', 0.05839589), ('n03376595', 'folding_chair', 0.051481184)]\n",
            "1/1 [==============================] - 0s 22ms/step\n",
            "4_5_1_006_07_1_denoised.jpg [('n03794056', 'mousetrap', 0.14755832), ('n04265275', 'space_heater', 0.12279885), ('n03954731', 'plane', 0.08662932)]\n",
            "1/1 [==============================] - 0s 23ms/step\n",
            "4_5_1_007_07_1_denoised.jpg [('n04344873', 'studio_couch', 0.08068658), ('n03584829', 'iron', 0.07480847), ('n04380533', 'table_lamp', 0.07129294)]\n",
            "1/1 [==============================] - 0s 22ms/step\n",
            "4_5_1_008_07_1_denoised.jpg [('n04380533', 'table_lamp', 0.13321678), ('n03201208', 'dining_table', 0.101278365), ('n04344873', 'studio_couch', 0.078393996)]\n",
            "1/1 [==============================] - 0s 22ms/step\n",
            "4_5_1_009_07_1_denoised.jpg [('n03467068', 'guillotine', 0.32472283), ('n03794056', 'mousetrap', 0.10828209), ('n04590129', 'window_shade', 0.07053869)]\n",
            "1/1 [==============================] - 0s 23ms/step\n",
            "4_5_1_010_07_1_denoised.jpg [('n04380533', 'table_lamp', 0.28849128), ('n04590129', 'window_shade', 0.090951644), ('n04201297', 'shoji', 0.09094999)]\n"
          ]
        }
      ]
    },
    {
      "cell_type": "markdown",
      "source": [
        "### BM3D Denoised"
      ],
      "metadata": {
        "id": "4ZgwfIbJRD50"
      }
    },
    {
      "cell_type": "code",
      "source": [
        "filepath = '/content/drive/MyDrive/ECE_6258_DIP/OR Images/07_dirtylens1/level1/07_dirtylens1_bm3d_denoised'\n",
        "noisy_preds = []\n",
        "for file in os.listdir(filepath):\n",
        "  img = image.load_img(filepath+'/'+file, target_size=(224, 224))\n",
        "  x = image.img_to_array(img)\n",
        "  x = np.expand_dims(x, axis=0)\n",
        "  x = preprocess_input(x)\n",
        "\n",
        "  preds = model.predict(x)\n",
        "  print(file,decode_predictions(preds, top=3)[0])"
      ],
      "metadata": {
        "colab": {
          "base_uri": "https://localhost:8080/"
        },
        "id": "mb_SgKqcWwRv",
        "outputId": "97c1f0e7-6b03-43b8-9c48-4de65b3c9505"
      },
      "execution_count": 113,
      "outputs": [
        {
          "output_type": "stream",
          "name": "stdout",
          "text": [
            "1/1 [==============================] - 0s 21ms/step\n",
            "4_5_1_001_07_1_bm3d_denoised.jpg [('n03201208', 'dining_table', 0.56502706), ('n04081281', 'restaurant', 0.0513632), ('n04380533', 'table_lamp', 0.04230745)]\n",
            "1/1 [==============================] - 0s 22ms/step\n",
            "4_5_1_002_07_1_bm3d_denoised.jpg [('n03201208', 'dining_table', 0.6711606), ('n04081281', 'restaurant', 0.05288497), ('n04380533', 'table_lamp', 0.03631526)]\n",
            "1/1 [==============================] - 0s 24ms/step\n",
            "4_5_1_003_07_1_bm3d_denoised.jpg [('n03201208', 'dining_table', 0.2555057), ('n04380533', 'table_lamp', 0.064904585), ('n04344873', 'studio_couch', 0.05414524)]\n",
            "1/1 [==============================] - 0s 24ms/step\n",
            "4_5_1_004_07_1_bm3d_denoised.jpg [('n03201208', 'dining_table', 0.2788011), ('n04380533', 'table_lamp', 0.11179604), ('n04344873', 'studio_couch', 0.06345363)]\n",
            "1/1 [==============================] - 0s 25ms/step\n",
            "4_5_1_005_07_1_bm3d_denoised.jpg [('n03201208', 'dining_table', 0.16186859), ('n04344873', 'studio_couch', 0.07511579), ('n03529860', 'home_theater', 0.054188665)]\n",
            "1/1 [==============================] - 0s 27ms/step\n",
            "4_5_1_006_07_1_bm3d_denoised.jpg [('n04265275', 'space_heater', 0.74025774), ('n04041544', 'radio', 0.06593347), ('n04040759', 'radiator', 0.02236036)]\n",
            "1/1 [==============================] - 0s 23ms/step\n",
            "4_5_1_007_07_1_bm3d_denoised.jpg [('n03201208', 'dining_table', 0.39860225), ('n03584829', 'iron', 0.24218102), ('n04081281', 'restaurant', 0.06358736)]\n",
            "1/1 [==============================] - 0s 26ms/step\n",
            "4_5_1_008_07_1_bm3d_denoised.jpg [('n03201208', 'dining_table', 0.29108012), ('n03794056', 'mousetrap', 0.10187205), ('n04380533', 'table_lamp', 0.084173426)]\n",
            "1/1 [==============================] - 0s 23ms/step\n",
            "4_5_1_009_07_1_bm3d_denoised.jpg [('n03887697', 'paper_towel', 0.2375009), ('n03467068', 'guillotine', 0.17325717), ('n15075141', 'toilet_tissue', 0.11351631)]\n",
            "1/1 [==============================] - 0s 22ms/step\n",
            "4_5_1_010_07_1_bm3d_denoised.jpg [('n03201208', 'dining_table', 0.36595201), ('n04380533', 'table_lamp', 0.34456557), ('n03179701', 'desk', 0.0384591)]\n"
          ]
        }
      ]
    },
    {
      "cell_type": "markdown",
      "source": [
        "### Level 3"
      ],
      "metadata": {
        "id": "ENLut-68RD51"
      }
    },
    {
      "cell_type": "markdown",
      "source": [
        "#### Noisy"
      ],
      "metadata": {
        "id": "KdZ85q9ERD52"
      }
    },
    {
      "cell_type": "code",
      "source": [
        "filepath = '/content/drive/MyDrive/ECE_6258_DIP/OR Images/07_dirtylens1/level3/07_dirtylens1_level3'\n",
        "noisy_preds = []\n",
        "for file in os.listdir(filepath):\n",
        "  img = image.load_img(filepath+'/'+file, target_size=(224, 224))\n",
        "  x = image.img_to_array(img)\n",
        "  x = np.expand_dims(x, axis=0)\n",
        "  x = preprocess_input(x)\n",
        "\n",
        "  preds = model.predict(x)\n",
        "  print(file,decode_predictions(preds, top=3)[0])"
      ],
      "metadata": {
        "colab": {
          "base_uri": "https://localhost:8080/"
        },
        "outputId": "57688981-5992-4252-8040-dd9a7f8c016c",
        "id": "DvQPsQ2WRD53"
      },
      "execution_count": 114,
      "outputs": [
        {
          "output_type": "stream",
          "name": "stdout",
          "text": [
            "1/1 [==============================] - 0s 23ms/step\n",
            "4_5_1_001_07_3.jpg [('n03223299', 'doormat', 0.56812936), ('n03891251', 'park_bench', 0.3746406), ('n04476259', 'tray', 0.0093677705)]\n",
            "1/1 [==============================] - 0s 22ms/step\n",
            "4_5_1_002_07_3.jpg [('n03223299', 'doormat', 0.4788412), ('n03891251', 'park_bench', 0.42198226), ('n03991062', 'pot', 0.014717436)]\n",
            "1/1 [==============================] - 0s 22ms/step\n",
            "4_5_1_003_07_3.jpg [('n03223299', 'doormat', 0.8560848), ('n03891251', 'park_bench', 0.109616265), ('n04476259', 'tray', 0.0058223726)]\n",
            "1/1 [==============================] - 0s 32ms/step\n",
            "4_5_1_004_07_3.jpg [('n03223299', 'doormat', 0.9186561), ('n03891251', 'park_bench', 0.04748044), ('n04476259', 'tray', 0.005652216)]\n",
            "1/1 [==============================] - 0s 23ms/step\n",
            "4_5_1_005_07_3.jpg [('n03223299', 'doormat', 0.88712555), ('n03891251', 'park_bench', 0.08890927), ('n02699494', 'altar', 0.0046487125)]\n",
            "1/1 [==============================] - 0s 22ms/step\n",
            "4_5_1_006_07_3.jpg [('n03891251', 'park_bench', 0.67199117), ('n03223299', 'doormat', 0.11073625), ('n03991062', 'pot', 0.028973248)]\n",
            "1/1 [==============================] - 0s 20ms/step\n",
            "4_5_1_007_07_3.jpg [('n03223299', 'doormat', 0.9752508), ('n03891251', 'park_bench', 0.011751066), ('n04476259', 'tray', 0.0042068795)]\n",
            "1/1 [==============================] - 0s 27ms/step\n",
            "4_5_1_008_07_3.jpg [('n03891251', 'park_bench', 0.62007594), ('n03223299', 'doormat', 0.34743157), ('n03794056', 'mousetrap', 0.014263548)]\n",
            "1/1 [==============================] - 0s 21ms/step\n",
            "4_5_1_009_07_3.jpg [('n03891251', 'park_bench', 0.5737395), ('n03223299', 'doormat', 0.1188652), ('n03786901', 'mortar', 0.040278416)]\n",
            "1/1 [==============================] - 0s 24ms/step\n",
            "4_5_1_010_07_3.jpg [('n03891251', 'park_bench', 0.29897973), ('n04179913', 'sewing_machine', 0.2838466), ('n03388043', 'fountain', 0.13075952)]\n"
          ]
        }
      ]
    },
    {
      "cell_type": "markdown",
      "source": [
        "### NLM Denoised"
      ],
      "metadata": {
        "id": "kTyvG2jfRD54"
      }
    },
    {
      "cell_type": "code",
      "source": [
        "filepath = '/content/drive/MyDrive/ECE_6258_DIP/OR Images/07_dirtylens1/level3/07_dirtylens1_level3_denoised'\n",
        "noisy_preds = []\n",
        "for file in os.listdir(filepath):\n",
        "  img = image.load_img(filepath+'/'+file, target_size=(224, 224))\n",
        "  x = image.img_to_array(img)\n",
        "  x = np.expand_dims(x, axis=0)\n",
        "  x = preprocess_input(x)\n",
        "\n",
        "  preds = model.predict(x)\n",
        "  print(file,decode_predictions(preds, top=3)[0])"
      ],
      "metadata": {
        "colab": {
          "base_uri": "https://localhost:8080/"
        },
        "id": "HAWJOWT9RD55",
        "outputId": "9f8481bb-cee9-4eaf-d0b7-6f5e9d531476"
      },
      "execution_count": 115,
      "outputs": [
        {
          "output_type": "stream",
          "name": "stdout",
          "text": [
            "1/1 [==============================] - 0s 22ms/step\n",
            "4_5_1_001_07_3_denoised.jpg [('n03127925', 'crate', 0.123612076), ('n04099969', 'rocking_chair', 0.10635782), ('n03891251', 'park_bench', 0.103561915)]\n",
            "1/1 [==============================] - 0s 21ms/step\n",
            "4_5_1_002_07_3_denoised.jpg [('n03127925', 'crate', 0.15286314), ('n03347037', 'fire_screen', 0.115419075), ('n04099969', 'rocking_chair', 0.11204706)]\n",
            "1/1 [==============================] - 0s 24ms/step\n",
            "4_5_1_003_07_3_denoised.jpg [('n03127925', 'crate', 0.24986584), ('n03347037', 'fire_screen', 0.08387683), ('n03223299', 'doormat', 0.07443857)]\n",
            "1/1 [==============================] - 0s 23ms/step\n",
            "4_5_1_004_07_3_denoised.jpg [('n03127925', 'crate', 0.10670296), ('n04099969', 'rocking_chair', 0.10251224), ('n03891251', 'park_bench', 0.091073506)]\n",
            "1/1 [==============================] - 0s 25ms/step\n",
            "4_5_1_005_07_3_denoised.jpg [('n03127925', 'crate', 0.22317074), ('n03467068', 'guillotine', 0.11140398), ('n03347037', 'fire_screen', 0.054219216)]\n",
            "1/1 [==============================] - 0s 22ms/step\n",
            "4_5_1_006_07_3_denoised.jpg [('n03467068', 'guillotine', 0.13975841), ('n03127925', 'crate', 0.137754), ('n03954731', 'plane', 0.101151235)]\n",
            "1/1 [==============================] - 0s 24ms/step\n",
            "4_5_1_007_07_3_denoised.jpg [('n03127925', 'crate', 0.2685228), ('n03467068', 'guillotine', 0.0917273), ('n03223299', 'doormat', 0.07535534)]\n",
            "1/1 [==============================] - 0s 26ms/step\n",
            "4_5_1_008_07_3_denoised.jpg [('n04344873', 'studio_couch', 0.1419553), ('n03794056', 'mousetrap', 0.12013485), ('n03584829', 'iron', 0.090766825)]\n",
            "1/1 [==============================] - 0s 22ms/step\n",
            "4_5_1_009_07_3_denoised.jpg [('n03467068', 'guillotine', 0.8864359), ('n03127925', 'crate', 0.01998199), ('n03794056', 'mousetrap', 0.013027514)]\n",
            "1/1 [==============================] - 0s 21ms/step\n",
            "4_5_1_010_07_3_denoised.jpg [('n03467068', 'guillotine', 0.109855406), ('n03584829', 'iron', 0.108939245), ('n03347037', 'fire_screen', 0.075868174)]\n"
          ]
        }
      ]
    },
    {
      "cell_type": "markdown",
      "source": [
        "### BM3D Denoised - not there"
      ],
      "metadata": {
        "id": "yJM-61THRD55"
      }
    },
    {
      "cell_type": "markdown",
      "source": [
        "### Level 5"
      ],
      "metadata": {
        "id": "cPE5ViOORD56"
      }
    },
    {
      "cell_type": "markdown",
      "source": [
        "#### Noisy"
      ],
      "metadata": {
        "id": "MIur_3AdRD56"
      }
    },
    {
      "cell_type": "code",
      "source": [
        "filepath = '/content/drive/MyDrive/ECE_6258_DIP/OR Images/07_dirtylens1/level5/07_dirtylens1_level5'\n",
        "noisy_preds = []\n",
        "for file in os.listdir(filepath):\n",
        "  img = image.load_img(filepath+'/'+file, target_size=(224, 224))\n",
        "  x = image.img_to_array(img)\n",
        "  x = np.expand_dims(x, axis=0)\n",
        "  x = preprocess_input(x)\n",
        "\n",
        "  preds = model.predict(x)\n",
        "  print(file,decode_predictions(preds, top=3)[0])"
      ],
      "metadata": {
        "colab": {
          "base_uri": "https://localhost:8080/"
        },
        "outputId": "51f0e524-de62-48b2-9606-89a3ca03692e",
        "id": "PKSg3udQRD57"
      },
      "execution_count": 116,
      "outputs": [
        {
          "output_type": "stream",
          "name": "stdout",
          "text": [
            "1/1 [==============================] - 0s 22ms/step\n",
            "4_5_1_001_07_5.jpg [('n03388043', 'fountain', 0.35447675), ('n03223299', 'doormat', 0.3459481), ('n04326547', 'stone_wall', 0.089414895)]\n",
            "1/1 [==============================] - 0s 22ms/step\n",
            "4_5_1_003_07_5.jpg [('n03223299', 'doormat', 0.331734), ('n03388043', 'fountain', 0.24159607), ('n03733281', 'maze', 0.07221871)]\n",
            "1/1 [==============================] - 0s 25ms/step\n",
            "4_5_1_002_07_5.jpg [('n03388043', 'fountain', 0.38051423), ('n03223299', 'doormat', 0.25303006), ('n04326547', 'stone_wall', 0.10923135)]\n",
            "1/1 [==============================] - 0s 21ms/step\n",
            "4_5_1_004_07_5.jpg [('n03223299', 'doormat', 0.41169247), ('n03733281', 'maze', 0.19036911), ('n03388043', 'fountain', 0.10640708)]\n",
            "1/1 [==============================] - 0s 27ms/step\n",
            "4_5_1_005_07_5.jpg [('n03223299', 'doormat', 0.3561993), ('n03733281', 'maze', 0.29744282), ('n03388043', 'fountain', 0.108033665)]\n",
            "1/1 [==============================] - 0s 25ms/step\n",
            "4_5_1_006_07_5.jpg [('n03388043', 'fountain', 0.39374322), ('n04326547', 'stone_wall', 0.2923053), ('n02894605', 'breakwater', 0.09376083)]\n",
            "1/1 [==============================] - 0s 21ms/step\n",
            "4_5_1_007_07_5.jpg [('n03388043', 'fountain', 0.20640965), ('n03000684', 'chain_saw', 0.19778454), ('n03223299', 'doormat', 0.13533837)]\n",
            "1/1 [==============================] - 0s 21ms/step\n",
            "4_5_1_009_07_5.jpg [('n03223299', 'doormat', 0.44805273), ('n03388043', 'fountain', 0.19610672), ('n02894605', 'breakwater', 0.10793963)]\n",
            "1/1 [==============================] - 0s 22ms/step\n",
            "4_5_1_008_07_5.jpg [('n03223299', 'doormat', 0.43432415), ('n03388043', 'fountain', 0.12327875), ('n04326547', 'stone_wall', 0.10478898)]\n",
            "1/1 [==============================] - 0s 22ms/step\n",
            "4_5_1_010_07_5.jpg [('n03223299', 'doormat', 0.32772192), ('n03388043', 'fountain', 0.25803655), ('n04326547', 'stone_wall', 0.23180927)]\n"
          ]
        }
      ]
    },
    {
      "cell_type": "markdown",
      "source": [
        "### NLM Denoised"
      ],
      "metadata": {
        "id": "CotY5YxdRD58"
      }
    },
    {
      "cell_type": "code",
      "source": [
        "filepath = '/content/drive/MyDrive/ECE_6258_DIP/OR Images/07_dirtylens1/level5/07_dirtylens1_level5_denoised'\n",
        "noisy_preds = []\n",
        "for file in os.listdir(filepath):\n",
        "  img = image.load_img(filepath+'/'+file, target_size=(224, 224))\n",
        "  x = image.img_to_array(img)\n",
        "  x = np.expand_dims(x, axis=0)\n",
        "  x = preprocess_input(x)\n",
        "\n",
        "  preds = model.predict(x)\n",
        "  print(file,decode_predictions(preds, top=3)[0])"
      ],
      "metadata": {
        "colab": {
          "base_uri": "https://localhost:8080/"
        },
        "id": "VxpqyDUgRD59",
        "outputId": "b8ef5c36-6d65-4a38-ec0e-ac9b6779b70e"
      },
      "execution_count": 117,
      "outputs": [
        {
          "output_type": "stream",
          "name": "stdout",
          "text": [
            "1/1 [==============================] - 0s 21ms/step\n",
            "4_5_1_008_07_5_denoised.jpg [('n03223299', 'doormat', 0.12091764), ('n03958227', 'plastic_bag', 0.0855369), ('n04326547', 'stone_wall', 0.049015757)]\n",
            "1/1 [==============================] - 0s 21ms/step\n",
            "4_5_1_003_07_5_denoised.jpg [('n03223299', 'doormat', 0.29174155), ('n03958227', 'plastic_bag', 0.07047539), ('n03733281', 'maze', 0.040083796)]\n",
            "1/1 [==============================] - 0s 20ms/step\n",
            "4_5_1_004_07_5_denoised.jpg [('n03733281', 'maze', 0.17046481), ('n03223299', 'doormat', 0.1105939), ('n04326547', 'stone_wall', 0.10904219)]\n",
            "1/1 [==============================] - 0s 22ms/step\n",
            "4_5_1_006_07_5_denoised.jpg [('n04326547', 'stone_wall', 0.4439492), ('n03223299', 'doormat', 0.13727458), ('n03347037', 'fire_screen', 0.037889082)]\n",
            "1/1 [==============================] - 0s 25ms/step\n",
            "4_5_1_001_07_5_denoised.jpg [('n03223299', 'doormat', 0.36118966), ('n04326547', 'stone_wall', 0.07567463), ('n03733281', 'maze', 0.048843004)]\n",
            "1/1 [==============================] - 0s 21ms/step\n",
            "4_5_1_007_07_5_denoised.jpg [('n03223299', 'doormat', 0.1275403), ('n03733281', 'maze', 0.06951458), ('n04326547', 'stone_wall', 0.061517768)]\n",
            "1/1 [==============================] - 0s 24ms/step\n",
            "4_5_1_010_07_5_denoised.jpg [('n03223299', 'doormat', 0.28236037), ('n04326547', 'stone_wall', 0.12463321), ('n03733281', 'maze', 0.066789836)]\n",
            "1/1 [==============================] - 0s 22ms/step\n",
            "4_5_1_005_07_5_denoised.jpg [('n03223299', 'doormat', 0.12974598), ('n03733281', 'maze', 0.09089777), ('n03958227', 'plastic_bag', 0.090409294)]\n",
            "1/1 [==============================] - 0s 26ms/step\n",
            "4_5_1_002_07_5_denoised.jpg [('n03223299', 'doormat', 0.23379579), ('n03733281', 'maze', 0.13928634), ('n04326547', 'stone_wall', 0.08314615)]\n",
            "1/1 [==============================] - 0s 24ms/step\n",
            "4_5_1_009_07_5_denoised.jpg [('n03223299', 'doormat', 0.797616), ('n04326547', 'stone_wall', 0.028905967), ('n03127925', 'crate', 0.0154647175)]\n"
          ]
        }
      ]
    },
    {
      "cell_type": "markdown",
      "source": [
        "### BM3D Denoised"
      ],
      "metadata": {
        "id": "QzlGZxYbRD5-"
      }
    },
    {
      "cell_type": "code",
      "source": [
        "filepath = '/content/drive/MyDrive/ECE_6258_DIP/OR Images/07_dirtylens1/level5/07_dirtylens1_level5_bm3d_denoised'\n",
        "noisy_preds = []\n",
        "for file in os.listdir(filepath):\n",
        "  img = image.load_img(filepath+'/'+file, target_size=(224, 224))\n",
        "  x = image.img_to_array(img)\n",
        "  x = np.expand_dims(x, axis=0)\n",
        "  x = preprocess_input(x)\n",
        "\n",
        "  preds = model.predict(x)\n",
        "  print(file,decode_predictions(preds, top=3)[0])"
      ],
      "metadata": {
        "colab": {
          "base_uri": "https://localhost:8080/"
        },
        "id": "qYdXxgsERD5-",
        "outputId": "6027dd85-bd26-4816-c1f1-da9126a3e5db"
      },
      "execution_count": 118,
      "outputs": [
        {
          "output_type": "stream",
          "name": "stdout",
          "text": [
            "1/1 [==============================] - 0s 22ms/step\n",
            "4_5_1_001_07_5_bm3d_denoised.jpg [('n03388043', 'fountain', 0.41846693), ('n02894605', 'breakwater', 0.08235718), ('n03891251', 'park_bench', 0.0631587)]\n",
            "1/1 [==============================] - 0s 24ms/step\n",
            "4_5_1_002_07_5_bm3d_denoised.jpg [('n03388043', 'fountain', 0.33243394), ('n02894605', 'breakwater', 0.0733773), ('n03891251', 'park_bench', 0.067026496)]\n",
            "1/1 [==============================] - 0s 23ms/step\n",
            "4_5_1_003_07_5_bm3d_denoised.jpg [('n03388043', 'fountain', 0.13482097), ('n09229709', 'bubble', 0.09933257), ('n02268443', 'dragonfly', 0.06643456)]\n",
            "1/1 [==============================] - 0s 30ms/step\n",
            "4_5_1_004_07_5_bm3d_denoised.jpg [('n09229709', 'bubble', 0.6145531), ('n03388043', 'fountain', 0.060690027), ('n02268443', 'dragonfly', 0.045602053)]\n",
            "1/1 [==============================] - 0s 22ms/step\n",
            "4_5_1_005_07_5_bm3d_denoised.jpg [('n03388043', 'fountain', 0.18189624), ('n09229709', 'bubble', 0.10169928), ('n03733281', 'maze', 0.0895136)]\n",
            "1/1 [==============================] - 0s 21ms/step\n",
            "4_5_1_006_07_5_bm3d_denoised.jpg [('n02894605', 'breakwater', 0.30893898), ('n03388043', 'fountain', 0.11574036), ('n04326547', 'stone_wall', 0.09532366)]\n",
            "1/1 [==============================] - 0s 22ms/step\n",
            "4_5_1_007_07_5_bm3d_denoised.jpg [('n03388043', 'fountain', 0.25136584), ('n03223299', 'doormat', 0.15251504), ('n03891251', 'park_bench', 0.07194924)]\n",
            "1/1 [==============================] - 0s 21ms/step\n",
            "4_5_1_008_07_5_bm3d_denoised.jpg [('n03891251', 'park_bench', 0.15212475), ('n03388043', 'fountain', 0.0944248), ('n09229709', 'bubble', 0.05898267)]\n",
            "1/1 [==============================] - 0s 23ms/step\n",
            "4_5_1_009_07_5_bm3d_denoised.jpg [('n03891251', 'park_bench', 0.33268106), ('n03223299', 'doormat', 0.2591647), ('n03584829', 'iron', 0.05812411)]\n",
            "1/1 [==============================] - 0s 22ms/step\n",
            "4_5_1_010_07_5_bm3d_denoised.jpg [('n03388043', 'fountain', 0.3365107), ('n03891251', 'park_bench', 0.32430384), ('n03223299', 'doormat', 0.051970024)]\n"
          ]
        }
      ]
    },
    {
      "cell_type": "markdown",
      "source": [
        "# 08 Dirty Lens 2"
      ],
      "metadata": {
        "id": "l1e9ooAaRcA_"
      }
    },
    {
      "cell_type": "markdown",
      "source": [
        "## Level 1"
      ],
      "metadata": {
        "id": "tty98QyARcBX"
      }
    },
    {
      "cell_type": "markdown",
      "source": [
        "### Noisy"
      ],
      "metadata": {
        "id": "iIBmCIDNRcBY"
      }
    },
    {
      "cell_type": "code",
      "source": [
        "filepath = '/content/drive/MyDrive/ECE_6258_DIP/OR Images/08_dirtylens2/level1/08_dirtylens2'\n",
        "noisy_preds = []\n",
        "for file in os.listdir(filepath):\n",
        "  img = image.load_img(filepath+'/'+file, target_size=(224, 224))\n",
        "  x = image.img_to_array(img)\n",
        "  x = np.expand_dims(x, axis=0)\n",
        "  x = preprocess_input(x)\n",
        "\n",
        "  preds = model.predict(x)\n",
        "  print(file,decode_predictions(preds, top=3)[0])"
      ],
      "metadata": {
        "colab": {
          "base_uri": "https://localhost:8080/"
        },
        "outputId": "d18ac309-7603-412f-821f-7e7bf863712b",
        "id": "jq_cufQ5RcBZ"
      },
      "execution_count": 119,
      "outputs": [
        {
          "output_type": "stream",
          "name": "stdout",
          "text": [
            "1/1 [==============================] - 0s 23ms/step\n",
            "4_5_1_001_08_1.jpg [('n03891251', 'park_bench', 0.6543256), ('n04344873', 'studio_couch', 0.2747327), ('n03201208', 'dining_table', 0.013531525)]\n",
            "1/1 [==============================] - 0s 22ms/step\n",
            "4_5_1_002_08_1.jpg [('n03891251', 'park_bench', 0.46650252), ('n04344873', 'studio_couch', 0.4152033), ('n03201208', 'dining_table', 0.03237027)]\n",
            "1/1 [==============================] - 0s 23ms/step\n",
            "4_5_1_003_08_1.jpg [('n04344873', 'studio_couch', 0.64918494), ('n03891251', 'park_bench', 0.16852625), ('n03201208', 'dining_table', 0.07005242)]\n",
            "1/1 [==============================] - 0s 20ms/step\n",
            "4_5_1_004_08_1.jpg [('n04344873', 'studio_couch', 0.70280683), ('n03891251', 'park_bench', 0.16655566), ('n03201208', 'dining_table', 0.026344512)]\n",
            "1/1 [==============================] - 0s 24ms/step\n",
            "4_5_1_005_08_1.jpg [('n04344873', 'studio_couch', 0.61386585), ('n03891251', 'park_bench', 0.18003942), ('n03201208', 'dining_table', 0.040383838)]\n",
            "1/1 [==============================] - 0s 22ms/step\n",
            "4_5_1_006_08_1.jpg [('n04265275', 'space_heater', 0.27551204), ('n03014705', 'chest', 0.117349066), ('n04442312', 'toaster', 0.09767764)]\n",
            "1/1 [==============================] - 0s 30ms/step\n",
            "4_5_1_007_08_1.jpg [('n03584829', 'iron', 0.22770068), ('n03014705', 'chest', 0.17500691), ('n03891251', 'park_bench', 0.13849984)]\n",
            "1/1 [==============================] - 0s 21ms/step\n",
            "4_5_1_008_08_1.jpg [('n04344873', 'studio_couch', 0.46925604), ('n03891251', 'park_bench', 0.263215), ('n03598930', 'jigsaw_puzzle', 0.11741868)]\n",
            "1/1 [==============================] - 0s 26ms/step\n",
            "4_5_1_009_08_1.jpg [('n03467068', 'guillotine', 0.3864021), ('n03786901', 'mortar', 0.17194189), ('n02843684', 'birdhouse', 0.15035518)]\n",
            "1/1 [==============================] - 0s 21ms/step\n",
            "4_5_1_010_08_1.jpg [('n04179913', 'sewing_machine', 0.33195308), ('n03891251', 'park_bench', 0.19989714), ('n03014705', 'chest', 0.13932012)]\n"
          ]
        }
      ]
    },
    {
      "cell_type": "markdown",
      "source": [
        "### NLM Denoised - not there"
      ],
      "metadata": {
        "id": "iOFQileLRcBb"
      }
    },
    {
      "cell_type": "markdown",
      "source": [
        "### BM3D Denoised"
      ],
      "metadata": {
        "id": "fDMZ3QNARcBd"
      }
    },
    {
      "cell_type": "code",
      "source": [
        "filepath = '/content/drive/MyDrive/ECE_6258_DIP/OR Images/08_dirtylens2/level1/08_dirtylens2_bm3d_denoised'\n",
        "noisy_preds = []\n",
        "for file in os.listdir(filepath):\n",
        "  img = image.load_img(filepath+'/'+file, target_size=(224, 224))\n",
        "  x = image.img_to_array(img)\n",
        "  x = np.expand_dims(x, axis=0)\n",
        "  x = preprocess_input(x)\n",
        "\n",
        "  preds = model.predict(x)\n",
        "  print(file,decode_predictions(preds, top=3)[0])"
      ],
      "metadata": {
        "colab": {
          "base_uri": "https://localhost:8080/"
        },
        "id": "VMz8Q37TRcBe",
        "outputId": "8265184a-36ad-4448-86d5-f627e1dd8e6e"
      },
      "execution_count": 120,
      "outputs": [
        {
          "output_type": "stream",
          "name": "stdout",
          "text": [
            "1/1 [==============================] - 0s 21ms/step\n",
            "4_5_1_001_08_1_bm3d_denoised.jpg [('n03201208', 'dining_table', 0.22440065), ('n03127925', 'crate', 0.12017385), ('n04380533', 'table_lamp', 0.1160069)]\n",
            "1/1 [==============================] - 0s 23ms/step\n",
            "4_5_1_002_08_1_bm3d_denoised.jpg [('n03201208', 'dining_table', 0.4046714), ('n04380533', 'table_lamp', 0.09052867), ('n04344873', 'studio_couch', 0.08874306)]\n",
            "1/1 [==============================] - 0s 22ms/step\n",
            "4_5_1_003_08_1_bm3d_denoised.jpg [('n04380533', 'table_lamp', 0.16424248), ('n04344873', 'studio_couch', 0.14761475), ('n03201208', 'dining_table', 0.10541041)]\n",
            "1/1 [==============================] - 0s 23ms/step\n",
            "4_5_1_004_08_1_bm3d_denoised.jpg [('n04380533', 'table_lamp', 0.2097232), ('n04344873', 'studio_couch', 0.13220306), ('n03201208', 'dining_table', 0.07742492)]\n",
            "1/1 [==============================] - 0s 30ms/step\n",
            "4_5_1_005_08_1_bm3d_denoised.jpg [('n04344873', 'studio_couch', 0.21665998), ('n04380533', 'table_lamp', 0.10450698), ('n03201208', 'dining_table', 0.09928937)]\n",
            "1/1 [==============================] - 0s 24ms/step\n",
            "4_5_1_006_08_1_bm3d_denoised.jpg [('n04265275', 'space_heater', 0.7451802), ('n04040759', 'radiator', 0.058704026), ('n04041544', 'radio', 0.055884253)]\n",
            "1/1 [==============================] - 0s 26ms/step\n",
            "4_5_1_007_08_1_bm3d_denoised.jpg [('n03201208', 'dining_table', 0.22917888), ('n04344873', 'studio_couch', 0.09284184), ('n03584829', 'iron', 0.0835189)]\n",
            "1/1 [==============================] - 0s 36ms/step\n",
            "4_5_1_008_08_1_bm3d_denoised.jpg [('n04380533', 'table_lamp', 0.2075732), ('n04344873', 'studio_couch', 0.15083928), ('n03201208', 'dining_table', 0.14503443)]\n",
            "1/1 [==============================] - 0s 32ms/step\n",
            "4_5_1_009_08_1_bm3d_denoised.jpg [('n03467068', 'guillotine', 0.18578988), ('n03127925', 'crate', 0.12828656), ('n03794056', 'mousetrap', 0.10436996)]\n",
            "1/1 [==============================] - 0s 43ms/step\n",
            "4_5_1_010_08_1_bm3d_denoised.jpg [('n04380533', 'table_lamp', 0.31961653), ('n03201208', 'dining_table', 0.288858), ('n03179701', 'desk', 0.15580744)]\n"
          ]
        }
      ]
    },
    {
      "cell_type": "markdown",
      "source": [
        "### Level 3"
      ],
      "metadata": {
        "id": "27mDrSgxRcBf"
      }
    },
    {
      "cell_type": "markdown",
      "source": [
        "#### Noisy"
      ],
      "metadata": {
        "id": "1uTdmCCoRcBg"
      }
    },
    {
      "cell_type": "code",
      "source": [
        "filepath = '/content/drive/MyDrive/ECE_6258_DIP/OR Images/08_dirtylens2/level3/08_dirtylens2_level3'\n",
        "noisy_preds = []\n",
        "for file in os.listdir(filepath):\n",
        "  img = image.load_img(filepath+'/'+file, target_size=(224, 224))\n",
        "  x = image.img_to_array(img)\n",
        "  x = np.expand_dims(x, axis=0)\n",
        "  x = preprocess_input(x)\n",
        "\n",
        "  preds = model.predict(x)\n",
        "  print(file,decode_predictions(preds, top=3)[0])"
      ],
      "metadata": {
        "colab": {
          "base_uri": "https://localhost:8080/"
        },
        "outputId": "3d2dde05-44cd-42bd-f39a-4dbc9b534399",
        "id": "-nix5sn6RcBg"
      },
      "execution_count": 121,
      "outputs": [
        {
          "output_type": "stream",
          "name": "stdout",
          "text": [
            "1/1 [==============================] - 0s 31ms/step\n",
            "4_5_1_001_08_3.jpg [('n03891251', 'park_bench', 0.84219396), ('n03127925', 'crate', 0.074883394), ('n03014705', 'chest', 0.051045775)]\n",
            "1/1 [==============================] - 0s 35ms/step\n",
            "4_5_1_002_08_3.jpg [('n03891251', 'park_bench', 0.84982044), ('n03014705', 'chest', 0.063763104), ('n03127925', 'crate', 0.05648564)]\n",
            "1/1 [==============================] - 0s 48ms/step\n",
            "4_5_1_003_08_3.jpg [('n03891251', 'park_bench', 0.84659994), ('n03014705', 'chest', 0.087860644), ('n03127925', 'crate', 0.029418407)]\n",
            "1/1 [==============================] - 0s 37ms/step\n",
            "4_5_1_004_08_3.jpg [('n03891251', 'park_bench', 0.7931345), ('n03014705', 'chest', 0.1158909), ('n03127925', 'crate', 0.052867133)]\n",
            "1/1 [==============================] - 0s 33ms/step\n",
            "4_5_1_005_08_3.jpg [('n03891251', 'park_bench', 0.7623196), ('n03014705', 'chest', 0.14475179), ('n03127925', 'crate', 0.049754206)]\n",
            "1/1 [==============================] - 0s 42ms/step\n",
            "4_5_1_006_08_3.jpg [('n03014705', 'chest', 0.6137429), ('n03891251', 'park_bench', 0.1434715), ('n03127925', 'crate', 0.1020613)]\n",
            "1/1 [==============================] - 0s 33ms/step\n",
            "4_5_1_007_08_3.jpg [('n03584829', 'iron', 0.47668293), ('n03014705', 'chest', 0.23534544), ('n03891251', 'park_bench', 0.09528113)]\n",
            "1/1 [==============================] - 0s 33ms/step\n",
            "4_5_1_008_08_3.jpg [('n03891251', 'park_bench', 0.8344888), ('n03014705', 'chest', 0.123394795), ('n03127925', 'crate', 0.010270635)]\n",
            "1/1 [==============================] - 0s 49ms/step\n",
            "4_5_1_009_08_3.jpg [('n03014705', 'chest', 0.270576), ('n03467068', 'guillotine', 0.1771243), ('n03127925', 'crate', 0.07203682)]\n",
            "1/1 [==============================] - 0s 34ms/step\n",
            "4_5_1_010_08_3.jpg [('n03014705', 'chest', 0.7095099), ('n03891251', 'park_bench', 0.081934825), ('n04179913', 'sewing_machine', 0.07168584)]\n"
          ]
        }
      ]
    },
    {
      "cell_type": "markdown",
      "source": [
        "### NLM Denoised"
      ],
      "metadata": {
        "id": "YDO_m48eRcBh"
      }
    },
    {
      "cell_type": "code",
      "source": [
        "filepath = '/content/drive/MyDrive/ECE_6258_DIP/OR Images/08_dirtylens2/level3/08_dirtylens2_level3_denoised'\n",
        "noisy_preds = []\n",
        "for file in os.listdir(filepath):\n",
        "  img = image.load_img(filepath+'/'+file, target_size=(224, 224))\n",
        "  x = image.img_to_array(img)\n",
        "  x = np.expand_dims(x, axis=0)\n",
        "  x = preprocess_input(x)\n",
        "\n",
        "  preds = model.predict(x)\n",
        "  print(file,decode_predictions(preds, top=3)[0])"
      ],
      "metadata": {
        "colab": {
          "base_uri": "https://localhost:8080/"
        },
        "id": "4GJYhVYMRcBj",
        "outputId": "74a963f2-a7e2-4ae8-86e2-471118edd268"
      },
      "execution_count": 122,
      "outputs": [
        {
          "output_type": "stream",
          "name": "stdout",
          "text": [
            "1/1 [==============================] - 0s 34ms/step\n",
            "4_5_1_001_08_3_denoised.jpg [('n03127925', 'crate', 0.118331805), ('n03584829', 'iron', 0.10792591), ('n03467068', 'guillotine', 0.07980005)]\n",
            "1/1 [==============================] - 0s 41ms/step\n",
            "4_5_1_002_08_3_denoised.jpg [('n03584829', 'iron', 0.13000534), ('n03127925', 'crate', 0.10197134), ('n03467068', 'guillotine', 0.069160536)]\n",
            "1/1 [==============================] - 0s 41ms/step\n",
            "4_5_1_003_08_3_denoised.jpg [('n03127925', 'crate', 0.14317235), ('n03584829', 'iron', 0.117399976), ('n03467068', 'guillotine', 0.08382424)]\n",
            "1/1 [==============================] - 0s 37ms/step\n",
            "4_5_1_004_08_3_denoised.jpg [('n03584829', 'iron', 0.16160113), ('n03467068', 'guillotine', 0.08923147), ('n03127925', 'crate', 0.0718821)]\n",
            "1/1 [==============================] - 0s 32ms/step\n",
            "4_5_1_005_08_3_denoised.jpg [('n03127925', 'crate', 0.11626564), ('n03467068', 'guillotine', 0.108812675), ('n03584829', 'iron', 0.08961619)]\n",
            "1/1 [==============================] - 0s 35ms/step\n",
            "4_5_1_006_08_3_denoised.jpg [('n03584829', 'iron', 0.33932033), ('n03127925', 'crate', 0.07972933), ('n04179913', 'sewing_machine', 0.05763172)]\n",
            "1/1 [==============================] - 0s 32ms/step\n",
            "4_5_1_007_08_3_denoised.jpg [('n03584829', 'iron', 0.2418271), ('n03794056', 'mousetrap', 0.19798511), ('n03127925', 'crate', 0.087444894)]\n",
            "1/1 [==============================] - 0s 33ms/step\n",
            "4_5_1_008_08_3_denoised.jpg [('n03584829', 'iron', 0.12243592), ('n03014705', 'chest', 0.0946853), ('n03127925', 'crate', 0.0812615)]\n",
            "1/1 [==============================] - 0s 39ms/step\n",
            "4_5_1_009_08_3_denoised.jpg [('n03467068', 'guillotine', 0.51968), ('n03794056', 'mousetrap', 0.11281587), ('n03584829', 'iron', 0.07926106)]\n",
            "1/1 [==============================] - 0s 42ms/step\n",
            "4_5_1_010_08_3_denoised.jpg [('n03584829', 'iron', 0.20757975), ('n03127925', 'crate', 0.17706823), ('n03794056', 'mousetrap', 0.12255174)]\n"
          ]
        }
      ]
    },
    {
      "cell_type": "markdown",
      "source": [
        "### BM3D Denoised"
      ],
      "metadata": {
        "id": "edNZ0fEtRcBj"
      }
    },
    {
      "cell_type": "code",
      "source": [
        "filepath = '/content/drive/MyDrive/ECE_6258_DIP/OR Images/08_dirtylens2/level3/08_dirtylens2_level3_bm3d_denoised'\n",
        "noisy_preds = []\n",
        "for file in os.listdir(filepath):\n",
        "  img = image.load_img(filepath+'/'+file, target_size=(224, 224))\n",
        "  x = image.img_to_array(img)\n",
        "  x = np.expand_dims(x, axis=0)\n",
        "  x = preprocess_input(x)\n",
        "\n",
        "  preds = model.predict(x)\n",
        "  print(file,decode_predictions(preds, top=3)[0])"
      ],
      "metadata": {
        "colab": {
          "base_uri": "https://localhost:8080/"
        },
        "id": "hn4xrXkORcBk",
        "outputId": "a3cbd9d2-b7ef-4a47-f1a4-25c219e59232"
      },
      "execution_count": 123,
      "outputs": [
        {
          "output_type": "stream",
          "name": "stdout",
          "text": [
            "1/1 [==============================] - 0s 36ms/step\n",
            "4_5_1_001_08_3_bm3d_denoised.jpg [('n03014705', 'chest', 0.45599142), ('n03127925', 'crate', 0.26272783), ('n03201208', 'dining_table', 0.066084705)]\n",
            "1/1 [==============================] - 0s 33ms/step\n",
            "4_5_1_002_08_3_bm3d_denoised.jpg [('n03014705', 'chest', 0.39837012), ('n03127925', 'crate', 0.36017588), ('n03201208', 'dining_table', 0.06969628)]\n",
            "1/1 [==============================] - 0s 31ms/step\n",
            "4_5_1_003_08_3_bm3d_denoised.jpg [('n03014705', 'chest', 0.3969347), ('n03127925', 'crate', 0.16797467), ('n03201208', 'dining_table', 0.07901095)]\n",
            "1/1 [==============================] - 0s 34ms/step\n",
            "4_5_1_004_08_3_bm3d_denoised.jpg [('n03014705', 'chest', 0.46960318), ('n03127925', 'crate', 0.1610122), ('n03201208', 'dining_table', 0.057718314)]\n",
            "1/1 [==============================] - 0s 32ms/step\n",
            "4_5_1_005_08_3_bm3d_denoised.jpg [('n03014705', 'chest', 0.43345726), ('n03127925', 'crate', 0.12814096), ('n03201208', 'dining_table', 0.042373877)]\n",
            "1/1 [==============================] - 0s 34ms/step\n",
            "4_5_1_006_08_3_bm3d_denoised.jpg [('n04265275', 'space_heater', 0.18899983), ('n04041544', 'radio', 0.1831142), ('n04179913', 'sewing_machine', 0.080849916)]\n",
            "1/1 [==============================] - 0s 34ms/step\n",
            "4_5_1_007_08_3_bm3d_denoised.jpg [('n03014705', 'chest', 0.50618565), ('n03584829', 'iron', 0.28580323), ('n04179913', 'sewing_machine', 0.06709065)]\n",
            "1/1 [==============================] - 0s 32ms/step\n",
            "4_5_1_008_08_3_bm3d_denoised.jpg [('n03014705', 'chest', 0.24207753), ('n03127925', 'crate', 0.17454208), ('n03201208', 'dining_table', 0.093059376)]\n",
            "1/1 [==============================] - 0s 46ms/step\n",
            "4_5_1_009_08_3_bm3d_denoised.jpg [('n03467068', 'guillotine', 0.7779761), ('n03127925', 'crate', 0.04430084), ('n03014705', 'chest', 0.033013012)]\n",
            "1/1 [==============================] - 0s 37ms/step\n",
            "4_5_1_010_08_3_bm3d_denoised.jpg [('n03014705', 'chest', 0.2616832), ('n03201208', 'dining_table', 0.18431161), ('n03127925', 'crate', 0.17792208)]\n"
          ]
        }
      ]
    },
    {
      "cell_type": "markdown",
      "source": [
        "### Level 5"
      ],
      "metadata": {
        "id": "PShXKbBeRcBl"
      }
    },
    {
      "cell_type": "markdown",
      "source": [
        "#### Noisy"
      ],
      "metadata": {
        "id": "g-2ya5bjRcBm"
      }
    },
    {
      "cell_type": "code",
      "source": [
        "filepath = '/content/drive/MyDrive/ECE_6258_DIP/OR Images/08_dirtylens2/level5/08_dirtylens2_level5'\n",
        "noisy_preds = []\n",
        "for file in os.listdir(filepath):\n",
        "  img = image.load_img(filepath+'/'+file, target_size=(224, 224))\n",
        "  x = image.img_to_array(img)\n",
        "  x = np.expand_dims(x, axis=0)\n",
        "  x = preprocess_input(x)\n",
        "\n",
        "  preds = model.predict(x)\n",
        "  print(file,decode_predictions(preds, top=3)[0])"
      ],
      "metadata": {
        "colab": {
          "base_uri": "https://localhost:8080/"
        },
        "outputId": "e2db1a51-749b-41fe-b534-304542f21b30",
        "id": "DBzcNl7-RcBn"
      },
      "execution_count": 124,
      "outputs": [
        {
          "output_type": "stream",
          "name": "stdout",
          "text": [
            "1/1 [==============================] - 0s 37ms/step\n",
            "4_5_1_002_08_5.jpg [('n03710193', 'mailbox', 0.5446759), ('n03891251', 'park_bench', 0.12280005), ('n03743016', 'megalith', 0.035524108)]\n",
            "1/1 [==============================] - 0s 43ms/step\n",
            "4_5_1_001_08_5.jpg [('n03710193', 'mailbox', 0.49264306), ('n03891251', 'park_bench', 0.17718245), ('n03127925', 'crate', 0.027861038)]\n",
            "1/1 [==============================] - 0s 37ms/step\n",
            "4_5_1_003_08_5.jpg [('n03710193', 'mailbox', 0.49239063), ('n03891251', 'park_bench', 0.09918436), ('n03127925', 'crate', 0.054357193)]\n",
            "1/1 [==============================] - 0s 42ms/step\n",
            "4_5_1_004_08_5.jpg [('n03710193', 'mailbox', 0.5627956), ('n03891251', 'park_bench', 0.13629074), ('n03764736', 'milk_can', 0.024293613)]\n",
            "1/1 [==============================] - 0s 35ms/step\n",
            "4_5_1_005_08_5.jpg [('n03710193', 'mailbox', 0.5470984), ('n03891251', 'park_bench', 0.13945483), ('n03014705', 'chest', 0.038603522)]\n",
            "1/1 [==============================] - 0s 37ms/step\n",
            "4_5_1_006_08_5.jpg [('n03014705', 'chest', 0.6269352), ('n03127925', 'crate', 0.06968345), ('n03891251', 'park_bench', 0.04550625)]\n",
            "1/1 [==============================] - 0s 37ms/step\n",
            "4_5_1_007_08_5.jpg [('n02797295', 'barrow', 0.45504773), ('n03710193', 'mailbox', 0.15596907), ('n03014705', 'chest', 0.14057547)]\n",
            "1/1 [==============================] - 0s 41ms/step\n",
            "4_5_1_008_08_5.jpg [('n03710193', 'mailbox', 0.29514658), ('n03014705', 'chest', 0.23445635), ('n03891251', 'park_bench', 0.12049228)]\n",
            "1/1 [==============================] - 0s 36ms/step\n",
            "4_5_1_009_08_5.jpg [('n03710193', 'mailbox', 0.44030675), ('n03014705', 'chest', 0.09533487), ('n03786901', 'mortar', 0.08287862)]\n",
            "1/1 [==============================] - 0s 38ms/step\n",
            "4_5_1_010_08_5.jpg [('n03014705', 'chest', 0.652938), ('n03710193', 'mailbox', 0.074011035), ('n03584829', 'iron', 0.062403176)]\n"
          ]
        }
      ]
    },
    {
      "cell_type": "markdown",
      "source": [
        "### NLM Denoised"
      ],
      "metadata": {
        "id": "2HbJ5IOjRcBp"
      }
    },
    {
      "cell_type": "code",
      "source": [
        "filepath = '/content/drive/MyDrive/ECE_6258_DIP/OR Images/08_dirtylens2/level5/08_dirtylens2_level5_denoised'\n",
        "noisy_preds = []\n",
        "for file in os.listdir(filepath):\n",
        "  img = image.load_img(filepath+'/'+file, target_size=(224, 224))\n",
        "  x = image.img_to_array(img)\n",
        "  x = np.expand_dims(x, axis=0)\n",
        "  x = preprocess_input(x)\n",
        "\n",
        "  preds = model.predict(x)\n",
        "  print(file,decode_predictions(preds, top=3)[0])"
      ],
      "metadata": {
        "colab": {
          "base_uri": "https://localhost:8080/"
        },
        "id": "_A3DRHB_RcBq",
        "outputId": "c2b12506-8aec-412b-b03e-672ddd70b910"
      },
      "execution_count": 125,
      "outputs": [
        {
          "output_type": "stream",
          "name": "stdout",
          "text": [
            "1/1 [==============================] - 0s 24ms/step\n",
            "4_5_1_001_08_5_denoised.jpg [('n04099969', 'rocking_chair', 0.13551097), ('n03584829', 'iron', 0.11370653), ('n03127925', 'crate', 0.08243707)]\n",
            "1/1 [==============================] - 0s 21ms/step\n",
            "4_5_1_002_08_5_denoised.jpg [('n04099969', 'rocking_chair', 0.19350606), ('n03584829', 'iron', 0.11268749), ('n03467068', 'guillotine', 0.06644936)]\n",
            "1/1 [==============================] - 0s 25ms/step\n",
            "4_5_1_003_08_5_denoised.jpg [('n03584829', 'iron', 0.15796363), ('n04099969', 'rocking_chair', 0.0929536), ('n03127925', 'crate', 0.08344661)]\n",
            "1/1 [==============================] - 0s 24ms/step\n",
            "4_5_1_004_08_5_denoised.jpg [('n03584829', 'iron', 0.17864548), ('n04099969', 'rocking_chair', 0.16799532), ('n03891251', 'park_bench', 0.07379806)]\n",
            "1/1 [==============================] - 0s 33ms/step\n",
            "4_5_1_005_08_5_denoised.jpg [('n03584829', 'iron', 0.17738406), ('n04099969', 'rocking_chair', 0.09439192), ('n03467068', 'guillotine', 0.07427545)]\n",
            "1/1 [==============================] - 0s 23ms/step\n",
            "4_5_1_006_08_5_denoised.jpg [('n03584829', 'iron', 0.18889573), ('n04033901', 'quill', 0.08598777), ('n03467068', 'guillotine', 0.05351369)]\n",
            "1/1 [==============================] - 0s 26ms/step\n",
            "4_5_1_007_08_5_denoised.jpg [('n03584829', 'iron', 0.33150548), ('n04099969', 'rocking_chair', 0.10493669), ('n03127925', 'crate', 0.047618654)]\n",
            "1/1 [==============================] - 0s 27ms/step\n",
            "4_5_1_008_08_5_denoised.jpg [('n03584829', 'iron', 0.120209895), ('n04099969', 'rocking_chair', 0.09095899), ('n03891251', 'park_bench', 0.07876546)]\n",
            "1/1 [==============================] - 0s 24ms/step\n",
            "4_5_1_009_08_5_denoised.jpg [('n03584829', 'iron', 0.3304095), ('n03467068', 'guillotine', 0.17348936), ('n03874599', 'padlock', 0.055233084)]\n",
            "1/1 [==============================] - 0s 22ms/step\n",
            "4_5_1_010_08_5_denoised.jpg [('n03584829', 'iron', 0.46595186), ('n03467068', 'guillotine', 0.09272796), ('n04033901', 'quill', 0.059358172)]\n"
          ]
        }
      ]
    },
    {
      "cell_type": "markdown",
      "source": [
        "### BM3D Denoised"
      ],
      "metadata": {
        "id": "hLJbKzYoRcBr"
      }
    },
    {
      "cell_type": "code",
      "source": [
        "filepath = '/content/drive/MyDrive/ECE_6258_DIP/OR Images/08_dirtylens2/level5/08_dirtylens2_level5_bm3d_denoised'\n",
        "noisy_preds = []\n",
        "for file in os.listdir(filepath):\n",
        "  img = image.load_img(filepath+'/'+file, target_size=(224, 224))\n",
        "  x = image.img_to_array(img)\n",
        "  x = np.expand_dims(x, axis=0)\n",
        "  x = preprocess_input(x)\n",
        "\n",
        "  preds = model.predict(x)\n",
        "  print(file,decode_predictions(preds, top=3)[0])"
      ],
      "metadata": {
        "colab": {
          "base_uri": "https://localhost:8080/"
        },
        "id": "frOcTp24RcBt",
        "outputId": "1c229ee7-db5d-4754-ff4b-84eac59be5ae"
      },
      "execution_count": 126,
      "outputs": [
        {
          "output_type": "stream",
          "name": "stdout",
          "text": [
            "1/1 [==============================] - 0s 20ms/step\n",
            "4_5_1_001_08_5_bm3d_denoised.jpg [('n03014705', 'chest', 0.25414863), ('n03584829', 'iron', 0.15938425), ('n04111531', 'rotisserie', 0.14161025)]\n",
            "1/1 [==============================] - 0s 21ms/step\n",
            "4_5_1_002_08_5_bm3d_denoised.jpg [('n03014705', 'chest', 0.21162885), ('n04111531', 'rotisserie', 0.17680532), ('n03584829', 'iron', 0.17449537)]\n",
            "1/1 [==============================] - 0s 26ms/step\n",
            "4_5_1_003_08_5_bm3d_denoised.jpg [('n03584829', 'iron', 0.27761868), ('n03014705', 'chest', 0.19896333), ('n04111531', 'rotisserie', 0.054731146)]\n",
            "1/1 [==============================] - 0s 21ms/step\n",
            "4_5_1_004_08_5_bm3d_denoised.jpg [('n03584829', 'iron', 0.39945456), ('n04111531', 'rotisserie', 0.14306921), ('n03014705', 'chest', 0.09367401)]\n",
            "1/1 [==============================] - 0s 22ms/step\n",
            "4_5_1_005_08_5_bm3d_denoised.jpg [('n03584829', 'iron', 0.25108498), ('n04111531', 'rotisserie', 0.18628328), ('n03014705', 'chest', 0.17076927)]\n",
            "1/1 [==============================] - 0s 26ms/step\n",
            "4_5_1_006_08_5_bm3d_denoised.jpg [('n03584829', 'iron', 0.31149927), ('n03014705', 'chest', 0.101377845), ('n04330267', 'stove', 0.08318661)]\n",
            "1/1 [==============================] - 0s 26ms/step\n",
            "4_5_1_007_08_5_bm3d_denoised.jpg [('n03584829', 'iron', 0.82549316), ('n03014705', 'chest', 0.13273679), ('n04179913', 'sewing_machine', 0.0067549134)]\n",
            "1/1 [==============================] - 0s 24ms/step\n",
            "4_5_1_008_08_5_bm3d_denoised.jpg [('n03014705', 'chest', 0.2518446), ('n04111531', 'rotisserie', 0.1257324), ('n02939185', 'caldron', 0.04907894)]\n",
            "1/1 [==============================] - 0s 22ms/step\n",
            "4_5_1_009_08_5_bm3d_denoised.jpg [('n03467068', 'guillotine', 0.5827704), ('n03584829', 'iron', 0.07376255), ('n03014705', 'chest', 0.055624917)]\n",
            "1/1 [==============================] - 0s 24ms/step\n",
            "4_5_1_010_08_5_bm3d_denoised.jpg [('n03584829', 'iron', 0.3327023), ('n04330267', 'stove', 0.14530379), ('n03014705', 'chest', 0.13211526)]\n"
          ]
        }
      ]
    },
    {
      "cell_type": "markdown",
      "source": [
        "# 09 S&P Noise"
      ],
      "metadata": {
        "id": "x4cIm5pjRwAv"
      }
    },
    {
      "cell_type": "markdown",
      "source": [
        "## Level 1"
      ],
      "metadata": {
        "id": "bJ3x5_EKRwAw"
      }
    },
    {
      "cell_type": "markdown",
      "source": [
        "### Noisy"
      ],
      "metadata": {
        "id": "mmuJuPhrRwAy"
      }
    },
    {
      "cell_type": "code",
      "source": [
        "filepath = '/content/drive/MyDrive/ECE_6258_DIP/OR Images/09_spnoise/level1/09_spnoise'\n",
        "noisy_preds = []\n",
        "for file in os.listdir(filepath):\n",
        "  img = image.load_img(filepath+'/'+file, target_size=(224, 224))\n",
        "  x = image.img_to_array(img)\n",
        "  x = np.expand_dims(x, axis=0)\n",
        "  x = preprocess_input(x)\n",
        "\n",
        "  preds = model.predict(x)\n",
        "  print(file,decode_predictions(preds, top=3)[0])"
      ],
      "metadata": {
        "colab": {
          "base_uri": "https://localhost:8080/"
        },
        "outputId": "31136100-5d7f-4572-9c15-68019d4f400b",
        "id": "A9KeCaM4RwAz"
      },
      "execution_count": 127,
      "outputs": [
        {
          "output_type": "stream",
          "name": "stdout",
          "text": [
            "1/1 [==============================] - 0s 22ms/step\n",
            "4_5_1_002_09_1.jpg [('n03388043', 'fountain', 0.24627428), ('n04344873', 'studio_couch', 0.14148723), ('n03598930', 'jigsaw_puzzle', 0.104994975)]\n",
            "1/1 [==============================] - 0s 21ms/step\n",
            "4_5_1_001_09_1.jpg [('n03530642', 'honeycomb', 0.62243927), ('n04344873', 'studio_couch', 0.08169641), ('n03388043', 'fountain', 0.0779662)]\n",
            "1/1 [==============================] - 0s 21ms/step\n",
            "4_5_1_003_09_1.jpg [('n03388043', 'fountain', 0.6357059), ('n03598930', 'jigsaw_puzzle', 0.21861143), ('n04033995', 'quilt', 0.049555186)]\n",
            "1/1 [==============================] - 0s 21ms/step\n",
            "4_5_1_007_09_1.jpg [('n03388043', 'fountain', 0.7099693), ('n03891251', 'park_bench', 0.046126228), ('n04344873', 'studio_couch', 0.042241305)]\n",
            "1/1 [==============================] - 0s 22ms/step\n",
            "4_5_1_005_09_1.jpg [('n03891251', 'park_bench', 0.42467517), ('n04344873', 'studio_couch', 0.35268173), ('n02877765', 'bottlecap', 0.03537433)]\n",
            "1/1 [==============================] - 0s 25ms/step\n",
            "4_5_1_006_09_1.jpg [('n04040759', 'radiator', 0.13927923), ('n03891251', 'park_bench', 0.13705087), ('n04344873', 'studio_couch', 0.098488554)]\n",
            "1/1 [==============================] - 0s 22ms/step\n",
            "4_5_1_008_09_1.jpg [('n03598930', 'jigsaw_puzzle', 0.47795025), ('n04033995', 'quilt', 0.31488198), ('n04344873', 'studio_couch', 0.056545097)]\n",
            "1/1 [==============================] - 0s 24ms/step\n",
            "4_5_1_004_09_1.jpg [('n04344873', 'studio_couch', 0.389626), ('n03598930', 'jigsaw_puzzle', 0.15335627), ('n03891251', 'park_bench', 0.11854092)]\n",
            "1/1 [==============================] - 0s 21ms/step\n",
            "4_5_1_009_09_1.jpg [('n03786901', 'mortar', 0.6143364), ('n03598930', 'jigsaw_puzzle', 0.093809344), ('n03388043', 'fountain', 0.058131784)]\n",
            "1/1 [==============================] - 0s 21ms/step\n",
            "4_5_1_010_09_1.jpg [('n03388043', 'fountain', 0.46689308), ('n03530642', 'honeycomb', 0.11137038), ('n03891251', 'park_bench', 0.07765612)]\n"
          ]
        }
      ]
    },
    {
      "cell_type": "markdown",
      "source": [
        "### NLM Denoised"
      ],
      "metadata": {
        "id": "z4Kv1MfHRwA1"
      }
    },
    {
      "cell_type": "code",
      "source": [
        "filepath = '/content/drive/MyDrive/ECE_6258_DIP/OR Images/09_spnoise/level1/09_spnoise_denoised'\n",
        "noisy_preds = []\n",
        "for file in os.listdir(filepath):\n",
        "  img = image.load_img(filepath+'/'+file, target_size=(224, 224))\n",
        "  x = image.img_to_array(img)\n",
        "  x = np.expand_dims(x, axis=0)\n",
        "  x = preprocess_input(x)\n",
        "\n",
        "  preds = model.predict(x)\n",
        "  print(file,decode_predictions(preds, top=3)[0])"
      ],
      "metadata": {
        "colab": {
          "base_uri": "https://localhost:8080/"
        },
        "id": "FuQ-tY6dRwA2",
        "outputId": "aa9278dd-330a-425b-e2a5-1d9e57e8eed1"
      },
      "execution_count": 128,
      "outputs": [
        {
          "output_type": "stream",
          "name": "stdout",
          "text": [
            "1/1 [==============================] - 0s 21ms/step\n",
            "4_5_1_001_09_1_denoised.jpg [('n04344873', 'studio_couch', 0.15440886), ('n03201208', 'dining_table', 0.08783251), ('n03179701', 'desk', 0.069774635)]\n",
            "1/1 [==============================] - 0s 22ms/step\n",
            "4_5_1_002_09_1_denoised.jpg [('n03201208', 'dining_table', 0.3903917), ('n03179701', 'desk', 0.08076832), ('n04344873', 'studio_couch', 0.04058852)]\n",
            "1/1 [==============================] - 0s 20ms/step\n",
            "4_5_1_003_09_1_denoised.jpg [('n03201208', 'dining_table', 0.26184285), ('n03179701', 'desk', 0.11488948), ('n04380533', 'table_lamp', 0.06759913)]\n",
            "1/1 [==============================] - 0s 22ms/step\n",
            "4_5_1_004_09_1_denoised.jpg [('n04344873', 'studio_couch', 0.2521442), ('n03201208', 'dining_table', 0.17793542), ('n03179701', 'desk', 0.059721958)]\n",
            "1/1 [==============================] - 0s 23ms/step\n",
            "4_5_1_005_09_1_denoised.jpg [('n04344873', 'studio_couch', 0.10894018), ('n03179701', 'desk', 0.09776022), ('n03201208', 'dining_table', 0.08227597)]\n",
            "1/1 [==============================] - 0s 27ms/step\n",
            "4_5_1_006_09_1_denoised.jpg [('n04265275', 'space_heater', 0.75649357), ('n04404412', 'television', 0.040518817), ('n03347037', 'fire_screen', 0.029438818)]\n",
            "1/1 [==============================] - 0s 22ms/step\n",
            "4_5_1_007_09_1_denoised.jpg [('n03584829', 'iron', 0.11493675), ('n04380533', 'table_lamp', 0.07590109), ('n03201208', 'dining_table', 0.065233015)]\n",
            "1/1 [==============================] - 0s 21ms/step\n",
            "4_5_1_008_09_1_denoised.jpg [('n04380533', 'table_lamp', 0.10909966), ('n03179701', 'desk', 0.073730394), ('n03201208', 'dining_table', 0.07036491)]\n",
            "1/1 [==============================] - 0s 22ms/step\n",
            "4_5_1_009_09_1_denoised.jpg [('n03467068', 'guillotine', 0.16647671), ('n03786901', 'mortar', 0.088938676), ('n04344873', 'studio_couch', 0.062211744)]\n",
            "1/1 [==============================] - 0s 22ms/step\n",
            "4_5_1_010_09_1_denoised.jpg [('n04380533', 'table_lamp', 0.30751255), ('n04344873', 'studio_couch', 0.098032154), ('n04201297', 'shoji', 0.054759193)]\n"
          ]
        }
      ]
    },
    {
      "cell_type": "markdown",
      "source": [
        "### BM3D Denoised"
      ],
      "metadata": {
        "id": "DTyFa_e1RwA3"
      }
    },
    {
      "cell_type": "code",
      "source": [
        "filepath = '/content/drive/MyDrive/ECE_6258_DIP/OR Images/09_spnoise/level1/09_spnoise_bm3d_denoised'\n",
        "noisy_preds = []\n",
        "for file in os.listdir(filepath):\n",
        "  img = image.load_img(filepath+'/'+file, target_size=(224, 224))\n",
        "  x = image.img_to_array(img)\n",
        "  x = np.expand_dims(x, axis=0)\n",
        "  x = preprocess_input(x)\n",
        "\n",
        "  preds = model.predict(x)\n",
        "  print(file,decode_predictions(preds, top=3)[0])"
      ],
      "metadata": {
        "colab": {
          "base_uri": "https://localhost:8080/"
        },
        "id": "Bt578kAsRwA3",
        "outputId": "278c4855-bb7d-4a29-9bbb-7bc1151b58ea"
      },
      "execution_count": 129,
      "outputs": [
        {
          "output_type": "stream",
          "name": "stdout",
          "text": [
            "1/1 [==============================] - 0s 22ms/step\n",
            "4_5_1_009_09_1_bm3d_denoised.jpg [('n03992509', \"potter's_wheel\", 0.19511436), ('n03447721', 'gong', 0.06571913), ('n03017168', 'chime', 0.06417404)]\n",
            "1/1 [==============================] - 0s 23ms/step\n",
            "4_5_1_008_09_1_bm3d_denoised.jpg [('n03201208', 'dining_table', 0.35623837), ('n04344873', 'studio_couch', 0.31260073), ('n04033995', 'quilt', 0.08395813)]\n",
            "1/1 [==============================] - 0s 21ms/step\n",
            "4_5_1_010_09_1_bm3d_denoised.jpg [('n04179913', 'sewing_machine', 0.62140685), ('n04344873', 'studio_couch', 0.08598585), ('n03201208', 'dining_table', 0.05518372)]\n",
            "1/1 [==============================] - 0s 22ms/step\n",
            "4_5_1_007_09_1_bm3d_denoised.jpg [('n03452741', 'grand_piano', 0.33148724), ('n03014705', 'chest', 0.15108243), ('n03201208', 'dining_table', 0.14378724)]\n",
            "1/1 [==============================] - 0s 22ms/step\n",
            "4_5_1_006_09_1_bm3d_denoised.jpg [('n04265275', 'space_heater', 0.8451361), ('n04179913', 'sewing_machine', 0.03176112), ('n04040759', 'radiator', 0.024847988)]\n",
            "1/1 [==============================] - 0s 23ms/step\n",
            "4_5_1_005_09_1_bm3d_denoised.jpg [('n04344873', 'studio_couch', 0.58567697), ('n03201208', 'dining_table', 0.15372756), ('n02699494', 'altar', 0.038416907)]\n",
            "1/1 [==============================] - 0s 25ms/step\n",
            "4_5_1_004_09_1_bm3d_denoised.jpg [('n03201208', 'dining_table', 0.39309567), ('n04344873', 'studio_couch', 0.2569384), ('n03452741', 'grand_piano', 0.041672993)]\n",
            "1/1 [==============================] - 0s 21ms/step\n",
            "4_5_1_003_09_1_bm3d_denoised.jpg [('n03452741', 'grand_piano', 0.3798441), ('n03201208', 'dining_table', 0.1676065), ('n04344873', 'studio_couch', 0.1352084)]\n",
            "1/1 [==============================] - 0s 23ms/step\n",
            "4_5_1_002_09_1_bm3d_denoised.jpg [('n03201208', 'dining_table', 0.7234191), ('n04344873', 'studio_couch', 0.11163156), ('n03452741', 'grand_piano', 0.09029549)]\n",
            "1/1 [==============================] - 0s 24ms/step\n",
            "4_5_1_001_09_1_bm3d_denoised.jpg [('n04344873', 'studio_couch', 0.4940436), ('n03201208', 'dining_table', 0.27989113), ('n03584829', 'iron', 0.031170426)]\n"
          ]
        }
      ]
    },
    {
      "cell_type": "markdown",
      "source": [
        "### Level 3"
      ],
      "metadata": {
        "id": "gEX0MyDBRwA4"
      }
    },
    {
      "cell_type": "markdown",
      "source": [
        "#### Noisy"
      ],
      "metadata": {
        "id": "G_6d17yCRwA5"
      }
    },
    {
      "cell_type": "code",
      "source": [
        "filepath = '/content/drive/MyDrive/ECE_6258_DIP/OR Images/09_spnoise/level3/09_spnoise_level3'\n",
        "noisy_preds = []\n",
        "for file in os.listdir(filepath):\n",
        "  img = image.load_img(filepath+'/'+file, target_size=(224, 224))\n",
        "  x = image.img_to_array(img)\n",
        "  x = np.expand_dims(x, axis=0)\n",
        "  x = preprocess_input(x)\n",
        "\n",
        "  preds = model.predict(x)\n",
        "  print(file,decode_predictions(preds, top=3)[0])"
      ],
      "metadata": {
        "colab": {
          "base_uri": "https://localhost:8080/"
        },
        "outputId": "4202d163-ca99-4116-95d3-feabe5496a98",
        "id": "Ov6rWRVWRwA5"
      },
      "execution_count": 130,
      "outputs": [
        {
          "output_type": "stream",
          "name": "stdout",
          "text": [
            "1/1 [==============================] - 0s 27ms/step\n",
            "4_5_1_002_09_3.jpg [('n04589890', 'window_screen', 0.32107893), ('n03998194', 'prayer_rug', 0.23261352), ('n03000134', 'chainlink_fence', 0.104327776)]\n",
            "1/1 [==============================] - 0s 21ms/step\n",
            "4_5_1_005_09_3.jpg [('n04589890', 'window_screen', 0.4684334), ('n03000134', 'chainlink_fence', 0.24520256), ('n03530642', 'honeycomb', 0.15536056)]\n",
            "1/1 [==============================] - 0s 25ms/step\n",
            "4_5_1_009_09_3.jpg [('n04589890', 'window_screen', 0.4309426), ('n03598930', 'jigsaw_puzzle', 0.13251142), ('n03000134', 'chainlink_fence', 0.057646006)]\n",
            "1/1 [==============================] - 0s 23ms/step\n",
            "4_5_1_004_09_3.jpg [('n03000134', 'chainlink_fence', 0.15303876), ('n03530642', 'honeycomb', 0.15263355), ('n02999410', 'chain', 0.09707968)]\n",
            "1/1 [==============================] - 0s 22ms/step\n",
            "4_5_1_003_09_3.jpg [('n04589890', 'window_screen', 0.32485878), ('n03000134', 'chainlink_fence', 0.21531095), ('n03998194', 'prayer_rug', 0.16543324)]\n",
            "1/1 [==============================] - 0s 25ms/step\n",
            "4_5_1_007_09_3.jpg [('n03000134', 'chainlink_fence', 0.22236994), ('n04589890', 'window_screen', 0.16948195), ('n03998194', 'prayer_rug', 0.08181571)]\n",
            "1/1 [==============================] - 0s 21ms/step\n",
            "4_5_1_006_09_3.jpg [('n04589890', 'window_screen', 0.4399406), ('n03530642', 'honeycomb', 0.091697045), ('n03598930', 'jigsaw_puzzle', 0.06829869)]\n",
            "1/1 [==============================] - 0s 24ms/step\n",
            "4_5_1_008_09_3.jpg [('n04589890', 'window_screen', 0.4231411), ('n03530642', 'honeycomb', 0.1742937), ('n03000134', 'chainlink_fence', 0.118641555)]\n",
            "1/1 [==============================] - 0s 23ms/step\n",
            "4_5_1_001_09_3.jpg [('n04589890', 'window_screen', 0.5094319), ('n03000134', 'chainlink_fence', 0.16016446), ('n03530642', 'honeycomb', 0.09023886)]\n",
            "1/1 [==============================] - 0s 25ms/step\n",
            "4_5_1_010_09_3.jpg [('n04589890', 'window_screen', 0.557643), ('n03000134', 'chainlink_fence', 0.0790768), ('n03530642', 'honeycomb', 0.067919135)]\n"
          ]
        }
      ]
    },
    {
      "cell_type": "markdown",
      "source": [
        "### NLM Denoised"
      ],
      "metadata": {
        "id": "evgTVwhNRwA6"
      }
    },
    {
      "cell_type": "code",
      "source": [
        "filepath = '/content/drive/MyDrive/ECE_6258_DIP/OR Images/09_spnoise/level3/09_spnoise_level3_denoised'\n",
        "noisy_preds = []\n",
        "for file in os.listdir(filepath):\n",
        "  img = image.load_img(filepath+'/'+file, target_size=(224, 224))\n",
        "  x = image.img_to_array(img)\n",
        "  x = np.expand_dims(x, axis=0)\n",
        "  x = preprocess_input(x)\n",
        "\n",
        "  preds = model.predict(x)\n",
        "  print(file,decode_predictions(preds, top=3)[0])"
      ],
      "metadata": {
        "colab": {
          "base_uri": "https://localhost:8080/"
        },
        "id": "mSSKEk_8RwA7",
        "outputId": "434927d7-3d58-462b-f64b-6f891d499712"
      },
      "execution_count": 131,
      "outputs": [
        {
          "output_type": "stream",
          "name": "stdout",
          "text": [
            "1/1 [==============================] - 0s 21ms/step\n",
            "4_5_1_001_09_3_denoised.jpg [('n03584829', 'iron', 0.42739132), ('n03452741', 'grand_piano', 0.117394164), ('n03201208', 'dining_table', 0.06781106)]\n",
            "1/1 [==============================] - 0s 30ms/step\n",
            "4_5_1_006_09_3_denoised.jpg [('n03452741', 'grand_piano', 0.178847), ('n03478589', 'half_track', 0.09398232), ('n03584829', 'iron', 0.053187534)]\n",
            "1/1 [==============================] - 0s 22ms/step\n",
            "4_5_1_002_09_3_denoised.jpg [('n03201208', 'dining_table', 0.5562284), ('n04344873', 'studio_couch', 0.06365897), ('n04429376', 'throne', 0.052224047)]\n",
            "1/1 [==============================] - 0s 22ms/step\n",
            "4_5_1_007_09_3_denoised.jpg [('n03584829', 'iron', 0.52224284), ('n03452741', 'grand_piano', 0.09141339), ('n03478589', 'half_track', 0.0718853)]\n",
            "1/1 [==============================] - 0s 24ms/step\n",
            "4_5_1_004_09_3_denoised.jpg [('n03584829', 'iron', 0.3888554), ('n03201208', 'dining_table', 0.3017693), ('n03903868', 'pedestal', 0.04500306)]\n",
            "1/1 [==============================] - 0s 24ms/step\n",
            "4_5_1_008_09_3_denoised.jpg [('n03201208', 'dining_table', 0.28610003), ('n03452741', 'grand_piano', 0.10724383), ('n03014705', 'chest', 0.09714524)]\n",
            "1/1 [==============================] - 0s 25ms/step\n",
            "4_5_1_003_09_3_denoised.jpg [('n03201208', 'dining_table', 0.4710736), ('n03452741', 'grand_piano', 0.107548155), ('n04429376', 'throne', 0.049186148)]\n",
            "1/1 [==============================] - 0s 26ms/step\n",
            "4_5_1_005_09_3_denoised.jpg [('n04344873', 'studio_couch', 0.15912819), ('n03201208', 'dining_table', 0.098125644), ('n03584829', 'iron', 0.072475135)]\n",
            "1/1 [==============================] - 0s 23ms/step\n",
            "4_5_1_010_09_3_denoised.jpg [('n03794056', 'mousetrap', 0.6915969), ('n03127925', 'crate', 0.052959133), ('n03452741', 'grand_piano', 0.044221886)]\n",
            "1/1 [==============================] - 0s 23ms/step\n",
            "4_5_1_009_09_3_denoised.jpg [('n03467068', 'guillotine', 0.553672), ('n03992509', \"potter's_wheel\", 0.15940677), ('n02325366', 'wood_rabbit', 0.0347765)]\n"
          ]
        }
      ]
    },
    {
      "cell_type": "markdown",
      "source": [
        "### BM3D Denoised"
      ],
      "metadata": {
        "id": "qlFoXoyfRwA7"
      }
    },
    {
      "cell_type": "code",
      "source": [
        "filepath = '/content/drive/MyDrive/ECE_6258_DIP/OR Images/09_spnoise/level3/09_spnoise_level3_bm3d_denoised'\n",
        "noisy_preds = []\n",
        "for file in os.listdir(filepath):\n",
        "  img = image.load_img(filepath+'/'+file, target_size=(224, 224))\n",
        "  x = image.img_to_array(img)\n",
        "  x = np.expand_dims(x, axis=0)\n",
        "  x = preprocess_input(x)\n",
        "\n",
        "  preds = model.predict(x)\n",
        "  print(file,decode_predictions(preds, top=3)[0])"
      ],
      "metadata": {
        "colab": {
          "base_uri": "https://localhost:8080/"
        },
        "id": "GJXGkvIqRwA8",
        "outputId": "272ad3ec-d792-425a-9da8-8139c91bc566"
      },
      "execution_count": 132,
      "outputs": [
        {
          "output_type": "stream",
          "name": "stdout",
          "text": [
            "1/1 [==============================] - 0s 22ms/step\n",
            "4_5_1_006_09_3_bm3d_denoised.jpg [('n03388043', 'fountain', 0.3398046), ('n03598930', 'jigsaw_puzzle', 0.25789684), ('n04589890', 'window_screen', 0.14422055)]\n",
            "1/1 [==============================] - 0s 22ms/step\n",
            "4_5_1_005_09_3_bm3d_denoised.jpg [('n03388043', 'fountain', 0.20231587), ('n04589890', 'window_screen', 0.15705128), ('n03000134', 'chainlink_fence', 0.1515127)]\n",
            "1/1 [==============================] - 0s 22ms/step\n",
            "4_5_1_003_09_3_bm3d_denoised.jpg [('n03388043', 'fountain', 0.7029079), ('n03000134', 'chainlink_fence', 0.099072166), ('n04589890', 'window_screen', 0.07562682)]\n",
            "1/1 [==============================] - 0s 21ms/step\n",
            "4_5_1_007_09_3_bm3d_denoised.jpg [('n03000134', 'chainlink_fence', 0.19421068), ('n03598930', 'jigsaw_puzzle', 0.17678717), ('n04589890', 'window_screen', 0.077999145)]\n",
            "1/1 [==============================] - 0s 23ms/step\n",
            "4_5_1_004_09_3_bm3d_denoised.jpg [('n03733281', 'maze', 0.17807752), ('n03388043', 'fountain', 0.10788317), ('n03598930', 'jigsaw_puzzle', 0.08746294)]\n",
            "1/1 [==============================] - 0s 21ms/step\n",
            "4_5_1_008_09_3_bm3d_denoised.jpg [('n04589890', 'window_screen', 0.17053811), ('n03598930', 'jigsaw_puzzle', 0.15044841), ('n04033995', 'quilt', 0.054643724)]\n",
            "1/1 [==============================] - 0s 21ms/step\n",
            "4_5_1_010_09_3_bm3d_denoised.jpg [('n03388043', 'fountain', 0.37166065), ('n04589890', 'window_screen', 0.09334779), ('n03598930', 'jigsaw_puzzle', 0.06771884)]\n",
            "1/1 [==============================] - 0s 35ms/step\n",
            "4_5_1_001_09_3_bm3d_denoised.jpg [('n03388043', 'fountain', 0.34358963), ('n04589890', 'window_screen', 0.33572322), ('n03000134', 'chainlink_fence', 0.09137926)]\n",
            "1/1 [==============================] - 0s 23ms/step\n",
            "4_5_1_002_09_3_bm3d_denoised.jpg [('n04589890', 'window_screen', 0.2877393), ('n03598930', 'jigsaw_puzzle', 0.16708066), ('n03388043', 'fountain', 0.16314863)]\n",
            "1/1 [==============================] - 0s 24ms/step\n",
            "4_5_1_009_09_3_bm3d_denoised.jpg [('n03598930', 'jigsaw_puzzle', 0.30985144), ('n03388043', 'fountain', 0.30708063), ('n04589890', 'window_screen', 0.05484072)]\n"
          ]
        }
      ]
    },
    {
      "cell_type": "markdown",
      "source": [
        "### Level 5"
      ],
      "metadata": {
        "id": "qgseFqarRwA9"
      }
    },
    {
      "cell_type": "markdown",
      "source": [
        "#### Noisy"
      ],
      "metadata": {
        "id": "9S7Ua-ryRwA9"
      }
    },
    {
      "cell_type": "code",
      "source": [
        "filepath = '/content/drive/MyDrive/ECE_6258_DIP/OR Images/09_spnoise/level5/09_spnoise_level5'\n",
        "noisy_preds = []\n",
        "for file in os.listdir(filepath):\n",
        "  img = image.load_img(filepath+'/'+file, target_size=(224, 224))\n",
        "  x = image.img_to_array(img)\n",
        "  x = np.expand_dims(x, axis=0)\n",
        "  x = preprocess_input(x)\n",
        "\n",
        "  preds = model.predict(x)\n",
        "  print(file,decode_predictions(preds, top=3)[0])"
      ],
      "metadata": {
        "colab": {
          "base_uri": "https://localhost:8080/"
        },
        "outputId": "caa5ee86-b3a0-43dd-8eca-d0f40ba7080e",
        "id": "ucKtu58iRwA-"
      },
      "execution_count": 133,
      "outputs": [
        {
          "output_type": "stream",
          "name": "stdout",
          "text": [
            "1/1 [==============================] - 0s 23ms/step\n",
            "4_5_1_010_09_5.jpg [('n04409515', 'tennis_ball', 0.76343274), ('n03000247', 'chain_mail', 0.13566591), ('n04589890', 'window_screen', 0.050078053)]\n",
            "1/1 [==============================] - 0s 22ms/step\n",
            "4_5_1_009_09_5.jpg [('n04589890', 'window_screen', 0.38842544), ('n03000247', 'chain_mail', 0.3816944), ('n04409515', 'tennis_ball', 0.1391401)]\n",
            "1/1 [==============================] - 0s 20ms/step\n",
            "4_5_1_008_09_5.jpg [('n04409515', 'tennis_ball', 0.40890938), ('n03000247', 'chain_mail', 0.3399473), ('n04589890', 'window_screen', 0.08757387)]\n",
            "1/1 [==============================] - 0s 25ms/step\n",
            "4_5_1_007_09_5.jpg [('n04409515', 'tennis_ball', 0.40665746), ('n04589890', 'window_screen', 0.24862242), ('n03000247', 'chain_mail', 0.20646107)]\n",
            "1/1 [==============================] - 0s 22ms/step\n",
            "4_5_1_002_09_5.jpg [('n04409515', 'tennis_ball', 0.5610446), ('n03000247', 'chain_mail', 0.19102), ('n04589890', 'window_screen', 0.1013694)]\n",
            "1/1 [==============================] - 0s 22ms/step\n",
            "4_5_1_006_09_5.jpg [('n04409515', 'tennis_ball', 0.4768504), ('n03000247', 'chain_mail', 0.3310918), ('n04589890', 'window_screen', 0.06597246)]\n",
            "1/1 [==============================] - 0s 22ms/step\n",
            "4_5_1_003_09_5.jpg [('n04409515', 'tennis_ball', 0.60386807), ('n03000247', 'chain_mail', 0.21036594), ('n04589890', 'window_screen', 0.087127134)]\n",
            "1/1 [==============================] - 0s 21ms/step\n",
            "4_5_1_005_09_5.jpg [('n04409515', 'tennis_ball', 0.5278832), ('n03000247', 'chain_mail', 0.28225037), ('n04589890', 'window_screen', 0.08939286)]\n",
            "1/1 [==============================] - 0s 26ms/step\n",
            "4_5_1_001_09_5.jpg [('n04409515', 'tennis_ball', 0.5299032), ('n04589890', 'window_screen', 0.19768979), ('n03000247', 'chain_mail', 0.13246241)]\n",
            "1/1 [==============================] - 0s 25ms/step\n",
            "4_5_1_004_09_5.jpg [('n03000247', 'chain_mail', 0.5411244), ('n04409515', 'tennis_ball', 0.1918673), ('n04589890', 'window_screen', 0.16150759)]\n"
          ]
        }
      ]
    },
    {
      "cell_type": "markdown",
      "source": [
        "### NLM Denoised"
      ],
      "metadata": {
        "id": "Qw2fbtycRwA_"
      }
    },
    {
      "cell_type": "code",
      "source": [
        "filepath = '/content/drive/MyDrive/ECE_6258_DIP/OR Images/09_spnoise/level5/09_spnoise_level5_denoised'\n",
        "noisy_preds = []\n",
        "for file in os.listdir(filepath):\n",
        "  img = image.load_img(filepath+'/'+file, target_size=(224, 224))\n",
        "  x = image.img_to_array(img)\n",
        "  x = np.expand_dims(x, axis=0)\n",
        "  x = preprocess_input(x)\n",
        "\n",
        "  preds = model.predict(x)\n",
        "  print(file,decode_predictions(preds, top=3)[0])"
      ],
      "metadata": {
        "colab": {
          "base_uri": "https://localhost:8080/"
        },
        "id": "KB5UO5paRwBA",
        "outputId": "c715ebf6-b632-4861-c8e6-a235da3cad58"
      },
      "execution_count": 134,
      "outputs": [
        {
          "output_type": "stream",
          "name": "stdout",
          "text": [
            "1/1 [==============================] - 0s 22ms/step\n",
            "4_5_1_004_09_5_denoised.jpg [('n02018207', 'American_coot', 0.10584504), ('n03595614', 'jersey', 0.044644926), ('n01776313', 'tick', 0.022575537)]\n",
            "1/1 [==============================] - 0s 24ms/step\n",
            "4_5_1_005_09_5_denoised.jpg [('n03595614', 'jersey', 0.06722764), ('n04589890', 'window_screen', 0.052741017), ('n03347037', 'fire_screen', 0.037877593)]\n",
            "1/1 [==============================] - 0s 20ms/step\n",
            "4_5_1_006_09_5_denoised.jpg [('n02018207', 'American_coot', 0.058781546), ('n04589890', 'window_screen', 0.048035957), ('n04548362', 'wallet', 0.042063396)]\n",
            "1/1 [==============================] - 0s 23ms/step\n",
            "4_5_1_002_09_5_denoised.jpg [('n02018207', 'American_coot', 0.15986203), ('n03595614', 'jersey', 0.041883413), ('n02454379', 'armadillo', 0.026660407)]\n",
            "1/1 [==============================] - 0s 21ms/step\n",
            "4_5_1_001_09_5_denoised.jpg [('n02018207', 'American_coot', 0.077245705), ('n04589890', 'window_screen', 0.050838962), ('n03347037', 'fire_screen', 0.028531771)]\n",
            "1/1 [==============================] - 0s 24ms/step\n",
            "4_5_1_003_09_5_denoised.jpg [('n04589890', 'window_screen', 0.09110243), ('n03347037', 'fire_screen', 0.06971263), ('n03595614', 'jersey', 0.03387779)]\n",
            "1/1 [==============================] - 0s 23ms/step\n",
            "4_5_1_008_09_5_denoised.jpg [('n04589890', 'window_screen', 0.12144474), ('n02454379', 'armadillo', 0.07904127), ('n03347037', 'fire_screen', 0.05719537)]\n",
            "1/1 [==============================] - 0s 24ms/step\n",
            "4_5_1_007_09_5_denoised.jpg [('n03595614', 'jersey', 0.06491333), ('n04589890', 'window_screen', 0.061256163), ('n03347037', 'fire_screen', 0.04901582)]\n",
            "1/1 [==============================] - 0s 24ms/step\n",
            "4_5_1_010_09_5_denoised.jpg [('n02018207', 'American_coot', 0.04645683), ('n04589890', 'window_screen', 0.03581256), ('n02454379', 'armadillo', 0.031601463)]\n",
            "1/1 [==============================] - 0s 32ms/step\n",
            "4_5_1_009_09_5_denoised.jpg [('n02018207', 'American_coot', 0.07955979), ('n02002724', 'black_stork', 0.03608528), ('n02445715', 'skunk', 0.029836886)]\n"
          ]
        }
      ]
    },
    {
      "cell_type": "markdown",
      "source": [
        "### BM3D Denoised"
      ],
      "metadata": {
        "id": "RstXZ32rRwBB"
      }
    },
    {
      "cell_type": "code",
      "source": [
        "filepath = '/content/drive/MyDrive/ECE_6258_DIP/OR Images/09_spnoise/level5/09_spnoise_level5_bm3d_denoised'\n",
        "noisy_preds = []\n",
        "for file in os.listdir(filepath):\n",
        "  img = image.load_img(filepath+'/'+file, target_size=(224, 224))\n",
        "  x = image.img_to_array(img)\n",
        "  x = np.expand_dims(x, axis=0)\n",
        "  x = preprocess_input(x)\n",
        "\n",
        "  preds = model.predict(x)\n",
        "  print(file,decode_predictions(preds, top=3)[0])"
      ],
      "metadata": {
        "colab": {
          "base_uri": "https://localhost:8080/"
        },
        "id": "3AiUsS9gRwBC",
        "outputId": "b9eed026-d4a4-4bee-d76b-2196426870a4"
      },
      "execution_count": 135,
      "outputs": [
        {
          "output_type": "stream",
          "name": "stdout",
          "text": [
            "1/1 [==============================] - 0s 21ms/step\n",
            "4_5_1_009_09_5_bm3d_denoised.jpg [('n03000247', 'chain_mail', 0.484098), ('n04589890', 'window_screen', 0.38232833), ('n04409515', 'tennis_ball', 0.03320622)]\n",
            "1/1 [==============================] - 0s 21ms/step\n",
            "4_5_1_010_09_5_bm3d_denoised.jpg [('n04409515', 'tennis_ball', 0.8789534), ('n04589890', 'window_screen', 0.04742509), ('n03000247', 'chain_mail', 0.024404196)]\n",
            "1/1 [==============================] - 0s 25ms/step\n",
            "4_5_1_008_09_5_bm3d_denoised.jpg [('n04409515', 'tennis_ball', 0.58567864), ('n04589890', 'window_screen', 0.113704115), ('n03000247', 'chain_mail', 0.11327659)]\n",
            "1/1 [==============================] - 0s 21ms/step\n",
            "4_5_1_007_09_5_bm3d_denoised.jpg [('n04409515', 'tennis_ball', 0.37789378), ('n04589890', 'window_screen', 0.3641253), ('n03000247', 'chain_mail', 0.102179)]\n",
            "1/1 [==============================] - 0s 21ms/step\n",
            "4_5_1_006_09_5_bm3d_denoised.jpg [('n04409515', 'tennis_ball', 0.76998806), ('n04589890', 'window_screen', 0.06468074), ('n03445777', 'golf_ball', 0.058920458)]\n",
            "1/1 [==============================] - 0s 22ms/step\n",
            "4_5_1_005_09_5_bm3d_denoised.jpg [('n04409515', 'tennis_ball', 0.56176126), ('n03000247', 'chain_mail', 0.21299717), ('n04589890', 'window_screen', 0.12803502)]\n",
            "1/1 [==============================] - 0s 23ms/step\n",
            "4_5_1_004_09_5_bm3d_denoised.jpg [('n03000247', 'chain_mail', 0.48647684), ('n04589890', 'window_screen', 0.22819157), ('n04409515', 'tennis_ball', 0.18395557)]\n",
            "1/1 [==============================] - 0s 22ms/step\n",
            "4_5_1_002_09_5_bm3d_denoised.jpg [('n04409515', 'tennis_ball', 0.6782731), ('n04589890', 'window_screen', 0.11185482), ('n03000247', 'chain_mail', 0.056360707)]\n",
            "1/1 [==============================] - 0s 21ms/step\n",
            "4_5_1_001_09_5_bm3d_denoised.jpg [('n04409515', 'tennis_ball', 0.4385716), ('n04589890', 'window_screen', 0.29035956), ('n03000247', 'chain_mail', 0.118395306)]\n",
            "1/1 [==============================] - 0s 22ms/step\n",
            "4_5_1_003_09_5_bm3d_denoised.jpg [('n04409515', 'tennis_ball', 0.7625421), ('n04589890', 'window_screen', 0.091338135), ('n03000247', 'chain_mail', 0.059106056)]\n"
          ]
        }
      ]
    }
  ]
}